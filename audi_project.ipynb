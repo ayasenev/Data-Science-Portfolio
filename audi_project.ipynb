{
 "cells": [
  {
   "cell_type": "markdown",
   "metadata": {},
   "source": [
    "# Creating and Testing A Machine Learning Model on UK Audi Car Sales"
   ]
  },
  {
   "cell_type": "markdown",
   "metadata": {},
   "source": [
    "## The Data"
   ]
  },
  {
   "cell_type": "markdown",
   "metadata": {},
   "source": [
    "The data set, 100,000 UK Used Car Data Set, is obtained from Kaggle at https://www.kaggle.com/adityadesai13/used-car-dataset-ford-and-mercedes. Various tables comprise the set. I've specifically used the Audi car sales for this project due to (1) keeping the amount of data sufficiently small yet effective and (2) a curiousity to see how Audis in particular are priced in the UK. The Audi data set is composed of about 10,000 records and 9 features. The features are model, year, price, transmission, mileage, fuel type, tax, mpg, and engine size."
   ]
  },
  {
   "cell_type": "markdown",
   "metadata": {},
   "source": [
    "## Purpose"
   ]
  },
  {
   "cell_type": "markdown",
   "metadata": {},
   "source": [
    "This project will seek to explore the data, and then test and tune several machine learning models to gather predictive ability on car price. "
   ]
  },
  {
   "cell_type": "markdown",
   "metadata": {},
   "source": [
    "### Exploratory Analysis"
   ]
  },
  {
   "cell_type": "markdown",
   "metadata": {},
   "source": [
    "##### import libraries"
   ]
  },
  {
   "cell_type": "code",
   "execution_count": 1,
   "metadata": {},
   "outputs": [],
   "source": [
    "import numpy as np\n",
    "import pandas as pd\n",
    "import matplotlib.pyplot as plt\n",
    "import seaborn as sns"
   ]
  },
  {
   "cell_type": "markdown",
   "metadata": {},
   "source": [
    "##### audi data"
   ]
  },
  {
   "cell_type": "code",
   "execution_count": 2,
   "metadata": {},
   "outputs": [],
   "source": [
    "audi = pd.read_csv('audi.csv')"
   ]
  },
  {
   "cell_type": "code",
   "execution_count": 3,
   "metadata": {},
   "outputs": [
    {
     "data": {
      "text/html": [
       "<div>\n",
       "<style scoped>\n",
       "    .dataframe tbody tr th:only-of-type {\n",
       "        vertical-align: middle;\n",
       "    }\n",
       "\n",
       "    .dataframe tbody tr th {\n",
       "        vertical-align: top;\n",
       "    }\n",
       "\n",
       "    .dataframe thead th {\n",
       "        text-align: right;\n",
       "    }\n",
       "</style>\n",
       "<table border=\"1\" class=\"dataframe\">\n",
       "  <thead>\n",
       "    <tr style=\"text-align: right;\">\n",
       "      <th></th>\n",
       "      <th>model</th>\n",
       "      <th>year</th>\n",
       "      <th>price</th>\n",
       "      <th>transmission</th>\n",
       "      <th>mileage</th>\n",
       "      <th>fuelType</th>\n",
       "      <th>tax</th>\n",
       "      <th>mpg</th>\n",
       "      <th>engineSize</th>\n",
       "    </tr>\n",
       "  </thead>\n",
       "  <tbody>\n",
       "    <tr>\n",
       "      <td>0</td>\n",
       "      <td>A1</td>\n",
       "      <td>2017</td>\n",
       "      <td>12500</td>\n",
       "      <td>Manual</td>\n",
       "      <td>15735</td>\n",
       "      <td>Petrol</td>\n",
       "      <td>150</td>\n",
       "      <td>55.4</td>\n",
       "      <td>1.4</td>\n",
       "    </tr>\n",
       "    <tr>\n",
       "      <td>1</td>\n",
       "      <td>A6</td>\n",
       "      <td>2016</td>\n",
       "      <td>16500</td>\n",
       "      <td>Automatic</td>\n",
       "      <td>36203</td>\n",
       "      <td>Diesel</td>\n",
       "      <td>20</td>\n",
       "      <td>64.2</td>\n",
       "      <td>2.0</td>\n",
       "    </tr>\n",
       "    <tr>\n",
       "      <td>2</td>\n",
       "      <td>A1</td>\n",
       "      <td>2016</td>\n",
       "      <td>11000</td>\n",
       "      <td>Manual</td>\n",
       "      <td>29946</td>\n",
       "      <td>Petrol</td>\n",
       "      <td>30</td>\n",
       "      <td>55.4</td>\n",
       "      <td>1.4</td>\n",
       "    </tr>\n",
       "    <tr>\n",
       "      <td>3</td>\n",
       "      <td>A4</td>\n",
       "      <td>2017</td>\n",
       "      <td>16800</td>\n",
       "      <td>Automatic</td>\n",
       "      <td>25952</td>\n",
       "      <td>Diesel</td>\n",
       "      <td>145</td>\n",
       "      <td>67.3</td>\n",
       "      <td>2.0</td>\n",
       "    </tr>\n",
       "    <tr>\n",
       "      <td>4</td>\n",
       "      <td>A3</td>\n",
       "      <td>2019</td>\n",
       "      <td>17300</td>\n",
       "      <td>Manual</td>\n",
       "      <td>1998</td>\n",
       "      <td>Petrol</td>\n",
       "      <td>145</td>\n",
       "      <td>49.6</td>\n",
       "      <td>1.0</td>\n",
       "    </tr>\n",
       "  </tbody>\n",
       "</table>\n",
       "</div>"
      ],
      "text/plain": [
       "  model  year  price transmission  mileage fuelType  tax   mpg  engineSize\n",
       "0    A1  2017  12500       Manual    15735   Petrol  150  55.4         1.4\n",
       "1    A6  2016  16500    Automatic    36203   Diesel   20  64.2         2.0\n",
       "2    A1  2016  11000       Manual    29946   Petrol   30  55.4         1.4\n",
       "3    A4  2017  16800    Automatic    25952   Diesel  145  67.3         2.0\n",
       "4    A3  2019  17300       Manual     1998   Petrol  145  49.6         1.0"
      ]
     },
     "execution_count": 3,
     "metadata": {},
     "output_type": "execute_result"
    }
   ],
   "source": [
    "audi.head()"
   ]
  },
  {
   "cell_type": "markdown",
   "metadata": {},
   "source": [
    "##### statistics"
   ]
  },
  {
   "cell_type": "code",
   "execution_count": 4,
   "metadata": {},
   "outputs": [
    {
     "data": {
      "text/html": [
       "<div>\n",
       "<style scoped>\n",
       "    .dataframe tbody tr th:only-of-type {\n",
       "        vertical-align: middle;\n",
       "    }\n",
       "\n",
       "    .dataframe tbody tr th {\n",
       "        vertical-align: top;\n",
       "    }\n",
       "\n",
       "    .dataframe thead th {\n",
       "        text-align: right;\n",
       "    }\n",
       "</style>\n",
       "<table border=\"1\" class=\"dataframe\">\n",
       "  <thead>\n",
       "    <tr style=\"text-align: right;\">\n",
       "      <th></th>\n",
       "      <th>count</th>\n",
       "      <th>mean</th>\n",
       "      <th>std</th>\n",
       "      <th>min</th>\n",
       "      <th>25%</th>\n",
       "      <th>50%</th>\n",
       "      <th>75%</th>\n",
       "      <th>max</th>\n",
       "    </tr>\n",
       "  </thead>\n",
       "  <tbody>\n",
       "    <tr>\n",
       "      <td>year</td>\n",
       "      <td>10668.0</td>\n",
       "      <td>2017.100675</td>\n",
       "      <td>2.167494</td>\n",
       "      <td>1997.0</td>\n",
       "      <td>2016.00</td>\n",
       "      <td>2017.0</td>\n",
       "      <td>2019.0</td>\n",
       "      <td>2020.0</td>\n",
       "    </tr>\n",
       "    <tr>\n",
       "      <td>price</td>\n",
       "      <td>10668.0</td>\n",
       "      <td>22896.685039</td>\n",
       "      <td>11714.841888</td>\n",
       "      <td>1490.0</td>\n",
       "      <td>15130.75</td>\n",
       "      <td>20200.0</td>\n",
       "      <td>27990.0</td>\n",
       "      <td>145000.0</td>\n",
       "    </tr>\n",
       "    <tr>\n",
       "      <td>mileage</td>\n",
       "      <td>10668.0</td>\n",
       "      <td>24827.244001</td>\n",
       "      <td>23505.257205</td>\n",
       "      <td>1.0</td>\n",
       "      <td>5968.75</td>\n",
       "      <td>19000.0</td>\n",
       "      <td>36464.5</td>\n",
       "      <td>323000.0</td>\n",
       "    </tr>\n",
       "    <tr>\n",
       "      <td>tax</td>\n",
       "      <td>10668.0</td>\n",
       "      <td>126.011436</td>\n",
       "      <td>67.170294</td>\n",
       "      <td>0.0</td>\n",
       "      <td>125.00</td>\n",
       "      <td>145.0</td>\n",
       "      <td>145.0</td>\n",
       "      <td>580.0</td>\n",
       "    </tr>\n",
       "    <tr>\n",
       "      <td>mpg</td>\n",
       "      <td>10668.0</td>\n",
       "      <td>50.770022</td>\n",
       "      <td>12.949782</td>\n",
       "      <td>18.9</td>\n",
       "      <td>40.90</td>\n",
       "      <td>49.6</td>\n",
       "      <td>58.9</td>\n",
       "      <td>188.3</td>\n",
       "    </tr>\n",
       "    <tr>\n",
       "      <td>engineSize</td>\n",
       "      <td>10668.0</td>\n",
       "      <td>1.930709</td>\n",
       "      <td>0.602957</td>\n",
       "      <td>0.0</td>\n",
       "      <td>1.50</td>\n",
       "      <td>2.0</td>\n",
       "      <td>2.0</td>\n",
       "      <td>6.3</td>\n",
       "    </tr>\n",
       "  </tbody>\n",
       "</table>\n",
       "</div>"
      ],
      "text/plain": [
       "              count          mean           std     min       25%      50%  \\\n",
       "year        10668.0   2017.100675      2.167494  1997.0   2016.00   2017.0   \n",
       "price       10668.0  22896.685039  11714.841888  1490.0  15130.75  20200.0   \n",
       "mileage     10668.0  24827.244001  23505.257205     1.0   5968.75  19000.0   \n",
       "tax         10668.0    126.011436     67.170294     0.0    125.00    145.0   \n",
       "mpg         10668.0     50.770022     12.949782    18.9     40.90     49.6   \n",
       "engineSize  10668.0      1.930709      0.602957     0.0      1.50      2.0   \n",
       "\n",
       "                75%       max  \n",
       "year         2019.0    2020.0  \n",
       "price       27990.0  145000.0  \n",
       "mileage     36464.5  323000.0  \n",
       "tax           145.0     580.0  \n",
       "mpg            58.9     188.3  \n",
       "engineSize      2.0       6.3  "
      ]
     },
     "execution_count": 4,
     "metadata": {},
     "output_type": "execute_result"
    }
   ],
   "source": [
    "audi.describe().transpose()"
   ]
  },
  {
   "cell_type": "markdown",
   "metadata": {},
   "source": [
    "##### info"
   ]
  },
  {
   "cell_type": "code",
   "execution_count": 5,
   "metadata": {},
   "outputs": [
    {
     "name": "stdout",
     "output_type": "stream",
     "text": [
      "<class 'pandas.core.frame.DataFrame'>\n",
      "RangeIndex: 10668 entries, 0 to 10667\n",
      "Data columns (total 9 columns):\n",
      "model           10668 non-null object\n",
      "year            10668 non-null int64\n",
      "price           10668 non-null int64\n",
      "transmission    10668 non-null object\n",
      "mileage         10668 non-null int64\n",
      "fuelType        10668 non-null object\n",
      "tax             10668 non-null int64\n",
      "mpg             10668 non-null float64\n",
      "engineSize      10668 non-null float64\n",
      "dtypes: float64(2), int64(4), object(3)\n",
      "memory usage: 750.2+ KB\n"
     ]
    }
   ],
   "source": [
    "audi.info()"
   ]
  },
  {
   "cell_type": "markdown",
   "metadata": {},
   "source": [
    "#### get counts of the categories for all categorical columns"
   ]
  },
  {
   "cell_type": "markdown",
   "metadata": {},
   "source": [
    "##### transmission"
   ]
  },
  {
   "cell_type": "code",
   "execution_count": 6,
   "metadata": {},
   "outputs": [
    {
     "data": {
      "text/plain": [
       "Manual       4369\n",
       "Semi-Auto    3591\n",
       "Automatic    2708\n",
       "Name: transmission, dtype: int64"
      ]
     },
     "execution_count": 6,
     "metadata": {},
     "output_type": "execute_result"
    }
   ],
   "source": [
    "audi['transmission'].value_counts()"
   ]
  },
  {
   "cell_type": "markdown",
   "metadata": {},
   "source": [
    "##### fuel type"
   ]
  },
  {
   "cell_type": "code",
   "execution_count": 7,
   "metadata": {},
   "outputs": [
    {
     "data": {
      "text/plain": [
       "Diesel    5577\n",
       "Petrol    5063\n",
       "Hybrid      28\n",
       "Name: fuelType, dtype: int64"
      ]
     },
     "execution_count": 7,
     "metadata": {},
     "output_type": "execute_result"
    }
   ],
   "source": [
    "audi['fuelType'].value_counts()"
   ]
  },
  {
   "cell_type": "markdown",
   "metadata": {},
   "source": [
    "##### model"
   ]
  },
  {
   "cell_type": "code",
   "execution_count": 8,
   "metadata": {},
   "outputs": [
    {
     "data": {
      "text/plain": [
       " A3     1929\n",
       " Q3     1417\n",
       " A4     1381\n",
       " A1     1347\n",
       " A5      882\n",
       " Q5      877\n",
       " Q2      822\n",
       " A6      748\n",
       " Q7      397\n",
       " TT      336\n",
       " A7      122\n",
       " A8      118\n",
       " Q8       69\n",
       " RS6      39\n",
       " RS3      33\n",
       " RS4      31\n",
       " RS5      29\n",
       " R8       28\n",
       " S3       18\n",
       " SQ5      16\n",
       " S4       12\n",
       " SQ7       8\n",
       " S8        4\n",
       " S5        3\n",
       " A2        1\n",
       " RS7       1\n",
       "Name: model, dtype: int64"
      ]
     },
     "execution_count": 8,
     "metadata": {},
     "output_type": "execute_result"
    }
   ],
   "source": [
    "audi['model'].value_counts()"
   ]
  },
  {
   "cell_type": "markdown",
   "metadata": {},
   "source": [
    "##### year"
   ]
  },
  {
   "cell_type": "code",
   "execution_count": 9,
   "metadata": {
    "scrolled": false
   },
   "outputs": [
    {
     "data": {
      "text/plain": [
       "2019    3197\n",
       "2016    1964\n",
       "2017    1935\n",
       "2015     999\n",
       "2018     864\n",
       "2020     716\n",
       "2014     447\n",
       "2013     291\n",
       "2012      85\n",
       "2011      47\n",
       "2010      32\n",
       "2009      23\n",
       "2008      21\n",
       "2007      16\n",
       "2006       9\n",
       "2005       7\n",
       "2003       6\n",
       "2004       5\n",
       "2002       2\n",
       "1997       1\n",
       "1998       1\n",
       "Name: year, dtype: int64"
      ]
     },
     "execution_count": 9,
     "metadata": {},
     "output_type": "execute_result"
    }
   ],
   "source": [
    "audi['year'].value_counts()"
   ]
  },
  {
   "cell_type": "markdown",
   "metadata": {},
   "source": [
    "###### engine size"
   ]
  },
  {
   "cell_type": "code",
   "execution_count": 10,
   "metadata": {},
   "outputs": [
    {
     "data": {
      "text/plain": [
       "2.0    5169\n",
       "1.4    1594\n",
       "3.0    1149\n",
       "1.6     913\n",
       "1.5     744\n",
       "1.0     558\n",
       "4.0     154\n",
       "1.8     126\n",
       "2.5      61\n",
       "0.0      57\n",
       "2.9      49\n",
       "1.2      31\n",
       "4.2      25\n",
       "5.2      23\n",
       "3.2       5\n",
       "1.9       4\n",
       "2.7       3\n",
       "4.1       2\n",
       "6.3       1\n",
       "Name: engineSize, dtype: int64"
      ]
     },
     "execution_count": 10,
     "metadata": {},
     "output_type": "execute_result"
    }
   ],
   "source": [
    "audi['engineSize'].value_counts()"
   ]
  },
  {
   "cell_type": "markdown",
   "metadata": {},
   "source": [
    "#### distribution of prices (in Euros)"
   ]
  },
  {
   "cell_type": "code",
   "execution_count": 11,
   "metadata": {
    "scrolled": false
   },
   "outputs": [
    {
     "data": {
      "text/plain": [
       "<matplotlib.axes._subplots.AxesSubplot at 0x9c4366c988>"
      ]
     },
     "execution_count": 11,
     "metadata": {},
     "output_type": "execute_result"
    },
    {
     "data": {
      "image/png": "[encoded data removed]",
      "text/plain": [
       "<Figure size 720x432 with 1 Axes>"
      ]
     },
     "metadata": {
      "needs_background": "light"
     },
     "output_type": "display_data"
    }
   ],
   "source": [
    "plt.figure(figsize = (10,6))\n",
    "sns.distplot(audi['price'], kde = False, bins = 80)"
   ]
  },
  {
   "cell_type": "markdown",
   "metadata": {},
   "source": [
    "The majority of car prices center around the 20,000 mark. There is a large right-tail extending to roughly 140,000. As expected considering sports models comprise some of the sales. These outliers may interfere with regression prediction. I may choose to separate data to exclude them in order to better predict prices for the majority of cars. This will be determined during model tuning"
   ]
  },
  {
   "cell_type": "markdown",
   "metadata": {},
   "source": [
    "##### visualize years"
   ]
  },
  {
   "cell_type": "code",
   "execution_count": 12,
   "metadata": {},
   "outputs": [
    {
     "data": {
      "text/plain": [
       "<matplotlib.axes._subplots.AxesSubplot at 0x9c4378d908>"
      ]
     },
     "execution_count": 12,
     "metadata": {},
     "output_type": "execute_result"
    },
    {
     "data": {
      "image/png": "[encoded data removed]",
      "text/plain": [
       "<Figure size 720x432 with 1 Axes>"
      ]
     },
     "metadata": {
      "needs_background": "light"
     },
     "output_type": "display_data"
    }
   ],
   "source": [
    "plt.figure(figsize = (10,6))\n",
    "sns.countplot(audi['year'])"
   ]
  },
  {
   "cell_type": "markdown",
   "metadata": {},
   "source": [
    "Lots of cars registered in 2019, followed by 2016 and 2017. Left-tail distribution going back to 1997. Another issue? We'll see."
   ]
  },
  {
   "cell_type": "markdown",
   "metadata": {},
   "source": [
    "##### Mileage Chart"
   ]
  },
  {
   "cell_type": "code",
   "execution_count": 13,
   "metadata": {
    "scrolled": false
   },
   "outputs": [
    {
     "data": {
      "text/plain": [
       "<matplotlib.axes._subplots.AxesSubplot at 0x9c4394db48>"
      ]
     },
     "execution_count": 13,
     "metadata": {},
     "output_type": "execute_result"
    },
    {
     "data": {
      "image/png": "[encoded data removed]",
      "text/plain": [
       "<Figure size 720x432 with 1 Axes>"
      ]
     },
     "metadata": {
      "needs_background": "light"
     },
     "output_type": "display_data"
    }
   ],
   "source": [
    "plt.figure(figsize = (10,6))\n",
    "sns.distplot(audi['mileage'], kde = False)"
   ]
  },
  {
   "cell_type": "markdown",
   "metadata": {},
   "source": [
    "Extremely right-tailed distribution. The majority of cars being sold are under 50,000 miles"
   ]
  },
  {
   "cell_type": "markdown",
   "metadata": {},
   "source": [
    "##### MPG Distribution"
   ]
  },
  {
   "cell_type": "code",
   "execution_count": 14,
   "metadata": {
    "scrolled": false
   },
   "outputs": [
    {
     "data": {
      "text/plain": [
       "<matplotlib.axes._subplots.AxesSubplot at 0x9c438c18c8>"
      ]
     },
     "execution_count": 14,
     "metadata": {},
     "output_type": "execute_result"
    },
    {
     "data": {
      "image/png": "[encoded data removed]",
      "text/plain": [
       "<Figure size 720x432 with 1 Axes>"
      ]
     },
     "metadata": {
      "needs_background": "light"
     },
     "output_type": "display_data"
    }
   ],
   "source": [
    "plt.figure(figsize = (10,6))\n",
    "sns.distplot(audi['mpg'], kde = False)"
   ]
  },
  {
   "cell_type": "markdown",
   "metadata": {},
   "source": [
    "A fairly symmetric distribution around 50 MPG though with several outliers reaching past 175. Are those high values errors in data entry? Or are there audi's that have this feature? Need to reference Audi's website."
   ]
  },
  {
   "cell_type": "markdown",
   "metadata": {},
   "source": [
    "##### Box plot view of the mpg data"
   ]
  },
  {
   "cell_type": "code",
   "execution_count": 15,
   "metadata": {},
   "outputs": [
    {
     "data": {
      "text/plain": [
       "<matplotlib.axes._subplots.AxesSubplot at 0x9c43a7da08>"
      ]
     },
     "execution_count": 15,
     "metadata": {},
     "output_type": "execute_result"
    },
    {
     "data": {
      "image/png": "[encoded data removed]",
      "text/plain": [
       "<Figure size 1008x288 with 1 Axes>"
      ]
     },
     "metadata": {
      "needs_background": "light"
     },
     "output_type": "display_data"
    }
   ],
   "source": [
    "plt.figure(figsize = (14,4))\n",
    "sns.boxplot(audi['mpg'])"
   ]
  },
  {
   "cell_type": "markdown",
   "metadata": {},
   "source": [
    "5 outliers clearly seen here and need to be verified for accuracy."
   ]
  },
  {
   "cell_type": "markdown",
   "metadata": {},
   "source": [
    "##### Pairplot to visualize relationships between the features"
   ]
  },
  {
   "cell_type": "code",
   "execution_count": 16,
   "metadata": {},
   "outputs": [
    {
     "data": {
      "text/plain": [
       "<seaborn.axisgrid.PairGrid at 0x9c43b28b08>"
      ]
     },
     "execution_count": 16,
     "metadata": {},
     "output_type": "execute_result"
    },
    {
     "data": {
      "image/png": "[encoded data removed]",
      "text/plain": [
       "<Figure size 1080x1080 with 42 Axes>"
      ]
     },
     "metadata": {
      "needs_background": "light"
     },
     "output_type": "display_data"
    }
   ],
   "source": [
    "sns.pairplot(audi)"
   ]
  },
  {
   "cell_type": "markdown",
   "metadata": {},
   "source": [
    "Relationships of note:\n",
    "\n",
    "year and price: price trends upwards for newer years\n",
    "mileage and year: mileage trends downwards for newer years\n",
    "mileage and price: higher mileages associated with lower prices"
   ]
  },
  {
   "cell_type": "markdown",
   "metadata": {},
   "source": [
    "##### Correlation Matrix"
   ]
  },
  {
   "cell_type": "code",
   "execution_count": 17,
   "metadata": {},
   "outputs": [
    {
     "data": {
      "text/plain": [
       "<matplotlib.axes._subplots.AxesSubplot at 0x9c45e7b8c8>"
      ]
     },
     "execution_count": 17,
     "metadata": {},
     "output_type": "execute_result"
    },
    {
     "data": {
      "image/png": "[encoded data removed]",
      "text/plain": [
       "<Figure size 864x576 with 2 Axes>"
      ]
     },
     "metadata": {
      "needs_background": "light"
     },
     "output_type": "display_data"
    }
   ],
   "source": [
    "plt.figure(figsize = (12,8))\n",
    "sns.heatmap(audi.corr(), cmap = 'coolwarm', annot=True)"
   ]
  },
  {
   "cell_type": "markdown",
   "metadata": {},
   "source": [
    "Intuitive correlations are present. Price and year are pretty strongly correlated, while mileage and year are negatively correlated. Also, price and engine size and stronly correlated as well. Nothing is too strongly correlated that may affect a regression model, so there is no concern here."
   ]
  },
  {
   "cell_type": "markdown",
   "metadata": {},
   "source": [
    "The correlation matrix is missing model information. This is due to model being a categorical column. There must certainly be some correlation between model and price"
   ]
  },
  {
   "cell_type": "markdown",
   "metadata": {},
   "source": [
    "##### Model and Average Price"
   ]
  },
  {
   "cell_type": "code",
   "execution_count": 18,
   "metadata": {
    "scrolled": false
   },
   "outputs": [
    {
     "data": {
      "text/plain": [
       "Text(0.5, 1.0, 'Mean Price for Various Audi Models')"
      ]
     },
     "execution_count": 18,
     "metadata": {},
     "output_type": "execute_result"
    },
    {
     "data": {
      "image/png": "[encoded data removed]",
      "text/plain": [
       "<Figure size 1008x432 with 1 Axes>"
      ]
     },
     "metadata": {
      "needs_background": "light"
     },
     "output_type": "display_data"
    }
   ],
   "source": [
    "plt.figure(figsize = (14,6))\n",
    "sns.barplot(audi['model'], audi['price'], ci = None, )\n",
    "plt.title('Mean Price for Various Audi Models')"
   ]
  },
  {
   "cell_type": "markdown",
   "metadata": {},
   "source": [
    "The R8 boasts the highest mean price, which is of no surprise considering it's Tony Stark's vehicle of choice :)\n",
    "The Q8 is 2nd highest, followed by Q7"
   ]
  },
  {
   "cell_type": "code",
   "execution_count": 96,
   "metadata": {},
   "outputs": [
    {
     "data": {
      "text/plain": [
       "model\n",
       "A2      2490.000000\n",
       "A1     14327.750557\n",
       "S5     15980.000000\n",
       "A3     17408.522032\n",
       "A4     20255.450398\n",
       "S3     20379.444444\n",
       "TT     21784.452381\n",
       "Q2     22516.975669\n",
       "A6     22695.385027\n",
       "Q3     22999.261821\n",
       "A5     23577.114512\n",
       "A7     28865.516393\n",
       "Q5     30445.688712\n",
       "S4     31248.083333\n",
       "SQ5    31415.812500\n",
       "RS7    33490.000000\n",
       "S8     33807.750000\n",
       "RS3    34050.515152\n",
       "A8     34981.847458\n",
       "Q7     44788.319899\n",
       "SQ7    49269.000000\n",
       "RS4    50151.612903\n",
       "RS5    51265.206897\n",
       "RS6    55963.871795\n",
       "Q8     60115.014493\n",
       "R8     97652.214286\n",
       "Name: price, dtype: float64"
      ]
     },
     "execution_count": 96,
     "metadata": {},
     "output_type": "execute_result"
    }
   ],
   "source": [
    "audi.groupby('model').mean()['price'].sort_values()"
   ]
  },
  {
   "cell_type": "markdown",
   "metadata": {},
   "source": [
    "Showing the actual mean prices by model"
   ]
  },
  {
   "cell_type": "code",
   "execution_count": 19,
   "metadata": {
    "scrolled": false
   },
   "outputs": [
    {
     "data": {
      "text/plain": [
       "Text(0.5, 1.0, 'Mean Price for Various Audi Models and Transmission Type')"
      ]
     },
     "execution_count": 19,
     "metadata": {},
     "output_type": "execute_result"
    },
    {
     "data": {
      "image/png": "[encoded data removed]",
      "text/plain": [
       "<Figure size 1008x648 with 1 Axes>"
      ]
     },
     "metadata": {
      "needs_background": "light"
     },
     "output_type": "display_data"
    }
   ],
   "source": [
    "plt.figure(figsize = (14,9))\n",
    "sns.barplot(audi['model'], audi['price'], ci = None, hue= audi['transmission'])\n",
    "plt.title('Mean Price for Various Audi Models and Transmission Type')"
   ]
  },
  {
   "cell_type": "markdown",
   "metadata": {},
   "source": [
    "When splitting by transmission type, 'Semi-Auto' has highest mean price amongst transmission types for many of the models. This is especially true for the R8 model."
   ]
  },
  {
   "cell_type": "markdown",
   "metadata": {},
   "source": [
    "##### Now Splitting by Fuel Type"
   ]
  },
  {
   "cell_type": "code",
   "execution_count": 20,
   "metadata": {
    "scrolled": false
   },
   "outputs": [
    {
     "data": {
      "text/plain": [
       "Text(0.5, 1.0, 'Mean Price for Various Audi Models and Transmission Type')"
      ]
     },
     "execution_count": 20,
     "metadata": {},
     "output_type": "execute_result"
    },
    {
     "data": {
      "image/png": "[encoded data removed]",
      "text/plain": [
       "<Figure size 1296x864 with 1 Axes>"
      ]
     },
     "metadata": {
      "needs_background": "light"
     },
     "output_type": "display_data"
    }
   ],
   "source": [
    "plt.figure(figsize = (18,12))\n",
    "sns.barplot(audi['model'], audi['price'], ci = None, hue= audi['fuelType'])\n",
    "plt.title('Mean Price for Various Audi Models and Transmission Type')"
   ]
  },
  {
   "cell_type": "markdown",
   "metadata": {},
   "source": [
    "For where petrol and diesel are both options, petrol fuel type has a higher mean price than diesel fuel type for most cases"
   ]
  },
  {
   "cell_type": "markdown",
   "metadata": {},
   "source": [
    "##### Model and Total Sales"
   ]
  },
  {
   "cell_type": "code",
   "execution_count": 100,
   "metadata": {},
   "outputs": [
    {
     "data": {
      "text/plain": [
       "Text(0.5, 1.0, 'Sum of Sales for Various Audi Models')"
      ]
     },
     "execution_count": 100,
     "metadata": {},
     "output_type": "execute_result"
    },
    {
     "data": {
      "image/png": "[encoded data removed]",
      "text/plain": [
       "<Figure size 1008x432 with 1 Axes>"
      ]
     },
     "metadata": {
      "needs_background": "light"
     },
     "output_type": "display_data"
    }
   ],
   "source": [
    "plt.figure(figsize = (14,6))\n",
    "sns.barplot(audi['model'], audi['price'], ci = None, estimator = sum, capsize = 2)\n",
    "plt.title('Sum of Sales for Various Audi Models')"
   ]
  },
  {
   "cell_type": "markdown",
   "metadata": {},
   "source": [
    "A slightly different perspective shows us total sales across the different models. The A3 had highest sales total followed by Q3 and A4 respectively. The R8 sales total seems insignificant now."
   ]
  },
  {
   "cell_type": "markdown",
   "metadata": {},
   "source": [
    "##### Zooming in on MPG and Price Relationship"
   ]
  },
  {
   "cell_type": "code",
   "execution_count": 22,
   "metadata": {
    "scrolled": true
   },
   "outputs": [
    {
     "data": {
      "text/plain": [
       "Text(0, 0.5, 'Price (in Euros)')"
      ]
     },
     "execution_count": 22,
     "metadata": {},
     "output_type": "execute_result"
    },
    {
     "data": {
      "image/png": "[encoded data removed]",
      "text/plain": [
       "<Figure size 1008x360 with 1 Axes>"
      ]
     },
     "metadata": {
      "needs_background": "light"
     },
     "output_type": "display_data"
    }
   ],
   "source": [
    "plt.figure(figsize = (14,5))\n",
    "plt.scatter(audi['mpg'], audi['price'])\n",
    "plt.xlabel('MPG')\n",
    "plt.ylabel('Price (in Euros)')"
   ]
  },
  {
   "cell_type": "markdown",
   "metadata": {},
   "source": [
    "Things to note:\n",
    "\n",
    "* There is a large cluster in the bottom left corner. As MPG increases, the price filters down to lower values. In the top right corner, there is a vertical column of values with high price values and low MPG. These most likely represent sales of the sports model Audis. On the right hand side, prices for cars with > 100 MPG are all below 80,000. "
   ]
  },
  {
   "cell_type": "markdown",
   "metadata": {},
   "source": [
    "##### cars with very high mpg"
   ]
  },
  {
   "cell_type": "code",
   "execution_count": 23,
   "metadata": {
    "scrolled": false
   },
   "outputs": [
    {
     "data": {
      "text/html": [
       "<div>\n",
       "<style scoped>\n",
       "    .dataframe tbody tr th:only-of-type {\n",
       "        vertical-align: middle;\n",
       "    }\n",
       "\n",
       "    .dataframe tbody tr th {\n",
       "        vertical-align: top;\n",
       "    }\n",
       "\n",
       "    .dataframe thead th {\n",
       "        text-align: right;\n",
       "    }\n",
       "</style>\n",
       "<table border=\"1\" class=\"dataframe\">\n",
       "  <thead>\n",
       "    <tr style=\"text-align: right;\">\n",
       "      <th></th>\n",
       "      <th>model</th>\n",
       "      <th>year</th>\n",
       "      <th>price</th>\n",
       "      <th>transmission</th>\n",
       "      <th>mileage</th>\n",
       "      <th>fuelType</th>\n",
       "      <th>tax</th>\n",
       "      <th>mpg</th>\n",
       "      <th>engineSize</th>\n",
       "    </tr>\n",
       "  </thead>\n",
       "  <tbody>\n",
       "    <tr>\n",
       "      <td>864</td>\n",
       "      <td>A3</td>\n",
       "      <td>2020</td>\n",
       "      <td>31990</td>\n",
       "      <td>Semi-Auto</td>\n",
       "      <td>2165</td>\n",
       "      <td>Hybrid</td>\n",
       "      <td>135</td>\n",
       "      <td>141.3</td>\n",
       "      <td>1.4</td>\n",
       "    </tr>\n",
       "    <tr>\n",
       "      <td>2550</td>\n",
       "      <td>Q7</td>\n",
       "      <td>2017</td>\n",
       "      <td>32998</td>\n",
       "      <td>Semi-Auto</td>\n",
       "      <td>66477</td>\n",
       "      <td>Hybrid</td>\n",
       "      <td>140</td>\n",
       "      <td>156.9</td>\n",
       "      <td>3.0</td>\n",
       "    </tr>\n",
       "    <tr>\n",
       "      <td>3106</td>\n",
       "      <td>A3</td>\n",
       "      <td>2015</td>\n",
       "      <td>14981</td>\n",
       "      <td>Semi-Auto</td>\n",
       "      <td>28294</td>\n",
       "      <td>Hybrid</td>\n",
       "      <td>0</td>\n",
       "      <td>188.3</td>\n",
       "      <td>1.4</td>\n",
       "    </tr>\n",
       "    <tr>\n",
       "      <td>4261</td>\n",
       "      <td>A3</td>\n",
       "      <td>2015</td>\n",
       "      <td>17990</td>\n",
       "      <td>Automatic</td>\n",
       "      <td>14000</td>\n",
       "      <td>Hybrid</td>\n",
       "      <td>0</td>\n",
       "      <td>188.3</td>\n",
       "      <td>1.4</td>\n",
       "    </tr>\n",
       "    <tr>\n",
       "      <td>4493</td>\n",
       "      <td>A3</td>\n",
       "      <td>2014</td>\n",
       "      <td>15490</td>\n",
       "      <td>Automatic</td>\n",
       "      <td>24597</td>\n",
       "      <td>Hybrid</td>\n",
       "      <td>0</td>\n",
       "      <td>188.3</td>\n",
       "      <td>1.4</td>\n",
       "    </tr>\n",
       "    <tr>\n",
       "      <td>4559</td>\n",
       "      <td>A3</td>\n",
       "      <td>2015</td>\n",
       "      <td>16000</td>\n",
       "      <td>Semi-Auto</td>\n",
       "      <td>48954</td>\n",
       "      <td>Hybrid</td>\n",
       "      <td>0</td>\n",
       "      <td>176.6</td>\n",
       "      <td>1.4</td>\n",
       "    </tr>\n",
       "    <tr>\n",
       "      <td>4879</td>\n",
       "      <td>A3</td>\n",
       "      <td>2014</td>\n",
       "      <td>15000</td>\n",
       "      <td>Semi-Auto</td>\n",
       "      <td>24597</td>\n",
       "      <td>Hybrid</td>\n",
       "      <td>0</td>\n",
       "      <td>188.3</td>\n",
       "      <td>1.4</td>\n",
       "    </tr>\n",
       "    <tr>\n",
       "      <td>5666</td>\n",
       "      <td>Q7</td>\n",
       "      <td>2016</td>\n",
       "      <td>37999</td>\n",
       "      <td>Automatic</td>\n",
       "      <td>36461</td>\n",
       "      <td>Diesel</td>\n",
       "      <td>0</td>\n",
       "      <td>156.9</td>\n",
       "      <td>3.0</td>\n",
       "    </tr>\n",
       "    <tr>\n",
       "      <td>5717</td>\n",
       "      <td>A3</td>\n",
       "      <td>2016</td>\n",
       "      <td>18900</td>\n",
       "      <td>Semi-Auto</td>\n",
       "      <td>18486</td>\n",
       "      <td>Hybrid</td>\n",
       "      <td>0</td>\n",
       "      <td>176.6</td>\n",
       "      <td>1.4</td>\n",
       "    </tr>\n",
       "    <tr>\n",
       "      <td>5981</td>\n",
       "      <td>Q7</td>\n",
       "      <td>2016</td>\n",
       "      <td>34999</td>\n",
       "      <td>Semi-Auto</td>\n",
       "      <td>36461</td>\n",
       "      <td>Diesel</td>\n",
       "      <td>0</td>\n",
       "      <td>156.9</td>\n",
       "      <td>3.0</td>\n",
       "    </tr>\n",
       "    <tr>\n",
       "      <td>6382</td>\n",
       "      <td>A3</td>\n",
       "      <td>2020</td>\n",
       "      <td>32495</td>\n",
       "      <td>Semi-Auto</td>\n",
       "      <td>7500</td>\n",
       "      <td>Hybrid</td>\n",
       "      <td>135</td>\n",
       "      <td>141.3</td>\n",
       "      <td>1.4</td>\n",
       "    </tr>\n",
       "    <tr>\n",
       "      <td>8323</td>\n",
       "      <td>A3</td>\n",
       "      <td>2016</td>\n",
       "      <td>15499</td>\n",
       "      <td>Automatic</td>\n",
       "      <td>48573</td>\n",
       "      <td>Hybrid</td>\n",
       "      <td>0</td>\n",
       "      <td>176.6</td>\n",
       "      <td>1.4</td>\n",
       "    </tr>\n",
       "    <tr>\n",
       "      <td>8570</td>\n",
       "      <td>A3</td>\n",
       "      <td>2015</td>\n",
       "      <td>9795</td>\n",
       "      <td>Automatic</td>\n",
       "      <td>121420</td>\n",
       "      <td>Hybrid</td>\n",
       "      <td>0</td>\n",
       "      <td>176.6</td>\n",
       "      <td>1.4</td>\n",
       "    </tr>\n",
       "    <tr>\n",
       "      <td>8875</td>\n",
       "      <td>A3</td>\n",
       "      <td>2015</td>\n",
       "      <td>11295</td>\n",
       "      <td>Automatic</td>\n",
       "      <td>72260</td>\n",
       "      <td>Hybrid</td>\n",
       "      <td>0</td>\n",
       "      <td>176.6</td>\n",
       "      <td>1.4</td>\n",
       "    </tr>\n",
       "    <tr>\n",
       "      <td>10003</td>\n",
       "      <td>A3</td>\n",
       "      <td>2016</td>\n",
       "      <td>13000</td>\n",
       "      <td>Automatic</td>\n",
       "      <td>72800</td>\n",
       "      <td>Hybrid</td>\n",
       "      <td>0</td>\n",
       "      <td>176.6</td>\n",
       "      <td>1.4</td>\n",
       "    </tr>\n",
       "    <tr>\n",
       "      <td>10185</td>\n",
       "      <td>A3</td>\n",
       "      <td>2015</td>\n",
       "      <td>11240</td>\n",
       "      <td>Automatic</td>\n",
       "      <td>89000</td>\n",
       "      <td>Hybrid</td>\n",
       "      <td>0</td>\n",
       "      <td>176.6</td>\n",
       "      <td>1.4</td>\n",
       "    </tr>\n",
       "    <tr>\n",
       "      <td>10392</td>\n",
       "      <td>A3</td>\n",
       "      <td>2015</td>\n",
       "      <td>14000</td>\n",
       "      <td>Automatic</td>\n",
       "      <td>63000</td>\n",
       "      <td>Hybrid</td>\n",
       "      <td>0</td>\n",
       "      <td>188.3</td>\n",
       "      <td>1.4</td>\n",
       "    </tr>\n",
       "    <tr>\n",
       "      <td>10656</td>\n",
       "      <td>A3</td>\n",
       "      <td>2016</td>\n",
       "      <td>15495</td>\n",
       "      <td>Semi-Auto</td>\n",
       "      <td>52500</td>\n",
       "      <td>Hybrid</td>\n",
       "      <td>0</td>\n",
       "      <td>176.6</td>\n",
       "      <td>1.4</td>\n",
       "    </tr>\n",
       "  </tbody>\n",
       "</table>\n",
       "</div>"
      ],
      "text/plain": [
       "      model  year  price transmission  mileage fuelType  tax    mpg  \\\n",
       "864      A3  2020  31990    Semi-Auto     2165   Hybrid  135  141.3   \n",
       "2550     Q7  2017  32998    Semi-Auto    66477   Hybrid  140  156.9   \n",
       "3106     A3  2015  14981    Semi-Auto    28294   Hybrid    0  188.3   \n",
       "4261     A3  2015  17990    Automatic    14000   Hybrid    0  188.3   \n",
       "4493     A3  2014  15490    Automatic    24597   Hybrid    0  188.3   \n",
       "4559     A3  2015  16000    Semi-Auto    48954   Hybrid    0  176.6   \n",
       "4879     A3  2014  15000    Semi-Auto    24597   Hybrid    0  188.3   \n",
       "5666     Q7  2016  37999    Automatic    36461   Diesel    0  156.9   \n",
       "5717     A3  2016  18900    Semi-Auto    18486   Hybrid    0  176.6   \n",
       "5981     Q7  2016  34999    Semi-Auto    36461   Diesel    0  156.9   \n",
       "6382     A3  2020  32495    Semi-Auto     7500   Hybrid  135  141.3   \n",
       "8323     A3  2016  15499    Automatic    48573   Hybrid    0  176.6   \n",
       "8570     A3  2015   9795    Automatic   121420   Hybrid    0  176.6   \n",
       "8875     A3  2015  11295    Automatic    72260   Hybrid    0  176.6   \n",
       "10003    A3  2016  13000    Automatic    72800   Hybrid    0  176.6   \n",
       "10185    A3  2015  11240    Automatic    89000   Hybrid    0  176.6   \n",
       "10392    A3  2015  14000    Automatic    63000   Hybrid    0  188.3   \n",
       "10656    A3  2016  15495    Semi-Auto    52500   Hybrid    0  176.6   \n",
       "\n",
       "       engineSize  \n",
       "864           1.4  \n",
       "2550          3.0  \n",
       "3106          1.4  \n",
       "4261          1.4  \n",
       "4493          1.4  \n",
       "4559          1.4  \n",
       "4879          1.4  \n",
       "5666          3.0  \n",
       "5717          1.4  \n",
       "5981          3.0  \n",
       "6382          1.4  \n",
       "8323          1.4  \n",
       "8570          1.4  \n",
       "8875          1.4  \n",
       "10003         1.4  \n",
       "10185         1.4  \n",
       "10392         1.4  \n",
       "10656         1.4  "
      ]
     },
     "execution_count": 23,
     "metadata": {},
     "output_type": "execute_result"
    }
   ],
   "source": [
    "audi[audi['mpg'] > 140]"
   ]
  },
  {
   "cell_type": "markdown",
   "metadata": {},
   "source": [
    "In Googling MPG values for Audi cars, the highest stated MPG for an A3 Hybrid is 283 MPG. Therefore, I will retain these high MPG values. "
   ]
  },
  {
   "cell_type": "markdown",
   "metadata": {},
   "source": [
    "##### engine size"
   ]
  },
  {
   "cell_type": "markdown",
   "metadata": {},
   "source": [
    "earlier, I noticed the minimum engine size value being 0. This is very odd as an engine should not be size zero, unless the engine is missing from the car. An unlikely scenario! Let's look at the records that have an engine of size 0"
   ]
  },
  {
   "cell_type": "code",
   "execution_count": 24,
   "metadata": {
    "scrolled": false
   },
   "outputs": [
    {
     "data": {
      "text/html": [
       "<div>\n",
       "<style scoped>\n",
       "    .dataframe tbody tr th:only-of-type {\n",
       "        vertical-align: middle;\n",
       "    }\n",
       "\n",
       "    .dataframe tbody tr th {\n",
       "        vertical-align: top;\n",
       "    }\n",
       "\n",
       "    .dataframe thead th {\n",
       "        text-align: right;\n",
       "    }\n",
       "</style>\n",
       "<table border=\"1\" class=\"dataframe\">\n",
       "  <thead>\n",
       "    <tr style=\"text-align: right;\">\n",
       "      <th></th>\n",
       "      <th>model</th>\n",
       "      <th>year</th>\n",
       "      <th>price</th>\n",
       "      <th>transmission</th>\n",
       "      <th>mileage</th>\n",
       "      <th>fuelType</th>\n",
       "      <th>tax</th>\n",
       "      <th>mpg</th>\n",
       "      <th>engineSize</th>\n",
       "    </tr>\n",
       "  </thead>\n",
       "  <tbody>\n",
       "    <tr>\n",
       "      <td>7728</td>\n",
       "      <td>SQ5</td>\n",
       "      <td>2020</td>\n",
       "      <td>56450</td>\n",
       "      <td>Automatic</td>\n",
       "      <td>1500</td>\n",
       "      <td>Diesel</td>\n",
       "      <td>145</td>\n",
       "      <td>34.5</td>\n",
       "      <td>0.0</td>\n",
       "    </tr>\n",
       "    <tr>\n",
       "      <td>7521</td>\n",
       "      <td>Q5</td>\n",
       "      <td>2020</td>\n",
       "      <td>49790</td>\n",
       "      <td>Automatic</td>\n",
       "      <td>1500</td>\n",
       "      <td>Petrol</td>\n",
       "      <td>135</td>\n",
       "      <td>117.7</td>\n",
       "      <td>0.0</td>\n",
       "    </tr>\n",
       "    <tr>\n",
       "      <td>7644</td>\n",
       "      <td>SQ5</td>\n",
       "      <td>2019</td>\n",
       "      <td>48800</td>\n",
       "      <td>Automatic</td>\n",
       "      <td>1500</td>\n",
       "      <td>Diesel</td>\n",
       "      <td>145</td>\n",
       "      <td>34.5</td>\n",
       "      <td>0.0</td>\n",
       "    </tr>\n",
       "    <tr>\n",
       "      <td>7718</td>\n",
       "      <td>S4</td>\n",
       "      <td>2019</td>\n",
       "      <td>45000</td>\n",
       "      <td>Automatic</td>\n",
       "      <td>4900</td>\n",
       "      <td>Diesel</td>\n",
       "      <td>145</td>\n",
       "      <td>40.4</td>\n",
       "      <td>0.0</td>\n",
       "    </tr>\n",
       "    <tr>\n",
       "      <td>7641</td>\n",
       "      <td>S4</td>\n",
       "      <td>2020</td>\n",
       "      <td>44888</td>\n",
       "      <td>Automatic</td>\n",
       "      <td>1500</td>\n",
       "      <td>Diesel</td>\n",
       "      <td>145</td>\n",
       "      <td>39.2</td>\n",
       "      <td>0.0</td>\n",
       "    </tr>\n",
       "    <tr>\n",
       "      <td>7505</td>\n",
       "      <td>Q5</td>\n",
       "      <td>2019</td>\n",
       "      <td>44790</td>\n",
       "      <td>Automatic</td>\n",
       "      <td>5886</td>\n",
       "      <td>Petrol</td>\n",
       "      <td>135</td>\n",
       "      <td>117.7</td>\n",
       "      <td>0.0</td>\n",
       "    </tr>\n",
       "    <tr>\n",
       "      <td>7700</td>\n",
       "      <td>Q5</td>\n",
       "      <td>2019</td>\n",
       "      <td>44450</td>\n",
       "      <td>Automatic</td>\n",
       "      <td>5225</td>\n",
       "      <td>Petrol</td>\n",
       "      <td>135</td>\n",
       "      <td>117.7</td>\n",
       "      <td>0.0</td>\n",
       "    </tr>\n",
       "    <tr>\n",
       "      <td>7740</td>\n",
       "      <td>Q3</td>\n",
       "      <td>2020</td>\n",
       "      <td>41888</td>\n",
       "      <td>Automatic</td>\n",
       "      <td>1500</td>\n",
       "      <td>Petrol</td>\n",
       "      <td>145</td>\n",
       "      <td>31.0</td>\n",
       "      <td>0.0</td>\n",
       "    </tr>\n",
       "    <tr>\n",
       "      <td>7688</td>\n",
       "      <td>S4</td>\n",
       "      <td>2019</td>\n",
       "      <td>39850</td>\n",
       "      <td>Automatic</td>\n",
       "      <td>4129</td>\n",
       "      <td>Diesel</td>\n",
       "      <td>145</td>\n",
       "      <td>40.4</td>\n",
       "      <td>0.0</td>\n",
       "    </tr>\n",
       "    <tr>\n",
       "      <td>7739</td>\n",
       "      <td>Q3</td>\n",
       "      <td>2020</td>\n",
       "      <td>38888</td>\n",
       "      <td>Automatic</td>\n",
       "      <td>1500</td>\n",
       "      <td>Petrol</td>\n",
       "      <td>145</td>\n",
       "      <td>30.7</td>\n",
       "      <td>0.0</td>\n",
       "    </tr>\n",
       "    <tr>\n",
       "      <td>7748</td>\n",
       "      <td>Q5</td>\n",
       "      <td>2020</td>\n",
       "      <td>38444</td>\n",
       "      <td>Automatic</td>\n",
       "      <td>1500</td>\n",
       "      <td>Petrol</td>\n",
       "      <td>145</td>\n",
       "      <td>32.1</td>\n",
       "      <td>0.0</td>\n",
       "    </tr>\n",
       "    <tr>\n",
       "      <td>7519</td>\n",
       "      <td>Q3</td>\n",
       "      <td>2020</td>\n",
       "      <td>37990</td>\n",
       "      <td>Automatic</td>\n",
       "      <td>1500</td>\n",
       "      <td>Petrol</td>\n",
       "      <td>145</td>\n",
       "      <td>30.7</td>\n",
       "      <td>0.0</td>\n",
       "    </tr>\n",
       "    <tr>\n",
       "      <td>7627</td>\n",
       "      <td>Q3</td>\n",
       "      <td>2020</td>\n",
       "      <td>37888</td>\n",
       "      <td>Automatic</td>\n",
       "      <td>1500</td>\n",
       "      <td>Petrol</td>\n",
       "      <td>145</td>\n",
       "      <td>30.7</td>\n",
       "      <td>0.0</td>\n",
       "    </tr>\n",
       "    <tr>\n",
       "      <td>7670</td>\n",
       "      <td>Q3</td>\n",
       "      <td>2020</td>\n",
       "      <td>37888</td>\n",
       "      <td>Automatic</td>\n",
       "      <td>285</td>\n",
       "      <td>Petrol</td>\n",
       "      <td>145</td>\n",
       "      <td>30.7</td>\n",
       "      <td>0.0</td>\n",
       "    </tr>\n",
       "    <tr>\n",
       "      <td>7698</td>\n",
       "      <td>Q3</td>\n",
       "      <td>2020</td>\n",
       "      <td>36790</td>\n",
       "      <td>Automatic</td>\n",
       "      <td>1330</td>\n",
       "      <td>Petrol</td>\n",
       "      <td>145</td>\n",
       "      <td>30.7</td>\n",
       "      <td>0.0</td>\n",
       "    </tr>\n",
       "    <tr>\n",
       "      <td>7732</td>\n",
       "      <td>Q3</td>\n",
       "      <td>2020</td>\n",
       "      <td>33990</td>\n",
       "      <td>Automatic</td>\n",
       "      <td>4000</td>\n",
       "      <td>Diesel</td>\n",
       "      <td>145</td>\n",
       "      <td>47.1</td>\n",
       "      <td>0.0</td>\n",
       "    </tr>\n",
       "    <tr>\n",
       "      <td>7667</td>\n",
       "      <td>Q3</td>\n",
       "      <td>2020</td>\n",
       "      <td>33990</td>\n",
       "      <td>Automatic</td>\n",
       "      <td>1500</td>\n",
       "      <td>Diesel</td>\n",
       "      <td>145</td>\n",
       "      <td>47.1</td>\n",
       "      <td>0.0</td>\n",
       "    </tr>\n",
       "    <tr>\n",
       "      <td>7676</td>\n",
       "      <td>Q3</td>\n",
       "      <td>2020</td>\n",
       "      <td>33444</td>\n",
       "      <td>Automatic</td>\n",
       "      <td>1500</td>\n",
       "      <td>Petrol</td>\n",
       "      <td>145</td>\n",
       "      <td>31.4</td>\n",
       "      <td>0.0</td>\n",
       "    </tr>\n",
       "    <tr>\n",
       "      <td>7591</td>\n",
       "      <td>Q5</td>\n",
       "      <td>2019</td>\n",
       "      <td>33390</td>\n",
       "      <td>Automatic</td>\n",
       "      <td>45</td>\n",
       "      <td>Diesel</td>\n",
       "      <td>145</td>\n",
       "      <td>39.2</td>\n",
       "      <td>0.0</td>\n",
       "    </tr>\n",
       "    <tr>\n",
       "      <td>7517</td>\n",
       "      <td>Q3</td>\n",
       "      <td>2020</td>\n",
       "      <td>33333</td>\n",
       "      <td>Automatic</td>\n",
       "      <td>1500</td>\n",
       "      <td>Diesel</td>\n",
       "      <td>145</td>\n",
       "      <td>47.1</td>\n",
       "      <td>0.0</td>\n",
       "    </tr>\n",
       "    <tr>\n",
       "      <td>7506</td>\n",
       "      <td>Q3</td>\n",
       "      <td>2019</td>\n",
       "      <td>32788</td>\n",
       "      <td>Automatic</td>\n",
       "      <td>1500</td>\n",
       "      <td>Diesel</td>\n",
       "      <td>145</td>\n",
       "      <td>47.1</td>\n",
       "      <td>0.0</td>\n",
       "    </tr>\n",
       "    <tr>\n",
       "      <td>7659</td>\n",
       "      <td>Q3</td>\n",
       "      <td>2020</td>\n",
       "      <td>32444</td>\n",
       "      <td>Automatic</td>\n",
       "      <td>1500</td>\n",
       "      <td>Petrol</td>\n",
       "      <td>145</td>\n",
       "      <td>31.4</td>\n",
       "      <td>0.0</td>\n",
       "    </tr>\n",
       "    <tr>\n",
       "      <td>7669</td>\n",
       "      <td>Q3</td>\n",
       "      <td>2020</td>\n",
       "      <td>32444</td>\n",
       "      <td>Automatic</td>\n",
       "      <td>1500</td>\n",
       "      <td>Petrol</td>\n",
       "      <td>145</td>\n",
       "      <td>31.4</td>\n",
       "      <td>0.0</td>\n",
       "    </tr>\n",
       "    <tr>\n",
       "      <td>7626</td>\n",
       "      <td>Q3</td>\n",
       "      <td>2020</td>\n",
       "      <td>32444</td>\n",
       "      <td>Automatic</td>\n",
       "      <td>1500</td>\n",
       "      <td>Petrol</td>\n",
       "      <td>145</td>\n",
       "      <td>31.4</td>\n",
       "      <td>0.0</td>\n",
       "    </tr>\n",
       "    <tr>\n",
       "      <td>7611</td>\n",
       "      <td>Q3</td>\n",
       "      <td>2020</td>\n",
       "      <td>32444</td>\n",
       "      <td>Automatic</td>\n",
       "      <td>1500</td>\n",
       "      <td>Petrol</td>\n",
       "      <td>145</td>\n",
       "      <td>31.4</td>\n",
       "      <td>0.0</td>\n",
       "    </tr>\n",
       "    <tr>\n",
       "      <td>7892</td>\n",
       "      <td>Q3</td>\n",
       "      <td>2020</td>\n",
       "      <td>32000</td>\n",
       "      <td>Automatic</td>\n",
       "      <td>1500</td>\n",
       "      <td>Petrol</td>\n",
       "      <td>145</td>\n",
       "      <td>31.4</td>\n",
       "      <td>0.0</td>\n",
       "    </tr>\n",
       "    <tr>\n",
       "      <td>7642</td>\n",
       "      <td>Q3</td>\n",
       "      <td>2019</td>\n",
       "      <td>32000</td>\n",
       "      <td>Automatic</td>\n",
       "      <td>4000</td>\n",
       "      <td>Petrol</td>\n",
       "      <td>145</td>\n",
       "      <td>31.4</td>\n",
       "      <td>0.0</td>\n",
       "    </tr>\n",
       "    <tr>\n",
       "      <td>7647</td>\n",
       "      <td>Q3</td>\n",
       "      <td>2020</td>\n",
       "      <td>31990</td>\n",
       "      <td>Automatic</td>\n",
       "      <td>1500</td>\n",
       "      <td>Petrol</td>\n",
       "      <td>145</td>\n",
       "      <td>40.4</td>\n",
       "      <td>0.0</td>\n",
       "    </tr>\n",
       "    <tr>\n",
       "      <td>7542</td>\n",
       "      <td>Q3</td>\n",
       "      <td>2019</td>\n",
       "      <td>31888</td>\n",
       "      <td>Manual</td>\n",
       "      <td>2001</td>\n",
       "      <td>Petrol</td>\n",
       "      <td>145</td>\n",
       "      <td>40.4</td>\n",
       "      <td>0.0</td>\n",
       "    </tr>\n",
       "    <tr>\n",
       "      <td>7668</td>\n",
       "      <td>Q3</td>\n",
       "      <td>2020</td>\n",
       "      <td>30990</td>\n",
       "      <td>Manual</td>\n",
       "      <td>1500</td>\n",
       "      <td>Petrol</td>\n",
       "      <td>145</td>\n",
       "      <td>40.9</td>\n",
       "      <td>0.0</td>\n",
       "    </tr>\n",
       "    <tr>\n",
       "      <td>7694</td>\n",
       "      <td>Q3</td>\n",
       "      <td>2020</td>\n",
       "      <td>30990</td>\n",
       "      <td>Manual</td>\n",
       "      <td>1500</td>\n",
       "      <td>Petrol</td>\n",
       "      <td>145</td>\n",
       "      <td>40.9</td>\n",
       "      <td>0.0</td>\n",
       "    </tr>\n",
       "    <tr>\n",
       "      <td>7762</td>\n",
       "      <td>Q3</td>\n",
       "      <td>2020</td>\n",
       "      <td>30000</td>\n",
       "      <td>Automatic</td>\n",
       "      <td>1500</td>\n",
       "      <td>Petrol</td>\n",
       "      <td>145</td>\n",
       "      <td>40.9</td>\n",
       "      <td>0.0</td>\n",
       "    </tr>\n",
       "    <tr>\n",
       "      <td>7743</td>\n",
       "      <td>Q3</td>\n",
       "      <td>2020</td>\n",
       "      <td>29990</td>\n",
       "      <td>Automatic</td>\n",
       "      <td>1500</td>\n",
       "      <td>Diesel</td>\n",
       "      <td>145</td>\n",
       "      <td>47.1</td>\n",
       "      <td>0.0</td>\n",
       "    </tr>\n",
       "    <tr>\n",
       "      <td>7518</td>\n",
       "      <td>Q3</td>\n",
       "      <td>2020</td>\n",
       "      <td>29944</td>\n",
       "      <td>Automatic</td>\n",
       "      <td>1500</td>\n",
       "      <td>Petrol</td>\n",
       "      <td>145</td>\n",
       "      <td>32.5</td>\n",
       "      <td>0.0</td>\n",
       "    </tr>\n",
       "    <tr>\n",
       "      <td>7516</td>\n",
       "      <td>Q3</td>\n",
       "      <td>2020</td>\n",
       "      <td>29944</td>\n",
       "      <td>Manual</td>\n",
       "      <td>1500</td>\n",
       "      <td>Petrol</td>\n",
       "      <td>145</td>\n",
       "      <td>40.9</td>\n",
       "      <td>0.0</td>\n",
       "    </tr>\n",
       "    <tr>\n",
       "      <td>7749</td>\n",
       "      <td>Q3</td>\n",
       "      <td>2020</td>\n",
       "      <td>29488</td>\n",
       "      <td>Manual</td>\n",
       "      <td>1500</td>\n",
       "      <td>Petrol</td>\n",
       "      <td>145</td>\n",
       "      <td>40.9</td>\n",
       "      <td>0.0</td>\n",
       "    </tr>\n",
       "    <tr>\n",
       "      <td>8866</td>\n",
       "      <td>TT</td>\n",
       "      <td>2017</td>\n",
       "      <td>27000</td>\n",
       "      <td>Automatic</td>\n",
       "      <td>27607</td>\n",
       "      <td>Petrol</td>\n",
       "      <td>200</td>\n",
       "      <td>40.9</td>\n",
       "      <td>0.0</td>\n",
       "    </tr>\n",
       "    <tr>\n",
       "      <td>7711</td>\n",
       "      <td>A5</td>\n",
       "      <td>2019</td>\n",
       "      <td>27000</td>\n",
       "      <td>Manual</td>\n",
       "      <td>1325</td>\n",
       "      <td>Petrol</td>\n",
       "      <td>145</td>\n",
       "      <td>37.7</td>\n",
       "      <td>0.0</td>\n",
       "    </tr>\n",
       "    <tr>\n",
       "      <td>7632</td>\n",
       "      <td>Q2</td>\n",
       "      <td>2020</td>\n",
       "      <td>24990</td>\n",
       "      <td>Manual</td>\n",
       "      <td>1500</td>\n",
       "      <td>Petrol</td>\n",
       "      <td>145</td>\n",
       "      <td>43.5</td>\n",
       "      <td>0.0</td>\n",
       "    </tr>\n",
       "    <tr>\n",
       "      <td>7662</td>\n",
       "      <td>Q2</td>\n",
       "      <td>2020</td>\n",
       "      <td>24990</td>\n",
       "      <td>Manual</td>\n",
       "      <td>1500</td>\n",
       "      <td>Petrol</td>\n",
       "      <td>145</td>\n",
       "      <td>43.5</td>\n",
       "      <td>0.0</td>\n",
       "    </tr>\n",
       "    <tr>\n",
       "      <td>7545</td>\n",
       "      <td>Q2</td>\n",
       "      <td>2020</td>\n",
       "      <td>24988</td>\n",
       "      <td>Automatic</td>\n",
       "      <td>1500</td>\n",
       "      <td>Petrol</td>\n",
       "      <td>145</td>\n",
       "      <td>42.2</td>\n",
       "      <td>0.0</td>\n",
       "    </tr>\n",
       "    <tr>\n",
       "      <td>7649</td>\n",
       "      <td>Q2</td>\n",
       "      <td>2020</td>\n",
       "      <td>24888</td>\n",
       "      <td>Automatic</td>\n",
       "      <td>1500</td>\n",
       "      <td>Petrol</td>\n",
       "      <td>145</td>\n",
       "      <td>42.2</td>\n",
       "      <td>0.0</td>\n",
       "    </tr>\n",
       "    <tr>\n",
       "      <td>7628</td>\n",
       "      <td>Q2</td>\n",
       "      <td>2019</td>\n",
       "      <td>24444</td>\n",
       "      <td>Manual</td>\n",
       "      <td>4000</td>\n",
       "      <td>Petrol</td>\n",
       "      <td>145</td>\n",
       "      <td>43.5</td>\n",
       "      <td>0.0</td>\n",
       "    </tr>\n",
       "    <tr>\n",
       "      <td>7741</td>\n",
       "      <td>Q2</td>\n",
       "      <td>2019</td>\n",
       "      <td>23888</td>\n",
       "      <td>Manual</td>\n",
       "      <td>1076</td>\n",
       "      <td>Petrol</td>\n",
       "      <td>145</td>\n",
       "      <td>43.5</td>\n",
       "      <td>0.0</td>\n",
       "    </tr>\n",
       "    <tr>\n",
       "      <td>7625</td>\n",
       "      <td>A3</td>\n",
       "      <td>2019</td>\n",
       "      <td>23444</td>\n",
       "      <td>Automatic</td>\n",
       "      <td>1500</td>\n",
       "      <td>Petrol</td>\n",
       "      <td>145</td>\n",
       "      <td>44.1</td>\n",
       "      <td>0.0</td>\n",
       "    </tr>\n",
       "    <tr>\n",
       "      <td>7631</td>\n",
       "      <td>A3</td>\n",
       "      <td>2019</td>\n",
       "      <td>23444</td>\n",
       "      <td>Automatic</td>\n",
       "      <td>4000</td>\n",
       "      <td>Petrol</td>\n",
       "      <td>145</td>\n",
       "      <td>44.1</td>\n",
       "      <td>0.0</td>\n",
       "    </tr>\n",
       "    <tr>\n",
       "      <td>7861</td>\n",
       "      <td>TT</td>\n",
       "      <td>2016</td>\n",
       "      <td>22500</td>\n",
       "      <td>Automatic</td>\n",
       "      <td>45182</td>\n",
       "      <td>Petrol</td>\n",
       "      <td>200</td>\n",
       "      <td>40.9</td>\n",
       "      <td>0.0</td>\n",
       "    </tr>\n",
       "    <tr>\n",
       "      <td>7598</td>\n",
       "      <td>A3</td>\n",
       "      <td>2019</td>\n",
       "      <td>22000</td>\n",
       "      <td>Manual</td>\n",
       "      <td>1500</td>\n",
       "      <td>Petrol</td>\n",
       "      <td>145</td>\n",
       "      <td>47.1</td>\n",
       "      <td>0.0</td>\n",
       "    </tr>\n",
       "    <tr>\n",
       "      <td>7859</td>\n",
       "      <td>A1</td>\n",
       "      <td>2019</td>\n",
       "      <td>19500</td>\n",
       "      <td>Manual</td>\n",
       "      <td>5696</td>\n",
       "      <td>Petrol</td>\n",
       "      <td>145</td>\n",
       "      <td>50.4</td>\n",
       "      <td>0.0</td>\n",
       "    </tr>\n",
       "    <tr>\n",
       "      <td>7837</td>\n",
       "      <td>Q3</td>\n",
       "      <td>2017</td>\n",
       "      <td>19300</td>\n",
       "      <td>Manual</td>\n",
       "      <td>16051</td>\n",
       "      <td>Diesel</td>\n",
       "      <td>150</td>\n",
       "      <td>52.3</td>\n",
       "      <td>0.0</td>\n",
       "    </tr>\n",
       "    <tr>\n",
       "      <td>7836</td>\n",
       "      <td>A5</td>\n",
       "      <td>2016</td>\n",
       "      <td>19000</td>\n",
       "      <td>Manual</td>\n",
       "      <td>26237</td>\n",
       "      <td>Diesel</td>\n",
       "      <td>150</td>\n",
       "      <td>56.5</td>\n",
       "      <td>0.0</td>\n",
       "    </tr>\n",
       "    <tr>\n",
       "      <td>7864</td>\n",
       "      <td>A3</td>\n",
       "      <td>2016</td>\n",
       "      <td>18300</td>\n",
       "      <td>Manual</td>\n",
       "      <td>55321</td>\n",
       "      <td>Petrol</td>\n",
       "      <td>200</td>\n",
       "      <td>40.4</td>\n",
       "      <td>0.0</td>\n",
       "    </tr>\n",
       "    <tr>\n",
       "      <td>7546</td>\n",
       "      <td>A3</td>\n",
       "      <td>2017</td>\n",
       "      <td>17390</td>\n",
       "      <td>Manual</td>\n",
       "      <td>7110</td>\n",
       "      <td>Petrol</td>\n",
       "      <td>30</td>\n",
       "      <td>60.1</td>\n",
       "      <td>0.0</td>\n",
       "    </tr>\n",
       "    <tr>\n",
       "      <td>7835</td>\n",
       "      <td>A5</td>\n",
       "      <td>2015</td>\n",
       "      <td>16700</td>\n",
       "      <td>Automatic</td>\n",
       "      <td>45104</td>\n",
       "      <td>Diesel</td>\n",
       "      <td>125</td>\n",
       "      <td>58.9</td>\n",
       "      <td>0.0</td>\n",
       "    </tr>\n",
       "    <tr>\n",
       "      <td>7685</td>\n",
       "      <td>A4</td>\n",
       "      <td>2014</td>\n",
       "      <td>14950</td>\n",
       "      <td>Automatic</td>\n",
       "      <td>33894</td>\n",
       "      <td>Diesel</td>\n",
       "      <td>200</td>\n",
       "      <td>47.1</td>\n",
       "      <td>0.0</td>\n",
       "    </tr>\n",
       "    <tr>\n",
       "      <td>8798</td>\n",
       "      <td>A3</td>\n",
       "      <td>2016</td>\n",
       "      <td>12000</td>\n",
       "      <td>Manual</td>\n",
       "      <td>30590</td>\n",
       "      <td>Petrol</td>\n",
       "      <td>30</td>\n",
       "      <td>56.5</td>\n",
       "      <td>0.0</td>\n",
       "    </tr>\n",
       "    <tr>\n",
       "      <td>9897</td>\n",
       "      <td>A3</td>\n",
       "      <td>2005</td>\n",
       "      <td>2495</td>\n",
       "      <td>Manual</td>\n",
       "      <td>122000</td>\n",
       "      <td>Diesel</td>\n",
       "      <td>150</td>\n",
       "      <td>53.3</td>\n",
       "      <td>0.0</td>\n",
       "    </tr>\n",
       "  </tbody>\n",
       "</table>\n",
       "</div>"
      ],
      "text/plain": [
       "     model  year  price transmission  mileage fuelType  tax    mpg  engineSize\n",
       "7728   SQ5  2020  56450    Automatic     1500   Diesel  145   34.5         0.0\n",
       "7521    Q5  2020  49790    Automatic     1500   Petrol  135  117.7         0.0\n",
       "7644   SQ5  2019  48800    Automatic     1500   Diesel  145   34.5         0.0\n",
       "7718    S4  2019  45000    Automatic     4900   Diesel  145   40.4         0.0\n",
       "7641    S4  2020  44888    Automatic     1500   Diesel  145   39.2         0.0\n",
       "7505    Q5  2019  44790    Automatic     5886   Petrol  135  117.7         0.0\n",
       "7700    Q5  2019  44450    Automatic     5225   Petrol  135  117.7         0.0\n",
       "7740    Q3  2020  41888    Automatic     1500   Petrol  145   31.0         0.0\n",
       "7688    S4  2019  39850    Automatic     4129   Diesel  145   40.4         0.0\n",
       "7739    Q3  2020  38888    Automatic     1500   Petrol  145   30.7         0.0\n",
       "7748    Q5  2020  38444    Automatic     1500   Petrol  145   32.1         0.0\n",
       "7519    Q3  2020  37990    Automatic     1500   Petrol  145   30.7         0.0\n",
       "7627    Q3  2020  37888    Automatic     1500   Petrol  145   30.7         0.0\n",
       "7670    Q3  2020  37888    Automatic      285   Petrol  145   30.7         0.0\n",
       "7698    Q3  2020  36790    Automatic     1330   Petrol  145   30.7         0.0\n",
       "7732    Q3  2020  33990    Automatic     4000   Diesel  145   47.1         0.0\n",
       "7667    Q3  2020  33990    Automatic     1500   Diesel  145   47.1         0.0\n",
       "7676    Q3  2020  33444    Automatic     1500   Petrol  145   31.4         0.0\n",
       "7591    Q5  2019  33390    Automatic       45   Diesel  145   39.2         0.0\n",
       "7517    Q3  2020  33333    Automatic     1500   Diesel  145   47.1         0.0\n",
       "7506    Q3  2019  32788    Automatic     1500   Diesel  145   47.1         0.0\n",
       "7659    Q3  2020  32444    Automatic     1500   Petrol  145   31.4         0.0\n",
       "7669    Q3  2020  32444    Automatic     1500   Petrol  145   31.4         0.0\n",
       "7626    Q3  2020  32444    Automatic     1500   Petrol  145   31.4         0.0\n",
       "7611    Q3  2020  32444    Automatic     1500   Petrol  145   31.4         0.0\n",
       "7892    Q3  2020  32000    Automatic     1500   Petrol  145   31.4         0.0\n",
       "7642    Q3  2019  32000    Automatic     4000   Petrol  145   31.4         0.0\n",
       "7647    Q3  2020  31990    Automatic     1500   Petrol  145   40.4         0.0\n",
       "7542    Q3  2019  31888       Manual     2001   Petrol  145   40.4         0.0\n",
       "7668    Q3  2020  30990       Manual     1500   Petrol  145   40.9         0.0\n",
       "7694    Q3  2020  30990       Manual     1500   Petrol  145   40.9         0.0\n",
       "7762    Q3  2020  30000    Automatic     1500   Petrol  145   40.9         0.0\n",
       "7743    Q3  2020  29990    Automatic     1500   Diesel  145   47.1         0.0\n",
       "7518    Q3  2020  29944    Automatic     1500   Petrol  145   32.5         0.0\n",
       "7516    Q3  2020  29944       Manual     1500   Petrol  145   40.9         0.0\n",
       "7749    Q3  2020  29488       Manual     1500   Petrol  145   40.9         0.0\n",
       "8866    TT  2017  27000    Automatic    27607   Petrol  200   40.9         0.0\n",
       "7711    A5  2019  27000       Manual     1325   Petrol  145   37.7         0.0\n",
       "7632    Q2  2020  24990       Manual     1500   Petrol  145   43.5         0.0\n",
       "7662    Q2  2020  24990       Manual     1500   Petrol  145   43.5         0.0\n",
       "7545    Q2  2020  24988    Automatic     1500   Petrol  145   42.2         0.0\n",
       "7649    Q2  2020  24888    Automatic     1500   Petrol  145   42.2         0.0\n",
       "7628    Q2  2019  24444       Manual     4000   Petrol  145   43.5         0.0\n",
       "7741    Q2  2019  23888       Manual     1076   Petrol  145   43.5         0.0\n",
       "7625    A3  2019  23444    Automatic     1500   Petrol  145   44.1         0.0\n",
       "7631    A3  2019  23444    Automatic     4000   Petrol  145   44.1         0.0\n",
       "7861    TT  2016  22500    Automatic    45182   Petrol  200   40.9         0.0\n",
       "7598    A3  2019  22000       Manual     1500   Petrol  145   47.1         0.0\n",
       "7859    A1  2019  19500       Manual     5696   Petrol  145   50.4         0.0\n",
       "7837    Q3  2017  19300       Manual    16051   Diesel  150   52.3         0.0\n",
       "7836    A5  2016  19000       Manual    26237   Diesel  150   56.5         0.0\n",
       "7864    A3  2016  18300       Manual    55321   Petrol  200   40.4         0.0\n",
       "7546    A3  2017  17390       Manual     7110   Petrol   30   60.1         0.0\n",
       "7835    A5  2015  16700    Automatic    45104   Diesel  125   58.9         0.0\n",
       "7685    A4  2014  14950    Automatic    33894   Diesel  200   47.1         0.0\n",
       "8798    A3  2016  12000       Manual    30590   Petrol   30   56.5         0.0\n",
       "9897    A3  2005   2495       Manual   122000   Diesel  150   53.3         0.0"
      ]
     },
     "execution_count": 24,
     "metadata": {},
     "output_type": "execute_result"
    }
   ],
   "source": [
    "audi[audi['engineSize'] == 0].sort_values(by='price', ascending=False)"
   ]
  },
  {
   "cell_type": "markdown",
   "metadata": {},
   "source": [
    "All of these records have non-zero MPG. It is impossible to have a zero size engine and still have associated MPG. Likely, the zeroes are place holders for unknown engine sizes. This problem should be addressed via imputation. "
   ]
  },
  {
   "cell_type": "markdown",
   "metadata": {},
   "source": [
    "For imputation, I want to replace 0 with the mean engine size given some features, starting with model of car"
   ]
  },
  {
   "cell_type": "code",
   "execution_count": 25,
   "metadata": {},
   "outputs": [
    {
     "data": {
      "text/html": [
       "<div>\n",
       "<style scoped>\n",
       "    .dataframe tbody tr th:only-of-type {\n",
       "        vertical-align: middle;\n",
       "    }\n",
       "\n",
       "    .dataframe tbody tr th {\n",
       "        vertical-align: top;\n",
       "    }\n",
       "\n",
       "    .dataframe thead th {\n",
       "        text-align: right;\n",
       "    }\n",
       "</style>\n",
       "<table border=\"1\" class=\"dataframe\">\n",
       "  <thead>\n",
       "    <tr style=\"text-align: right;\">\n",
       "      <th></th>\n",
       "      <th>model</th>\n",
       "      <th>year</th>\n",
       "      <th>price</th>\n",
       "      <th>transmission</th>\n",
       "      <th>mileage</th>\n",
       "      <th>fuelType</th>\n",
       "      <th>tax</th>\n",
       "      <th>mpg</th>\n",
       "      <th>engineSize</th>\n",
       "    </tr>\n",
       "  </thead>\n",
       "  <tbody>\n",
       "  </tbody>\n",
       "</table>\n",
       "</div>"
      ],
      "text/plain": [
       "Empty DataFrame\n",
       "Columns: [model, year, price, transmission, mileage, fuelType, tax, mpg, engineSize]\n",
       "Index: []"
      ]
     },
     "execution_count": 25,
     "metadata": {},
     "output_type": "execute_result"
    }
   ],
   "source": [
    "audi[audi['model'] == 'A7']"
   ]
  },
  {
   "cell_type": "markdown",
   "metadata": {},
   "source": [
    "Hmm... no values appear. "
   ]
  },
  {
   "cell_type": "code",
   "execution_count": 26,
   "metadata": {},
   "outputs": [
    {
     "data": {
      "text/html": [
       "<div>\n",
       "<style scoped>\n",
       "    .dataframe tbody tr th:only-of-type {\n",
       "        vertical-align: middle;\n",
       "    }\n",
       "\n",
       "    .dataframe tbody tr th {\n",
       "        vertical-align: top;\n",
       "    }\n",
       "\n",
       "    .dataframe thead th {\n",
       "        text-align: right;\n",
       "    }\n",
       "</style>\n",
       "<table border=\"1\" class=\"dataframe\">\n",
       "  <thead>\n",
       "    <tr style=\"text-align: right;\">\n",
       "      <th></th>\n",
       "      <th>model</th>\n",
       "      <th>year</th>\n",
       "      <th>price</th>\n",
       "      <th>transmission</th>\n",
       "      <th>mileage</th>\n",
       "      <th>fuelType</th>\n",
       "      <th>tax</th>\n",
       "      <th>mpg</th>\n",
       "      <th>engineSize</th>\n",
       "    </tr>\n",
       "  </thead>\n",
       "  <tbody>\n",
       "  </tbody>\n",
       "</table>\n",
       "</div>"
      ],
      "text/plain": [
       "Empty DataFrame\n",
       "Columns: [model, year, price, transmission, mileage, fuelType, tax, mpg, engineSize]\n",
       "Index: []"
      ]
     },
     "execution_count": 26,
     "metadata": {},
     "output_type": "execute_result"
    }
   ],
   "source": [
    "audi[audi['model'] == 'A3']"
   ]
  },
  {
   "cell_type": "markdown",
   "metadata": {},
   "source": [
    "No values again. Weird."
   ]
  },
  {
   "cell_type": "code",
   "execution_count": 27,
   "metadata": {},
   "outputs": [
    {
     "data": {
      "text/plain": [
       "str"
      ]
     },
     "execution_count": 27,
     "metadata": {},
     "output_type": "execute_result"
    }
   ],
   "source": [
    "type(audi['model'][1])"
   ]
  },
  {
   "cell_type": "markdown",
   "metadata": {},
   "source": [
    "The datatype of the model values is string. Therefore, retrieving values as strings should work. What is the issue?\n",
    "\n",
    "After tinkering around, I had an idea. Perhaps there is an extra character in the entry such as a space. "
   ]
  },
  {
   "cell_type": "code",
   "execution_count": 28,
   "metadata": {},
   "outputs": [
    {
     "data": {
      "text/html": [
       "<div>\n",
       "<style scoped>\n",
       "    .dataframe tbody tr th:only-of-type {\n",
       "        vertical-align: middle;\n",
       "    }\n",
       "\n",
       "    .dataframe tbody tr th {\n",
       "        vertical-align: top;\n",
       "    }\n",
       "\n",
       "    .dataframe thead th {\n",
       "        text-align: right;\n",
       "    }\n",
       "</style>\n",
       "<table border=\"1\" class=\"dataframe\">\n",
       "  <thead>\n",
       "    <tr style=\"text-align: right;\">\n",
       "      <th></th>\n",
       "      <th>model</th>\n",
       "      <th>year</th>\n",
       "      <th>price</th>\n",
       "      <th>transmission</th>\n",
       "      <th>mileage</th>\n",
       "      <th>fuelType</th>\n",
       "      <th>tax</th>\n",
       "      <th>mpg</th>\n",
       "      <th>engineSize</th>\n",
       "    </tr>\n",
       "  </thead>\n",
       "  <tbody>\n",
       "    <tr>\n",
       "      <td>116</td>\n",
       "      <td>A7</td>\n",
       "      <td>2014</td>\n",
       "      <td>19500</td>\n",
       "      <td>Automatic</td>\n",
       "      <td>55774</td>\n",
       "      <td>Diesel</td>\n",
       "      <td>235</td>\n",
       "      <td>44.8</td>\n",
       "      <td>3.0</td>\n",
       "    </tr>\n",
       "    <tr>\n",
       "      <td>203</td>\n",
       "      <td>A7</td>\n",
       "      <td>2019</td>\n",
       "      <td>39985</td>\n",
       "      <td>Automatic</td>\n",
       "      <td>5201</td>\n",
       "      <td>Diesel</td>\n",
       "      <td>145</td>\n",
       "      <td>38.7</td>\n",
       "      <td>3.0</td>\n",
       "    </tr>\n",
       "    <tr>\n",
       "      <td>234</td>\n",
       "      <td>A7</td>\n",
       "      <td>2019</td>\n",
       "      <td>43885</td>\n",
       "      <td>Semi-Auto</td>\n",
       "      <td>10</td>\n",
       "      <td>Diesel</td>\n",
       "      <td>145</td>\n",
       "      <td>38.2</td>\n",
       "      <td>3.0</td>\n",
       "    </tr>\n",
       "    <tr>\n",
       "      <td>350</td>\n",
       "      <td>A7</td>\n",
       "      <td>2019</td>\n",
       "      <td>32985</td>\n",
       "      <td>Automatic</td>\n",
       "      <td>1285</td>\n",
       "      <td>Diesel</td>\n",
       "      <td>145</td>\n",
       "      <td>39.2</td>\n",
       "      <td>3.0</td>\n",
       "    </tr>\n",
       "    <tr>\n",
       "      <td>476</td>\n",
       "      <td>A7</td>\n",
       "      <td>2019</td>\n",
       "      <td>41995</td>\n",
       "      <td>Semi-Auto</td>\n",
       "      <td>933</td>\n",
       "      <td>Diesel</td>\n",
       "      <td>145</td>\n",
       "      <td>45.6</td>\n",
       "      <td>2.0</td>\n",
       "    </tr>\n",
       "    <tr>\n",
       "      <td>...</td>\n",
       "      <td>...</td>\n",
       "      <td>...</td>\n",
       "      <td>...</td>\n",
       "      <td>...</td>\n",
       "      <td>...</td>\n",
       "      <td>...</td>\n",
       "      <td>...</td>\n",
       "      <td>...</td>\n",
       "      <td>...</td>\n",
       "    </tr>\n",
       "    <tr>\n",
       "      <td>10341</td>\n",
       "      <td>A7</td>\n",
       "      <td>2020</td>\n",
       "      <td>45000</td>\n",
       "      <td>Automatic</td>\n",
       "      <td>1200</td>\n",
       "      <td>Diesel</td>\n",
       "      <td>150</td>\n",
       "      <td>38.2</td>\n",
       "      <td>3.0</td>\n",
       "    </tr>\n",
       "    <tr>\n",
       "      <td>10414</td>\n",
       "      <td>A7</td>\n",
       "      <td>2019</td>\n",
       "      <td>48790</td>\n",
       "      <td>Automatic</td>\n",
       "      <td>4700</td>\n",
       "      <td>Diesel</td>\n",
       "      <td>145</td>\n",
       "      <td>35.8</td>\n",
       "      <td>3.0</td>\n",
       "    </tr>\n",
       "    <tr>\n",
       "      <td>10441</td>\n",
       "      <td>A7</td>\n",
       "      <td>2016</td>\n",
       "      <td>22990</td>\n",
       "      <td>Semi-Auto</td>\n",
       "      <td>26000</td>\n",
       "      <td>Diesel</td>\n",
       "      <td>160</td>\n",
       "      <td>52.3</td>\n",
       "      <td>3.0</td>\n",
       "    </tr>\n",
       "    <tr>\n",
       "      <td>10585</td>\n",
       "      <td>A7</td>\n",
       "      <td>2016</td>\n",
       "      <td>43000</td>\n",
       "      <td>Automatic</td>\n",
       "      <td>55500</td>\n",
       "      <td>Petrol</td>\n",
       "      <td>325</td>\n",
       "      <td>29.7</td>\n",
       "      <td>4.0</td>\n",
       "    </tr>\n",
       "    <tr>\n",
       "      <td>10586</td>\n",
       "      <td>A7</td>\n",
       "      <td>2017</td>\n",
       "      <td>31000</td>\n",
       "      <td>Semi-Auto</td>\n",
       "      <td>47800</td>\n",
       "      <td>Petrol</td>\n",
       "      <td>150</td>\n",
       "      <td>29.7</td>\n",
       "      <td>4.0</td>\n",
       "    </tr>\n",
       "  </tbody>\n",
       "</table>\n",
       "<p>122 rows × 9 columns</p>\n",
       "</div>"
      ],
      "text/plain": [
       "      model  year  price transmission  mileage fuelType  tax   mpg  engineSize\n",
       "116      A7  2014  19500    Automatic    55774   Diesel  235  44.8         3.0\n",
       "203      A7  2019  39985    Automatic     5201   Diesel  145  38.7         3.0\n",
       "234      A7  2019  43885    Semi-Auto       10   Diesel  145  38.2         3.0\n",
       "350      A7  2019  32985    Automatic     1285   Diesel  145  39.2         3.0\n",
       "476      A7  2019  41995    Semi-Auto      933   Diesel  145  45.6         2.0\n",
       "...     ...   ...    ...          ...      ...      ...  ...   ...         ...\n",
       "10341    A7  2020  45000    Automatic     1200   Diesel  150  38.2         3.0\n",
       "10414    A7  2019  48790    Automatic     4700   Diesel  145  35.8         3.0\n",
       "10441    A7  2016  22990    Semi-Auto    26000   Diesel  160  52.3         3.0\n",
       "10585    A7  2016  43000    Automatic    55500   Petrol  325  29.7         4.0\n",
       "10586    A7  2017  31000    Semi-Auto    47800   Petrol  150  29.7         4.0\n",
       "\n",
       "[122 rows x 9 columns]"
      ]
     },
     "execution_count": 28,
     "metadata": {},
     "output_type": "execute_result"
    }
   ],
   "source": [
    "audi[audi['model'] == ' A7']"
   ]
  },
  {
   "cell_type": "markdown",
   "metadata": {},
   "source": [
    "It worked! There is an additional space in front of the value. "
   ]
  },
  {
   "cell_type": "code",
   "execution_count": 29,
   "metadata": {},
   "outputs": [
    {
     "data": {
      "text/html": [
       "<div>\n",
       "<style scoped>\n",
       "    .dataframe tbody tr th:only-of-type {\n",
       "        vertical-align: middle;\n",
       "    }\n",
       "\n",
       "    .dataframe tbody tr th {\n",
       "        vertical-align: top;\n",
       "    }\n",
       "\n",
       "    .dataframe thead th {\n",
       "        text-align: right;\n",
       "    }\n",
       "</style>\n",
       "<table border=\"1\" class=\"dataframe\">\n",
       "  <thead>\n",
       "    <tr style=\"text-align: right;\">\n",
       "      <th></th>\n",
       "      <th>model</th>\n",
       "      <th>year</th>\n",
       "      <th>price</th>\n",
       "      <th>transmission</th>\n",
       "      <th>mileage</th>\n",
       "      <th>fuelType</th>\n",
       "      <th>tax</th>\n",
       "      <th>mpg</th>\n",
       "      <th>engineSize</th>\n",
       "    </tr>\n",
       "  </thead>\n",
       "  <tbody>\n",
       "    <tr>\n",
       "      <td>4</td>\n",
       "      <td>A3</td>\n",
       "      <td>2019</td>\n",
       "      <td>17300</td>\n",
       "      <td>Manual</td>\n",
       "      <td>1998</td>\n",
       "      <td>Petrol</td>\n",
       "      <td>145</td>\n",
       "      <td>49.6</td>\n",
       "      <td>1.0</td>\n",
       "    </tr>\n",
       "    <tr>\n",
       "      <td>8</td>\n",
       "      <td>A3</td>\n",
       "      <td>2015</td>\n",
       "      <td>10200</td>\n",
       "      <td>Manual</td>\n",
       "      <td>46112</td>\n",
       "      <td>Petrol</td>\n",
       "      <td>20</td>\n",
       "      <td>60.1</td>\n",
       "      <td>1.4</td>\n",
       "    </tr>\n",
       "    <tr>\n",
       "      <td>10</td>\n",
       "      <td>A3</td>\n",
       "      <td>2017</td>\n",
       "      <td>16100</td>\n",
       "      <td>Manual</td>\n",
       "      <td>28955</td>\n",
       "      <td>Petrol</td>\n",
       "      <td>145</td>\n",
       "      <td>58.9</td>\n",
       "      <td>1.4</td>\n",
       "    </tr>\n",
       "    <tr>\n",
       "      <td>13</td>\n",
       "      <td>A3</td>\n",
       "      <td>2017</td>\n",
       "      <td>16400</td>\n",
       "      <td>Manual</td>\n",
       "      <td>21695</td>\n",
       "      <td>Petrol</td>\n",
       "      <td>30</td>\n",
       "      <td>58.9</td>\n",
       "      <td>1.4</td>\n",
       "    </tr>\n",
       "    <tr>\n",
       "      <td>15</td>\n",
       "      <td>A3</td>\n",
       "      <td>2017</td>\n",
       "      <td>14500</td>\n",
       "      <td>Automatic</td>\n",
       "      <td>26156</td>\n",
       "      <td>Petrol</td>\n",
       "      <td>145</td>\n",
       "      <td>58.9</td>\n",
       "      <td>1.4</td>\n",
       "    </tr>\n",
       "    <tr>\n",
       "      <td>...</td>\n",
       "      <td>...</td>\n",
       "      <td>...</td>\n",
       "      <td>...</td>\n",
       "      <td>...</td>\n",
       "      <td>...</td>\n",
       "      <td>...</td>\n",
       "      <td>...</td>\n",
       "      <td>...</td>\n",
       "      <td>...</td>\n",
       "    </tr>\n",
       "    <tr>\n",
       "      <td>10658</td>\n",
       "      <td>A3</td>\n",
       "      <td>2016</td>\n",
       "      <td>14995</td>\n",
       "      <td>Manual</td>\n",
       "      <td>39750</td>\n",
       "      <td>Petrol</td>\n",
       "      <td>30</td>\n",
       "      <td>57.6</td>\n",
       "      <td>1.4</td>\n",
       "    </tr>\n",
       "    <tr>\n",
       "      <td>10662</td>\n",
       "      <td>A3</td>\n",
       "      <td>2013</td>\n",
       "      <td>12695</td>\n",
       "      <td>Manual</td>\n",
       "      <td>31500</td>\n",
       "      <td>Petrol</td>\n",
       "      <td>125</td>\n",
       "      <td>53.3</td>\n",
       "      <td>1.4</td>\n",
       "    </tr>\n",
       "    <tr>\n",
       "      <td>10663</td>\n",
       "      <td>A3</td>\n",
       "      <td>2020</td>\n",
       "      <td>16999</td>\n",
       "      <td>Manual</td>\n",
       "      <td>4018</td>\n",
       "      <td>Petrol</td>\n",
       "      <td>145</td>\n",
       "      <td>49.6</td>\n",
       "      <td>1.0</td>\n",
       "    </tr>\n",
       "    <tr>\n",
       "      <td>10664</td>\n",
       "      <td>A3</td>\n",
       "      <td>2020</td>\n",
       "      <td>16999</td>\n",
       "      <td>Manual</td>\n",
       "      <td>1978</td>\n",
       "      <td>Petrol</td>\n",
       "      <td>150</td>\n",
       "      <td>49.6</td>\n",
       "      <td>1.0</td>\n",
       "    </tr>\n",
       "    <tr>\n",
       "      <td>10665</td>\n",
       "      <td>A3</td>\n",
       "      <td>2020</td>\n",
       "      <td>17199</td>\n",
       "      <td>Manual</td>\n",
       "      <td>609</td>\n",
       "      <td>Petrol</td>\n",
       "      <td>150</td>\n",
       "      <td>49.6</td>\n",
       "      <td>1.0</td>\n",
       "    </tr>\n",
       "  </tbody>\n",
       "</table>\n",
       "<p>1929 rows × 9 columns</p>\n",
       "</div>"
      ],
      "text/plain": [
       "      model  year  price transmission  mileage fuelType  tax   mpg  engineSize\n",
       "4        A3  2019  17300       Manual     1998   Petrol  145  49.6         1.0\n",
       "8        A3  2015  10200       Manual    46112   Petrol   20  60.1         1.4\n",
       "10       A3  2017  16100       Manual    28955   Petrol  145  58.9         1.4\n",
       "13       A3  2017  16400       Manual    21695   Petrol   30  58.9         1.4\n",
       "15       A3  2017  14500    Automatic    26156   Petrol  145  58.9         1.4\n",
       "...     ...   ...    ...          ...      ...      ...  ...   ...         ...\n",
       "10658    A3  2016  14995       Manual    39750   Petrol   30  57.6         1.4\n",
       "10662    A3  2013  12695       Manual    31500   Petrol  125  53.3         1.4\n",
       "10663    A3  2020  16999       Manual     4018   Petrol  145  49.6         1.0\n",
       "10664    A3  2020  16999       Manual     1978   Petrol  150  49.6         1.0\n",
       "10665    A3  2020  17199       Manual      609   Petrol  150  49.6         1.0\n",
       "\n",
       "[1929 rows x 9 columns]"
      ]
     },
     "execution_count": 29,
     "metadata": {},
     "output_type": "execute_result"
    }
   ],
   "source": [
    "audi[audi['model'] == ' A3']"
   ]
  },
  {
   "cell_type": "markdown",
   "metadata": {},
   "source": [
    "Trying the extra space with another car model, just to be sure"
   ]
  },
  {
   "cell_type": "markdown",
   "metadata": {},
   "source": [
    "I don't like the presence of that additional space. I want to remove it for convenience"
   ]
  },
  {
   "cell_type": "code",
   "execution_count": 30,
   "metadata": {},
   "outputs": [],
   "source": [
    "# for each value in the model column, I'm removing the space in front of the model name\n",
    "audi['model'] = audi['model'].apply(lambda value: value.replace(' ',''), )"
   ]
  },
  {
   "cell_type": "code",
   "execution_count": 31,
   "metadata": {},
   "outputs": [
    {
     "data": {
      "text/html": [
       "<div>\n",
       "<style scoped>\n",
       "    .dataframe tbody tr th:only-of-type {\n",
       "        vertical-align: middle;\n",
       "    }\n",
       "\n",
       "    .dataframe tbody tr th {\n",
       "        vertical-align: top;\n",
       "    }\n",
       "\n",
       "    .dataframe thead th {\n",
       "        text-align: right;\n",
       "    }\n",
       "</style>\n",
       "<table border=\"1\" class=\"dataframe\">\n",
       "  <thead>\n",
       "    <tr style=\"text-align: right;\">\n",
       "      <th></th>\n",
       "      <th>model</th>\n",
       "      <th>year</th>\n",
       "      <th>price</th>\n",
       "      <th>transmission</th>\n",
       "      <th>mileage</th>\n",
       "      <th>fuelType</th>\n",
       "      <th>tax</th>\n",
       "      <th>mpg</th>\n",
       "      <th>engineSize</th>\n",
       "    </tr>\n",
       "  </thead>\n",
       "  <tbody>\n",
       "    <tr>\n",
       "      <td>116</td>\n",
       "      <td>A7</td>\n",
       "      <td>2014</td>\n",
       "      <td>19500</td>\n",
       "      <td>Automatic</td>\n",
       "      <td>55774</td>\n",
       "      <td>Diesel</td>\n",
       "      <td>235</td>\n",
       "      <td>44.8</td>\n",
       "      <td>3.0</td>\n",
       "    </tr>\n",
       "    <tr>\n",
       "      <td>203</td>\n",
       "      <td>A7</td>\n",
       "      <td>2019</td>\n",
       "      <td>39985</td>\n",
       "      <td>Automatic</td>\n",
       "      <td>5201</td>\n",
       "      <td>Diesel</td>\n",
       "      <td>145</td>\n",
       "      <td>38.7</td>\n",
       "      <td>3.0</td>\n",
       "    </tr>\n",
       "    <tr>\n",
       "      <td>234</td>\n",
       "      <td>A7</td>\n",
       "      <td>2019</td>\n",
       "      <td>43885</td>\n",
       "      <td>Semi-Auto</td>\n",
       "      <td>10</td>\n",
       "      <td>Diesel</td>\n",
       "      <td>145</td>\n",
       "      <td>38.2</td>\n",
       "      <td>3.0</td>\n",
       "    </tr>\n",
       "    <tr>\n",
       "      <td>350</td>\n",
       "      <td>A7</td>\n",
       "      <td>2019</td>\n",
       "      <td>32985</td>\n",
       "      <td>Automatic</td>\n",
       "      <td>1285</td>\n",
       "      <td>Diesel</td>\n",
       "      <td>145</td>\n",
       "      <td>39.2</td>\n",
       "      <td>3.0</td>\n",
       "    </tr>\n",
       "    <tr>\n",
       "      <td>476</td>\n",
       "      <td>A7</td>\n",
       "      <td>2019</td>\n",
       "      <td>41995</td>\n",
       "      <td>Semi-Auto</td>\n",
       "      <td>933</td>\n",
       "      <td>Diesel</td>\n",
       "      <td>145</td>\n",
       "      <td>45.6</td>\n",
       "      <td>2.0</td>\n",
       "    </tr>\n",
       "    <tr>\n",
       "      <td>...</td>\n",
       "      <td>...</td>\n",
       "      <td>...</td>\n",
       "      <td>...</td>\n",
       "      <td>...</td>\n",
       "      <td>...</td>\n",
       "      <td>...</td>\n",
       "      <td>...</td>\n",
       "      <td>...</td>\n",
       "      <td>...</td>\n",
       "    </tr>\n",
       "    <tr>\n",
       "      <td>10341</td>\n",
       "      <td>A7</td>\n",
       "      <td>2020</td>\n",
       "      <td>45000</td>\n",
       "      <td>Automatic</td>\n",
       "      <td>1200</td>\n",
       "      <td>Diesel</td>\n",
       "      <td>150</td>\n",
       "      <td>38.2</td>\n",
       "      <td>3.0</td>\n",
       "    </tr>\n",
       "    <tr>\n",
       "      <td>10414</td>\n",
       "      <td>A7</td>\n",
       "      <td>2019</td>\n",
       "      <td>48790</td>\n",
       "      <td>Automatic</td>\n",
       "      <td>4700</td>\n",
       "      <td>Diesel</td>\n",
       "      <td>145</td>\n",
       "      <td>35.8</td>\n",
       "      <td>3.0</td>\n",
       "    </tr>\n",
       "    <tr>\n",
       "      <td>10441</td>\n",
       "      <td>A7</td>\n",
       "      <td>2016</td>\n",
       "      <td>22990</td>\n",
       "      <td>Semi-Auto</td>\n",
       "      <td>26000</td>\n",
       "      <td>Diesel</td>\n",
       "      <td>160</td>\n",
       "      <td>52.3</td>\n",
       "      <td>3.0</td>\n",
       "    </tr>\n",
       "    <tr>\n",
       "      <td>10585</td>\n",
       "      <td>A7</td>\n",
       "      <td>2016</td>\n",
       "      <td>43000</td>\n",
       "      <td>Automatic</td>\n",
       "      <td>55500</td>\n",
       "      <td>Petrol</td>\n",
       "      <td>325</td>\n",
       "      <td>29.7</td>\n",
       "      <td>4.0</td>\n",
       "    </tr>\n",
       "    <tr>\n",
       "      <td>10586</td>\n",
       "      <td>A7</td>\n",
       "      <td>2017</td>\n",
       "      <td>31000</td>\n",
       "      <td>Semi-Auto</td>\n",
       "      <td>47800</td>\n",
       "      <td>Petrol</td>\n",
       "      <td>150</td>\n",
       "      <td>29.7</td>\n",
       "      <td>4.0</td>\n",
       "    </tr>\n",
       "  </tbody>\n",
       "</table>\n",
       "<p>122 rows × 9 columns</p>\n",
       "</div>"
      ],
      "text/plain": [
       "      model  year  price transmission  mileage fuelType  tax   mpg  engineSize\n",
       "116      A7  2014  19500    Automatic    55774   Diesel  235  44.8         3.0\n",
       "203      A7  2019  39985    Automatic     5201   Diesel  145  38.7         3.0\n",
       "234      A7  2019  43885    Semi-Auto       10   Diesel  145  38.2         3.0\n",
       "350      A7  2019  32985    Automatic     1285   Diesel  145  39.2         3.0\n",
       "476      A7  2019  41995    Semi-Auto      933   Diesel  145  45.6         2.0\n",
       "...     ...   ...    ...          ...      ...      ...  ...   ...         ...\n",
       "10341    A7  2020  45000    Automatic     1200   Diesel  150  38.2         3.0\n",
       "10414    A7  2019  48790    Automatic     4700   Diesel  145  35.8         3.0\n",
       "10441    A7  2016  22990    Semi-Auto    26000   Diesel  160  52.3         3.0\n",
       "10585    A7  2016  43000    Automatic    55500   Petrol  325  29.7         4.0\n",
       "10586    A7  2017  31000    Semi-Auto    47800   Petrol  150  29.7         4.0\n",
       "\n",
       "[122 rows x 9 columns]"
      ]
     },
     "execution_count": 31,
     "metadata": {},
     "output_type": "execute_result"
    }
   ],
   "source": [
    "audi[audi['model'] == 'A7']"
   ]
  },
  {
   "cell_type": "markdown",
   "metadata": {},
   "source": [
    "It works!"
   ]
  },
  {
   "cell_type": "markdown",
   "metadata": {},
   "source": [
    "##### mean engine size by model"
   ]
  },
  {
   "cell_type": "code",
   "execution_count": 32,
   "metadata": {},
   "outputs": [
    {
     "data": {
      "text/plain": [
       "<matplotlib.axes._subplots.AxesSubplot at 0x9c47f04048>"
      ]
     },
     "execution_count": 32,
     "metadata": {},
     "output_type": "execute_result"
    },
    {
     "data": {
      "image/png": "[encoded data removed]",
      "text/plain": [
       "<Figure size 1008x432 with 1 Axes>"
      ]
     },
     "metadata": {
      "needs_background": "light"
     },
     "output_type": "display_data"
    }
   ],
   "source": [
    "plt.figure(figsize = (14,6))\n",
    "sns.barplot(audi['model'], audi['engineSize'], ci = None)"
   ]
  },
  {
   "cell_type": "markdown",
   "metadata": {},
   "source": [
    "##### most common engine size by model"
   ]
  },
  {
   "cell_type": "code",
   "execution_count": 108,
   "metadata": {},
   "outputs": [],
   "source": [
    "from scipy import stats"
   ]
  },
  {
   "cell_type": "code",
   "execution_count": 116,
   "metadata": {},
   "outputs": [],
   "source": [
    "# create a dictionary storing model and most common engine size of the model\n",
    "mode_engines = dict(audi.groupby('model').agg(lambda x: stats.mode(x['engineSize'])[0])['engineSize'].sort_values())"
   ]
  },
  {
   "cell_type": "code",
   "execution_count": 117,
   "metadata": {},
   "outputs": [
    {
     "data": {
      "text/plain": [
       "{'A1': 1.4,\n",
       " 'A2': 1.4,\n",
       " 'Q2': 1.6,\n",
       " 'S3': 2.0,\n",
       " 'Q5': 2.0,\n",
       " 'Q3': 2.0,\n",
       " 'TT': 2.0,\n",
       " 'A6': 2.0,\n",
       " 'A5': 2.0,\n",
       " 'A4': 2.0,\n",
       " 'A3': 2.0,\n",
       " 'RS3': 2.5,\n",
       " 'RS5': 2.9,\n",
       " 'RS4': 2.9,\n",
       " 'SQ5': 3.0,\n",
       " 'S5': 3.0,\n",
       " 'S4': 3.0,\n",
       " 'A8': 3.0,\n",
       " 'A7': 3.0,\n",
       " 'Q7': 3.0,\n",
       " 'Q8': 3.0,\n",
       " 'RS7': 4.0,\n",
       " 'SQ7': 4.0,\n",
       " 'S8': 4.0,\n",
       " 'RS6': 4.0,\n",
       " 'R8': 5.2}"
      ]
     },
     "execution_count": 117,
     "metadata": {},
     "output_type": "execute_result"
    }
   ],
   "source": [
    "mode_engines"
   ]
  },
  {
   "cell_type": "code",
   "execution_count": 123,
   "metadata": {},
   "outputs": [],
   "source": [
    "audi['engineSize'].replace(0, np.nan, inplace = True )"
   ]
  },
  {
   "cell_type": "markdown",
   "metadata": {},
   "source": [
    "0's are replaced with nan values for later conversion"
   ]
  },
  {
   "cell_type": "code",
   "execution_count": 125,
   "metadata": {},
   "outputs": [
    {
     "data": {
      "text/plain": [
       "nan"
      ]
     },
     "execution_count": 125,
     "metadata": {},
     "output_type": "execute_result"
    }
   ],
   "source": [
    "audi['engineSize'][7728]"
   ]
  },
  {
   "cell_type": "markdown",
   "metadata": {},
   "source": [
    "checking that the engine size for car 7728 (one of the cars with a size 0 engine) is now nan"
   ]
  },
  {
   "cell_type": "code",
   "execution_count": 127,
   "metadata": {},
   "outputs": [],
   "source": [
    "audi['engineSize'] = audi.groupby(['model'], sort=False)['engineSize'].apply(lambda x: x.fillna(x.mode().iloc[0]))"
   ]
  },
  {
   "cell_type": "markdown",
   "metadata": {},
   "source": [
    "Our conversion. Where engine size is nan (originally 0), it is replaced with the mode of the associated model of the car. So, for car 7728, an SQ5, the mode will be 3.0 per our mode_engines dictionary created a few cells above"
   ]
  },
  {
   "cell_type": "code",
   "execution_count": 128,
   "metadata": {},
   "outputs": [
    {
     "data": {
      "text/plain": [
       "3.0"
      ]
     },
     "execution_count": 128,
     "metadata": {},
     "output_type": "execute_result"
    }
   ],
   "source": [
    "audi['engineSize'][7728]"
   ]
  },
  {
   "cell_type": "markdown",
   "metadata": {},
   "source": [
    "The engine size for car 7728 is in fact now 3.0"
   ]
  },
  {
   "cell_type": "markdown",
   "metadata": {},
   "source": [
    "## Initial Model Tests"
   ]
  },
  {
   "cell_type": "code",
   "execution_count": 129,
   "metadata": {
    "scrolled": true
   },
   "outputs": [
    {
     "data": {
      "text/html": [
       "<div>\n",
       "<style scoped>\n",
       "    .dataframe tbody tr th:only-of-type {\n",
       "        vertical-align: middle;\n",
       "    }\n",
       "\n",
       "    .dataframe tbody tr th {\n",
       "        vertical-align: top;\n",
       "    }\n",
       "\n",
       "    .dataframe thead th {\n",
       "        text-align: right;\n",
       "    }\n",
       "</style>\n",
       "<table border=\"1\" class=\"dataframe\">\n",
       "  <thead>\n",
       "    <tr style=\"text-align: right;\">\n",
       "      <th></th>\n",
       "      <th>model</th>\n",
       "      <th>year</th>\n",
       "      <th>price</th>\n",
       "      <th>transmission</th>\n",
       "      <th>mileage</th>\n",
       "      <th>fuelType</th>\n",
       "      <th>tax</th>\n",
       "      <th>mpg</th>\n",
       "      <th>engineSize</th>\n",
       "    </tr>\n",
       "  </thead>\n",
       "  <tbody>\n",
       "    <tr>\n",
       "      <td>0</td>\n",
       "      <td>A1</td>\n",
       "      <td>2017</td>\n",
       "      <td>12500</td>\n",
       "      <td>Manual</td>\n",
       "      <td>15735</td>\n",
       "      <td>Petrol</td>\n",
       "      <td>150</td>\n",
       "      <td>55.4</td>\n",
       "      <td>1.4</td>\n",
       "    </tr>\n",
       "    <tr>\n",
       "      <td>1</td>\n",
       "      <td>A6</td>\n",
       "      <td>2016</td>\n",
       "      <td>16500</td>\n",
       "      <td>Automatic</td>\n",
       "      <td>36203</td>\n",
       "      <td>Diesel</td>\n",
       "      <td>20</td>\n",
       "      <td>64.2</td>\n",
       "      <td>2.0</td>\n",
       "    </tr>\n",
       "    <tr>\n",
       "      <td>2</td>\n",
       "      <td>A1</td>\n",
       "      <td>2016</td>\n",
       "      <td>11000</td>\n",
       "      <td>Manual</td>\n",
       "      <td>29946</td>\n",
       "      <td>Petrol</td>\n",
       "      <td>30</td>\n",
       "      <td>55.4</td>\n",
       "      <td>1.4</td>\n",
       "    </tr>\n",
       "    <tr>\n",
       "      <td>3</td>\n",
       "      <td>A4</td>\n",
       "      <td>2017</td>\n",
       "      <td>16800</td>\n",
       "      <td>Automatic</td>\n",
       "      <td>25952</td>\n",
       "      <td>Diesel</td>\n",
       "      <td>145</td>\n",
       "      <td>67.3</td>\n",
       "      <td>2.0</td>\n",
       "    </tr>\n",
       "    <tr>\n",
       "      <td>4</td>\n",
       "      <td>A3</td>\n",
       "      <td>2019</td>\n",
       "      <td>17300</td>\n",
       "      <td>Manual</td>\n",
       "      <td>1998</td>\n",
       "      <td>Petrol</td>\n",
       "      <td>145</td>\n",
       "      <td>49.6</td>\n",
       "      <td>1.0</td>\n",
       "    </tr>\n",
       "  </tbody>\n",
       "</table>\n",
       "</div>"
      ],
      "text/plain": [
       "  model  year  price transmission  mileage fuelType  tax   mpg  engineSize\n",
       "0    A1  2017  12500       Manual    15735   Petrol  150  55.4         1.4\n",
       "1    A6  2016  16500    Automatic    36203   Diesel   20  64.2         2.0\n",
       "2    A1  2016  11000       Manual    29946   Petrol   30  55.4         1.4\n",
       "3    A4  2017  16800    Automatic    25952   Diesel  145  67.3         2.0\n",
       "4    A3  2019  17300       Manual     1998   Petrol  145  49.6         1.0"
      ]
     },
     "execution_count": 129,
     "metadata": {},
     "output_type": "execute_result"
    }
   ],
   "source": [
    "audi.head()"
   ]
  },
  {
   "cell_type": "code",
   "execution_count": 130,
   "metadata": {},
   "outputs": [],
   "source": [
    "audi_ml = pd.get_dummies(audi, drop_first=True, columns = ['transmission', 'fuelType', 'model'])"
   ]
  },
  {
   "cell_type": "code",
   "execution_count": 131,
   "metadata": {},
   "outputs": [
    {
     "data": {
      "text/html": [
       "<div>\n",
       "<style scoped>\n",
       "    .dataframe tbody tr th:only-of-type {\n",
       "        vertical-align: middle;\n",
       "    }\n",
       "\n",
       "    .dataframe tbody tr th {\n",
       "        vertical-align: top;\n",
       "    }\n",
       "\n",
       "    .dataframe thead th {\n",
       "        text-align: right;\n",
       "    }\n",
       "</style>\n",
       "<table border=\"1\" class=\"dataframe\">\n",
       "  <thead>\n",
       "    <tr style=\"text-align: right;\">\n",
       "      <th></th>\n",
       "      <th>year</th>\n",
       "      <th>price</th>\n",
       "      <th>mileage</th>\n",
       "      <th>tax</th>\n",
       "      <th>mpg</th>\n",
       "      <th>engineSize</th>\n",
       "      <th>transmission_Manual</th>\n",
       "      <th>transmission_Semi-Auto</th>\n",
       "      <th>fuelType_Hybrid</th>\n",
       "      <th>fuelType_Petrol</th>\n",
       "      <th>...</th>\n",
       "      <th>model_RS5</th>\n",
       "      <th>model_RS6</th>\n",
       "      <th>model_RS7</th>\n",
       "      <th>model_S3</th>\n",
       "      <th>model_S4</th>\n",
       "      <th>model_S5</th>\n",
       "      <th>model_S8</th>\n",
       "      <th>model_SQ5</th>\n",
       "      <th>model_SQ7</th>\n",
       "      <th>model_TT</th>\n",
       "    </tr>\n",
       "  </thead>\n",
       "  <tbody>\n",
       "    <tr>\n",
       "      <td>0</td>\n",
       "      <td>2017</td>\n",
       "      <td>12500</td>\n",
       "      <td>15735</td>\n",
       "      <td>150</td>\n",
       "      <td>55.4</td>\n",
       "      <td>1.4</td>\n",
       "      <td>1</td>\n",
       "      <td>0</td>\n",
       "      <td>0</td>\n",
       "      <td>1</td>\n",
       "      <td>...</td>\n",
       "      <td>0</td>\n",
       "      <td>0</td>\n",
       "      <td>0</td>\n",
       "      <td>0</td>\n",
       "      <td>0</td>\n",
       "      <td>0</td>\n",
       "      <td>0</td>\n",
       "      <td>0</td>\n",
       "      <td>0</td>\n",
       "      <td>0</td>\n",
       "    </tr>\n",
       "    <tr>\n",
       "      <td>1</td>\n",
       "      <td>2016</td>\n",
       "      <td>16500</td>\n",
       "      <td>36203</td>\n",
       "      <td>20</td>\n",
       "      <td>64.2</td>\n",
       "      <td>2.0</td>\n",
       "      <td>0</td>\n",
       "      <td>0</td>\n",
       "      <td>0</td>\n",
       "      <td>0</td>\n",
       "      <td>...</td>\n",
       "      <td>0</td>\n",
       "      <td>0</td>\n",
       "      <td>0</td>\n",
       "      <td>0</td>\n",
       "      <td>0</td>\n",
       "      <td>0</td>\n",
       "      <td>0</td>\n",
       "      <td>0</td>\n",
       "      <td>0</td>\n",
       "      <td>0</td>\n",
       "    </tr>\n",
       "    <tr>\n",
       "      <td>2</td>\n",
       "      <td>2016</td>\n",
       "      <td>11000</td>\n",
       "      <td>29946</td>\n",
       "      <td>30</td>\n",
       "      <td>55.4</td>\n",
       "      <td>1.4</td>\n",
       "      <td>1</td>\n",
       "      <td>0</td>\n",
       "      <td>0</td>\n",
       "      <td>1</td>\n",
       "      <td>...</td>\n",
       "      <td>0</td>\n",
       "      <td>0</td>\n",
       "      <td>0</td>\n",
       "      <td>0</td>\n",
       "      <td>0</td>\n",
       "      <td>0</td>\n",
       "      <td>0</td>\n",
       "      <td>0</td>\n",
       "      <td>0</td>\n",
       "      <td>0</td>\n",
       "    </tr>\n",
       "    <tr>\n",
       "      <td>3</td>\n",
       "      <td>2017</td>\n",
       "      <td>16800</td>\n",
       "      <td>25952</td>\n",
       "      <td>145</td>\n",
       "      <td>67.3</td>\n",
       "      <td>2.0</td>\n",
       "      <td>0</td>\n",
       "      <td>0</td>\n",
       "      <td>0</td>\n",
       "      <td>0</td>\n",
       "      <td>...</td>\n",
       "      <td>0</td>\n",
       "      <td>0</td>\n",
       "      <td>0</td>\n",
       "      <td>0</td>\n",
       "      <td>0</td>\n",
       "      <td>0</td>\n",
       "      <td>0</td>\n",
       "      <td>0</td>\n",
       "      <td>0</td>\n",
       "      <td>0</td>\n",
       "    </tr>\n",
       "    <tr>\n",
       "      <td>4</td>\n",
       "      <td>2019</td>\n",
       "      <td>17300</td>\n",
       "      <td>1998</td>\n",
       "      <td>145</td>\n",
       "      <td>49.6</td>\n",
       "      <td>1.0</td>\n",
       "      <td>1</td>\n",
       "      <td>0</td>\n",
       "      <td>0</td>\n",
       "      <td>1</td>\n",
       "      <td>...</td>\n",
       "      <td>0</td>\n",
       "      <td>0</td>\n",
       "      <td>0</td>\n",
       "      <td>0</td>\n",
       "      <td>0</td>\n",
       "      <td>0</td>\n",
       "      <td>0</td>\n",
       "      <td>0</td>\n",
       "      <td>0</td>\n",
       "      <td>0</td>\n",
       "    </tr>\n",
       "  </tbody>\n",
       "</table>\n",
       "<p>5 rows × 35 columns</p>\n",
       "</div>"
      ],
      "text/plain": [
       "   year  price  mileage  tax   mpg  engineSize  transmission_Manual  \\\n",
       "0  2017  12500    15735  150  55.4         1.4                    1   \n",
       "1  2016  16500    36203   20  64.2         2.0                    0   \n",
       "2  2016  11000    29946   30  55.4         1.4                    1   \n",
       "3  2017  16800    25952  145  67.3         2.0                    0   \n",
       "4  2019  17300     1998  145  49.6         1.0                    1   \n",
       "\n",
       "   transmission_Semi-Auto  fuelType_Hybrid  fuelType_Petrol  ...  model_RS5  \\\n",
       "0                       0                0                1  ...          0   \n",
       "1                       0                0                0  ...          0   \n",
       "2                       0                0                1  ...          0   \n",
       "3                       0                0                0  ...          0   \n",
       "4                       0                0                1  ...          0   \n",
       "\n",
       "   model_RS6  model_RS7  model_S3  model_S4  model_S5  model_S8  model_SQ5  \\\n",
       "0          0          0         0         0         0         0          0   \n",
       "1          0          0         0         0         0         0          0   \n",
       "2          0          0         0         0         0         0          0   \n",
       "3          0          0         0         0         0         0          0   \n",
       "4          0          0         0         0         0         0          0   \n",
       "\n",
       "   model_SQ7  model_TT  \n",
       "0          0         0  \n",
       "1          0         0  \n",
       "2          0         0  \n",
       "3          0         0  \n",
       "4          0         0  \n",
       "\n",
       "[5 rows x 35 columns]"
      ]
     },
     "execution_count": 131,
     "metadata": {},
     "output_type": "execute_result"
    }
   ],
   "source": [
    "audi_ml.head()"
   ]
  },
  {
   "cell_type": "markdown",
   "metadata": {},
   "source": [
    "### Linear Regression"
   ]
  },
  {
   "cell_type": "code",
   "execution_count": 40,
   "metadata": {},
   "outputs": [],
   "source": [
    "from sklearn.linear_model import LinearRegression"
   ]
  },
  {
   "cell_type": "code",
   "execution_count": 132,
   "metadata": {},
   "outputs": [],
   "source": [
    "lreg = LinearRegression()"
   ]
  },
  {
   "cell_type": "code",
   "execution_count": 42,
   "metadata": {},
   "outputs": [],
   "source": [
    "from sklearn.model_selection import train_test_split"
   ]
  },
  {
   "cell_type": "code",
   "execution_count": 133,
   "metadata": {},
   "outputs": [],
   "source": [
    "X = audi_ml.drop(['price'], axis = 1)\n",
    "y = audi_ml['price']"
   ]
  },
  {
   "cell_type": "code",
   "execution_count": 134,
   "metadata": {},
   "outputs": [],
   "source": [
    "X_train, X_test, y_train, y_test = train_test_split(X, y, test_size=0.3, random_state=101)"
   ]
  },
  {
   "cell_type": "markdown",
   "metadata": {},
   "source": [
    "#### Apply Linear Regression to Raw Data"
   ]
  },
  {
   "cell_type": "code",
   "execution_count": 135,
   "metadata": {},
   "outputs": [
    {
     "data": {
      "text/plain": [
       "LinearRegression(copy_X=True, fit_intercept=True, n_jobs=None, normalize=False)"
      ]
     },
     "execution_count": 135,
     "metadata": {},
     "output_type": "execute_result"
    }
   ],
   "source": [
    "lreg.fit(X_train, y_train)"
   ]
  },
  {
   "cell_type": "code",
   "execution_count": 136,
   "metadata": {},
   "outputs": [
    {
     "data": {
      "text/plain": [
       "0.8956811700965293"
      ]
     },
     "execution_count": 136,
     "metadata": {},
     "output_type": "execute_result"
    }
   ],
   "source": [
    "lreg.score(X_test, y_test)"
   ]
  },
  {
   "cell_type": "markdown",
   "metadata": {},
   "source": [
    "r2 score of 89.6% is not bad for a first attempt!"
   ]
  },
  {
   "cell_type": "code",
   "execution_count": 137,
   "metadata": {},
   "outputs": [],
   "source": [
    "predictions = lreg.predict(X_test)"
   ]
  },
  {
   "cell_type": "markdown",
   "metadata": {},
   "source": [
    "##### scatter plot of model performance"
   ]
  },
  {
   "cell_type": "code",
   "execution_count": 156,
   "metadata": {
    "scrolled": false
   },
   "outputs": [
    {
     "data": {
      "text/plain": [
       "Text(0, 0.5, 'Actual')"
      ]
     },
     "execution_count": 156,
     "metadata": {},
     "output_type": "execute_result"
    },
    {
     "data": {
      "image/png": "[encoded data removed]",
      "text/plain": [
       "<Figure size 720x432 with 1 Axes>"
      ]
     },
     "metadata": {
      "needs_background": "light"
     },
     "output_type": "display_data"
    }
   ],
   "source": [
    "plt.figure(figsize = (10,6))\n",
    "plt.scatter(predictions, y_test)\n",
    "plt.title('Predicted Values vs. Actual Values')\n",
    "plt.xlabel('Predictions')\n",
    "plt.ylabel('Actual')"
   ]
  },
  {
   "cell_type": "markdown",
   "metadata": {},
   "source": [
    "##### residual plot"
   ]
  },
  {
   "cell_type": "code",
   "execution_count": 149,
   "metadata": {
    "scrolled": false
   },
   "outputs": [
    {
     "data": {
      "text/plain": [
       "<matplotlib.axes._subplots.AxesSubplot at 0x9c5d683508>"
      ]
     },
     "execution_count": 149,
     "metadata": {},
     "output_type": "execute_result"
    },
    {
     "data": {
      "image/png": "[encoded data removed]",
      "text/plain": [
       "<Figure size 720x432 with 1 Axes>"
      ]
     },
     "metadata": {
      "needs_background": "light"
     },
     "output_type": "display_data"
    }
   ],
   "source": [
    "plt.figure(figsize = (10,6))\n",
    "sns.residplot(predictions, y_test, lowess = True, line_kws = {'color': 'r'})"
   ]
  },
  {
   "cell_type": "markdown",
   "metadata": {},
   "source": [
    "With the slight curvature on the left, this indicates a possible non-linear relationship. This can be addressed with adding polynomial terms"
   ]
  },
  {
   "cell_type": "code",
   "execution_count": 157,
   "metadata": {},
   "outputs": [
    {
     "data": {
      "text/html": [
       "<div>\n",
       "<style scoped>\n",
       "    .dataframe tbody tr th:only-of-type {\n",
       "        vertical-align: middle;\n",
       "    }\n",
       "\n",
       "    .dataframe tbody tr th {\n",
       "        vertical-align: top;\n",
       "    }\n",
       "\n",
       "    .dataframe thead th {\n",
       "        text-align: right;\n",
       "    }\n",
       "</style>\n",
       "<table border=\"1\" class=\"dataframe\">\n",
       "  <thead>\n",
       "    <tr style=\"text-align: right;\">\n",
       "      <th></th>\n",
       "      <th>year</th>\n",
       "      <th>price</th>\n",
       "      <th>mileage</th>\n",
       "      <th>tax</th>\n",
       "      <th>mpg</th>\n",
       "      <th>engineSize</th>\n",
       "      <th>transmission_Manual</th>\n",
       "      <th>transmission_Semi-Auto</th>\n",
       "      <th>fuelType_Hybrid</th>\n",
       "      <th>fuelType_Petrol</th>\n",
       "      <th>...</th>\n",
       "      <th>model_RS6</th>\n",
       "      <th>model_RS7</th>\n",
       "      <th>model_S3</th>\n",
       "      <th>model_S4</th>\n",
       "      <th>model_S5</th>\n",
       "      <th>model_S8</th>\n",
       "      <th>model_SQ5</th>\n",
       "      <th>model_SQ7</th>\n",
       "      <th>model_TT</th>\n",
       "      <th>year_sq</th>\n",
       "    </tr>\n",
       "  </thead>\n",
       "  <tbody>\n",
       "    <tr>\n",
       "      <td>0</td>\n",
       "      <td>2017</td>\n",
       "      <td>12500</td>\n",
       "      <td>15735</td>\n",
       "      <td>150</td>\n",
       "      <td>55.4</td>\n",
       "      <td>1.4</td>\n",
       "      <td>1</td>\n",
       "      <td>0</td>\n",
       "      <td>0</td>\n",
       "      <td>1</td>\n",
       "      <td>...</td>\n",
       "      <td>0</td>\n",
       "      <td>0</td>\n",
       "      <td>0</td>\n",
       "      <td>0</td>\n",
       "      <td>0</td>\n",
       "      <td>0</td>\n",
       "      <td>0</td>\n",
       "      <td>0</td>\n",
       "      <td>0</td>\n",
       "      <td>4068289</td>\n",
       "    </tr>\n",
       "    <tr>\n",
       "      <td>1</td>\n",
       "      <td>2016</td>\n",
       "      <td>16500</td>\n",
       "      <td>36203</td>\n",
       "      <td>20</td>\n",
       "      <td>64.2</td>\n",
       "      <td>2.0</td>\n",
       "      <td>0</td>\n",
       "      <td>0</td>\n",
       "      <td>0</td>\n",
       "      <td>0</td>\n",
       "      <td>...</td>\n",
       "      <td>0</td>\n",
       "      <td>0</td>\n",
       "      <td>0</td>\n",
       "      <td>0</td>\n",
       "      <td>0</td>\n",
       "      <td>0</td>\n",
       "      <td>0</td>\n",
       "      <td>0</td>\n",
       "      <td>0</td>\n",
       "      <td>4064256</td>\n",
       "    </tr>\n",
       "    <tr>\n",
       "      <td>2</td>\n",
       "      <td>2016</td>\n",
       "      <td>11000</td>\n",
       "      <td>29946</td>\n",
       "      <td>30</td>\n",
       "      <td>55.4</td>\n",
       "      <td>1.4</td>\n",
       "      <td>1</td>\n",
       "      <td>0</td>\n",
       "      <td>0</td>\n",
       "      <td>1</td>\n",
       "      <td>...</td>\n",
       "      <td>0</td>\n",
       "      <td>0</td>\n",
       "      <td>0</td>\n",
       "      <td>0</td>\n",
       "      <td>0</td>\n",
       "      <td>0</td>\n",
       "      <td>0</td>\n",
       "      <td>0</td>\n",
       "      <td>0</td>\n",
       "      <td>4064256</td>\n",
       "    </tr>\n",
       "    <tr>\n",
       "      <td>3</td>\n",
       "      <td>2017</td>\n",
       "      <td>16800</td>\n",
       "      <td>25952</td>\n",
       "      <td>145</td>\n",
       "      <td>67.3</td>\n",
       "      <td>2.0</td>\n",
       "      <td>0</td>\n",
       "      <td>0</td>\n",
       "      <td>0</td>\n",
       "      <td>0</td>\n",
       "      <td>...</td>\n",
       "      <td>0</td>\n",
       "      <td>0</td>\n",
       "      <td>0</td>\n",
       "      <td>0</td>\n",
       "      <td>0</td>\n",
       "      <td>0</td>\n",
       "      <td>0</td>\n",
       "      <td>0</td>\n",
       "      <td>0</td>\n",
       "      <td>4068289</td>\n",
       "    </tr>\n",
       "    <tr>\n",
       "      <td>4</td>\n",
       "      <td>2019</td>\n",
       "      <td>17300</td>\n",
       "      <td>1998</td>\n",
       "      <td>145</td>\n",
       "      <td>49.6</td>\n",
       "      <td>1.0</td>\n",
       "      <td>1</td>\n",
       "      <td>0</td>\n",
       "      <td>0</td>\n",
       "      <td>1</td>\n",
       "      <td>...</td>\n",
       "      <td>0</td>\n",
       "      <td>0</td>\n",
       "      <td>0</td>\n",
       "      <td>0</td>\n",
       "      <td>0</td>\n",
       "      <td>0</td>\n",
       "      <td>0</td>\n",
       "      <td>0</td>\n",
       "      <td>0</td>\n",
       "      <td>4076361</td>\n",
       "    </tr>\n",
       "  </tbody>\n",
       "</table>\n",
       "<p>5 rows × 36 columns</p>\n",
       "</div>"
      ],
      "text/plain": [
       "   year  price  mileage  tax   mpg  engineSize  transmission_Manual  \\\n",
       "0  2017  12500    15735  150  55.4         1.4                    1   \n",
       "1  2016  16500    36203   20  64.2         2.0                    0   \n",
       "2  2016  11000    29946   30  55.4         1.4                    1   \n",
       "3  2017  16800    25952  145  67.3         2.0                    0   \n",
       "4  2019  17300     1998  145  49.6         1.0                    1   \n",
       "\n",
       "   transmission_Semi-Auto  fuelType_Hybrid  fuelType_Petrol  ...  model_RS6  \\\n",
       "0                       0                0                1  ...          0   \n",
       "1                       0                0                0  ...          0   \n",
       "2                       0                0                1  ...          0   \n",
       "3                       0                0                0  ...          0   \n",
       "4                       0                0                1  ...          0   \n",
       "\n",
       "   model_RS7  model_S3  model_S4  model_S5  model_S8  model_SQ5  model_SQ7  \\\n",
       "0          0         0         0         0         0          0          0   \n",
       "1          0         0         0         0         0          0          0   \n",
       "2          0         0         0         0         0          0          0   \n",
       "3          0         0         0         0         0          0          0   \n",
       "4          0         0         0         0         0          0          0   \n",
       "\n",
       "   model_TT  year_sq  \n",
       "0         0  4068289  \n",
       "1         0  4064256  \n",
       "2         0  4064256  \n",
       "3         0  4068289  \n",
       "4         0  4076361  \n",
       "\n",
       "[5 rows x 36 columns]"
      ]
     },
     "execution_count": 157,
     "metadata": {},
     "output_type": "execute_result"
    }
   ],
   "source": [
    "audi_ml['year_sq'] = audi_ml['year'].apply(lambda x: x**2)\n",
    "audi_ml.head()"
   ]
  },
  {
   "cell_type": "code",
   "execution_count": 158,
   "metadata": {},
   "outputs": [],
   "source": [
    "X = audi_ml.drop(['price'], axis = 1)\n",
    "y = audi_ml['price']"
   ]
  },
  {
   "cell_type": "code",
   "execution_count": 159,
   "metadata": {},
   "outputs": [],
   "source": [
    "X_train, X_test, y_train, y_test = train_test_split(X, y, test_size=0.3, random_state=101)"
   ]
  },
  {
   "cell_type": "code",
   "execution_count": 160,
   "metadata": {},
   "outputs": [
    {
     "data": {
      "text/plain": [
       "LinearRegression(copy_X=True, fit_intercept=True, n_jobs=None, normalize=False)"
      ]
     },
     "execution_count": 160,
     "metadata": {},
     "output_type": "execute_result"
    }
   ],
   "source": [
    "lreg.fit(X_train, y_train)"
   ]
  },
  {
   "cell_type": "code",
   "execution_count": 161,
   "metadata": {},
   "outputs": [
    {
     "data": {
      "text/plain": [
       "0.9052432794354802"
      ]
     },
     "execution_count": 161,
     "metadata": {},
     "output_type": "execute_result"
    }
   ],
   "source": [
    "lreg.score(X_test, y_test)"
   ]
  },
  {
   "cell_type": "code",
   "execution_count": 162,
   "metadata": {},
   "outputs": [
    {
     "data": {
      "text/plain": [
       "<matplotlib.axes._subplots.AxesSubplot at 0x9c5daec648>"
      ]
     },
     "execution_count": 162,
     "metadata": {},
     "output_type": "execute_result"
    },
    {
     "data": {
      "image/png": "[encoded data removed]",
      "text/plain": [
       "<Figure size 720x432 with 1 Axes>"
      ]
     },
     "metadata": {
      "needs_background": "light"
     },
     "output_type": "display_data"
    }
   ],
   "source": [
    "plt.figure(figsize = (10,6))\n",
    "sns.residplot(predictions, y_test, lowess = True, line_kws = {'color': 'r'})"
   ]
  },
  {
   "cell_type": "markdown",
   "metadata": {},
   "source": [
    "The relationship hasn't changed much, if at all. But the R2 score has increased slightly, meaning unexplained variance has lessened. In the Model Tuning section, I may try experimenting with other transformations for various predictors"
   ]
  },
  {
   "cell_type": "markdown",
   "metadata": {},
   "source": [
    "##### residual histogram"
   ]
  },
  {
   "cell_type": "code",
   "execution_count": 49,
   "metadata": {},
   "outputs": [
    {
     "data": {
      "text/plain": [
       "<matplotlib.axes._subplots.AxesSubplot at 0x9c498f8cc8>"
      ]
     },
     "execution_count": 49,
     "metadata": {},
     "output_type": "execute_result"
    },
    {
     "data": {
      "image/png": "[encoded data removed]",
      "text/plain": [
       "<Figure size 432x288 with 1 Axes>"
      ]
     },
     "metadata": {
      "needs_background": "light"
     },
     "output_type": "display_data"
    }
   ],
   "source": [
    "sns.distplot(y_test - predictions, bins = 40)"
   ]
  },
  {
   "cell_type": "code",
   "execution_count": 163,
   "metadata": {},
   "outputs": [],
   "source": [
    "predictions = lreg.predict(X_test)"
   ]
  },
  {
   "cell_type": "code",
   "execution_count": 50,
   "metadata": {},
   "outputs": [],
   "source": [
    "from sklearn.metrics import mean_squared_error, mean_absolute_error"
   ]
  },
  {
   "cell_type": "code",
   "execution_count": 164,
   "metadata": {},
   "outputs": [
    {
     "name": "stdout",
     "output_type": "stream",
     "text": [
      "MAE:  2467.7255894495\n",
      "MSE:  13194290.996669441\n",
      "RMSE 3632.394664222136\n"
     ]
    }
   ],
   "source": [
    "print('MAE: ', mean_absolute_error(y_test, predictions))\n",
    "print('MSE: ', mean_squared_error(y_test, predictions))\n",
    "print('RMSE', np.sqrt(mean_squared_error(y_test, predictions)))"
   ]
  },
  {
   "cell_type": "code",
   "execution_count": 165,
   "metadata": {},
   "outputs": [
    {
     "data": {
      "text/plain": [
       "0.15864281916689493"
      ]
     },
     "execution_count": 165,
     "metadata": {},
     "output_type": "execute_result"
    }
   ],
   "source": [
    "RMSE = np.sqrt(mean_squared_error(y_test, predictions))\n",
    "mean_price = audi['price'].mean()\n",
    "\n",
    "RMSE / mean_price"
   ]
  },
  {
   "cell_type": "markdown",
   "metadata": {},
   "source": [
    "With the root mean squared error, our percentage of error compared to the mean price is about 16%"
   ]
  },
  {
   "cell_type": "code",
   "execution_count": 166,
   "metadata": {},
   "outputs": [
    {
     "data": {
      "text/html": [
       "<div>\n",
       "<style scoped>\n",
       "    .dataframe tbody tr th:only-of-type {\n",
       "        vertical-align: middle;\n",
       "    }\n",
       "\n",
       "    .dataframe tbody tr th {\n",
       "        vertical-align: top;\n",
       "    }\n",
       "\n",
       "    .dataframe thead th {\n",
       "        text-align: right;\n",
       "    }\n",
       "</style>\n",
       "<table border=\"1\" class=\"dataframe\">\n",
       "  <thead>\n",
       "    <tr style=\"text-align: right;\">\n",
       "      <th></th>\n",
       "      <th>Coefficient</th>\n",
       "    </tr>\n",
       "  </thead>\n",
       "  <tbody>\n",
       "    <tr>\n",
       "      <td>model_R8</td>\n",
       "      <td>56793.255659</td>\n",
       "    </tr>\n",
       "    <tr>\n",
       "      <td>model_RS6</td>\n",
       "      <td>25065.080662</td>\n",
       "    </tr>\n",
       "    <tr>\n",
       "      <td>fuelType_Hybrid</td>\n",
       "      <td>24684.609524</td>\n",
       "    </tr>\n",
       "    <tr>\n",
       "      <td>model_Q8</td>\n",
       "      <td>23742.778459</td>\n",
       "    </tr>\n",
       "    <tr>\n",
       "      <td>model_RS4</td>\n",
       "      <td>20081.807570</td>\n",
       "    </tr>\n",
       "    <tr>\n",
       "      <td>model_RS5</td>\n",
       "      <td>18812.752264</td>\n",
       "    </tr>\n",
       "    <tr>\n",
       "      <td>model_RS7</td>\n",
       "      <td>18072.701601</td>\n",
       "    </tr>\n",
       "    <tr>\n",
       "      <td>model_SQ7</td>\n",
       "      <td>14555.118324</td>\n",
       "    </tr>\n",
       "    <tr>\n",
       "      <td>model_Q7</td>\n",
       "      <td>13910.678921</td>\n",
       "    </tr>\n",
       "    <tr>\n",
       "      <td>model_RS3</td>\n",
       "      <td>10536.779441</td>\n",
       "    </tr>\n",
       "    <tr>\n",
       "      <td>model_SQ5</td>\n",
       "      <td>7722.214824</td>\n",
       "    </tr>\n",
       "    <tr>\n",
       "      <td>model_Q5</td>\n",
       "      <td>7133.942571</td>\n",
       "    </tr>\n",
       "    <tr>\n",
       "      <td>model_A8</td>\n",
       "      <td>6692.203379</td>\n",
       "    </tr>\n",
       "    <tr>\n",
       "      <td>engineSize</td>\n",
       "      <td>6334.496088</td>\n",
       "    </tr>\n",
       "    <tr>\n",
       "      <td>model_S8</td>\n",
       "      <td>5910.788897</td>\n",
       "    </tr>\n",
       "    <tr>\n",
       "      <td>model_A2</td>\n",
       "      <td>5247.205785</td>\n",
       "    </tr>\n",
       "    <tr>\n",
       "      <td>model_S3</td>\n",
       "      <td>5186.564003</td>\n",
       "    </tr>\n",
       "    <tr>\n",
       "      <td>model_A7</td>\n",
       "      <td>3497.609817</td>\n",
       "    </tr>\n",
       "    <tr>\n",
       "      <td>model_Q3</td>\n",
       "      <td>3200.771335</td>\n",
       "    </tr>\n",
       "    <tr>\n",
       "      <td>model_TT</td>\n",
       "      <td>3096.743647</td>\n",
       "    </tr>\n",
       "    <tr>\n",
       "      <td>model_A6</td>\n",
       "      <td>3087.316893</td>\n",
       "    </tr>\n",
       "    <tr>\n",
       "      <td>model_A5</td>\n",
       "      <td>2656.690913</td>\n",
       "    </tr>\n",
       "    <tr>\n",
       "      <td>model_Q2</td>\n",
       "      <td>1603.868868</td>\n",
       "    </tr>\n",
       "    <tr>\n",
       "      <td>model_S5</td>\n",
       "      <td>1584.986567</td>\n",
       "    </tr>\n",
       "    <tr>\n",
       "      <td>model_A4</td>\n",
       "      <td>1101.395820</td>\n",
       "    </tr>\n",
       "    <tr>\n",
       "      <td>model_A3</td>\n",
       "      <td>1064.169389</td>\n",
       "    </tr>\n",
       "    <tr>\n",
       "      <td>model_S4</td>\n",
       "      <td>1032.020033</td>\n",
       "    </tr>\n",
       "    <tr>\n",
       "      <td>fuelType_Petrol</td>\n",
       "      <td>248.965233</td>\n",
       "    </tr>\n",
       "    <tr>\n",
       "      <td>transmission_Semi-Auto</td>\n",
       "      <td>171.623649</td>\n",
       "    </tr>\n",
       "    <tr>\n",
       "      <td>year_sq</td>\n",
       "      <td>105.378568</td>\n",
       "    </tr>\n",
       "    <tr>\n",
       "      <td>mileage</td>\n",
       "      <td>-0.075469</td>\n",
       "    </tr>\n",
       "    <tr>\n",
       "      <td>tax</td>\n",
       "      <td>-30.590932</td>\n",
       "    </tr>\n",
       "    <tr>\n",
       "      <td>mpg</td>\n",
       "      <td>-196.535926</td>\n",
       "    </tr>\n",
       "    <tr>\n",
       "      <td>transmission_Manual</td>\n",
       "      <td>-1311.510190</td>\n",
       "    </tr>\n",
       "    <tr>\n",
       "      <td>year</td>\n",
       "      <td>-422793.727836</td>\n",
       "    </tr>\n",
       "  </tbody>\n",
       "</table>\n",
       "</div>"
      ],
      "text/plain": [
       "                          Coefficient\n",
       "model_R8                 56793.255659\n",
       "model_RS6                25065.080662\n",
       "fuelType_Hybrid          24684.609524\n",
       "model_Q8                 23742.778459\n",
       "model_RS4                20081.807570\n",
       "model_RS5                18812.752264\n",
       "model_RS7                18072.701601\n",
       "model_SQ7                14555.118324\n",
       "model_Q7                 13910.678921\n",
       "model_RS3                10536.779441\n",
       "model_SQ5                 7722.214824\n",
       "model_Q5                  7133.942571\n",
       "model_A8                  6692.203379\n",
       "engineSize                6334.496088\n",
       "model_S8                  5910.788897\n",
       "model_A2                  5247.205785\n",
       "model_S3                  5186.564003\n",
       "model_A7                  3497.609817\n",
       "model_Q3                  3200.771335\n",
       "model_TT                  3096.743647\n",
       "model_A6                  3087.316893\n",
       "model_A5                  2656.690913\n",
       "model_Q2                  1603.868868\n",
       "model_S5                  1584.986567\n",
       "model_A4                  1101.395820\n",
       "model_A3                  1064.169389\n",
       "model_S4                  1032.020033\n",
       "fuelType_Petrol            248.965233\n",
       "transmission_Semi-Auto     171.623649\n",
       "year_sq                    105.378568\n",
       "mileage                     -0.075469\n",
       "tax                        -30.590932\n",
       "mpg                       -196.535926\n",
       "transmission_Manual      -1311.510190\n",
       "year                   -422793.727836"
      ]
     },
     "execution_count": 166,
     "metadata": {},
     "output_type": "execute_result"
    }
   ],
   "source": [
    "coeff_df = pd.DataFrame(lreg.coef_, X.columns, columns=['Coefficient'])\n",
    "coeff_df.sort_values(by = 'Coefficient', ascending = False)"
   ]
  },
  {
   "cell_type": "markdown",
   "metadata": {},
   "source": [
    "Coefficients to show the effect of categories on price. There is a large issue with the year predictor (on bottom) having -422793 as a value. This may have been caused when employing the year_sq predictor. If we look at year_sq, 5th from bottom, we see a more reasonable value of 105, suggesting that a unit increase is associated with an additional $105 on price. However, sklearn does not provide p-values to ascertain the validity of the coefficients. Each may or may not be statistically significant."
   ]
  },
  {
   "cell_type": "markdown",
   "metadata": {},
   "source": [
    "### Random Forest"
   ]
  },
  {
   "cell_type": "code",
   "execution_count": 54,
   "metadata": {},
   "outputs": [],
   "source": [
    "from sklearn.ensemble import RandomForestRegressor"
   ]
  },
  {
   "cell_type": "code",
   "execution_count": 55,
   "metadata": {},
   "outputs": [],
   "source": [
    "rfr = RandomForestRegressor()"
   ]
  },
  {
   "cell_type": "code",
   "execution_count": 168,
   "metadata": {},
   "outputs": [],
   "source": [
    "audi_ml.drop(['year_sq'], axis=1, inplace = True)"
   ]
  },
  {
   "cell_type": "markdown",
   "metadata": {},
   "source": [
    "We will not use the polynomial term initially"
   ]
  },
  {
   "cell_type": "code",
   "execution_count": 56,
   "metadata": {},
   "outputs": [
    {
     "data": {
      "text/plain": [
       "RandomForestRegressor(bootstrap=True, ccp_alpha=0.0, criterion='mse',\n",
       "                      max_depth=None, max_features='auto', max_leaf_nodes=None,\n",
       "                      max_samples=None, min_impurity_decrease=0.0,\n",
       "                      min_impurity_split=None, min_samples_leaf=1,\n",
       "                      min_samples_split=2, min_weight_fraction_leaf=0.0,\n",
       "                      n_estimators=100, n_jobs=None, oob_score=False,\n",
       "                      random_state=None, verbose=0, warm_start=False)"
      ]
     },
     "execution_count": 56,
     "metadata": {},
     "output_type": "execute_result"
    }
   ],
   "source": [
    "rfr.fit(X_train, y_train)"
   ]
  },
  {
   "cell_type": "code",
   "execution_count": 57,
   "metadata": {},
   "outputs": [
    {
     "data": {
      "text/plain": [
       "0.9607392716282654"
      ]
     },
     "execution_count": 57,
     "metadata": {},
     "output_type": "execute_result"
    }
   ],
   "source": [
    "rfr.score(X_test, y_test)"
   ]
  },
  {
   "cell_type": "markdown",
   "metadata": {},
   "source": [
    "The random forest regressor has a higher r2 score than with the linear regression. 96 vs 90.5. Almost a 6% difference"
   ]
  },
  {
   "cell_type": "code",
   "execution_count": 58,
   "metadata": {},
   "outputs": [],
   "source": [
    "forest_pred = rfr.predict(X_test)"
   ]
  },
  {
   "cell_type": "code",
   "execution_count": 59,
   "metadata": {},
   "outputs": [
    {
     "data": {
      "text/plain": [
       "<matplotlib.collections.PathCollection at 0x9c49aded48>"
      ]
     },
     "execution_count": 59,
     "metadata": {},
     "output_type": "execute_result"
    },
    {
     "data": {
      "image/png": "[encoded data removed]",
      "text/plain": [
       "<Figure size 432x288 with 1 Axes>"
      ]
     },
     "metadata": {
      "needs_background": "light"
     },
     "output_type": "display_data"
    }
   ],
   "source": [
    "plt.scatter(forest_pred, y_test)"
   ]
  },
  {
   "cell_type": "code",
   "execution_count": 167,
   "metadata": {},
   "outputs": [
    {
     "data": {
      "text/plain": [
       "<matplotlib.axes._subplots.AxesSubplot at 0x9c5d1c66c8>"
      ]
     },
     "execution_count": 167,
     "metadata": {},
     "output_type": "execute_result"
    },
    {
     "data": {
      "image/png": "[encoded data removed]",
      "text/plain": [
       "<Figure size 720x432 with 1 Axes>"
      ]
     },
     "metadata": {
      "needs_background": "light"
     },
     "output_type": "display_data"
    }
   ],
   "source": [
    "plt.figure(figsize = (10,6))\n",
    "sns.residplot(forest_pred, y_test, lowess = True, line_kws = {'color': 'r'})"
   ]
  },
  {
   "cell_type": "markdown",
   "metadata": {},
   "source": [
    "The random forest algorithm has done a much better job with explainability in variance. There is no clear pattern in the residuals."
   ]
  },
  {
   "cell_type": "code",
   "execution_count": 60,
   "metadata": {},
   "outputs": [
    {
     "name": "stdout",
     "output_type": "stream",
     "text": [
      "MAE:  1521.22573916374\n",
      "MSE:  5466815.142944333\n",
      "RMSE 2338.1221402964247\n"
     ]
    }
   ],
   "source": [
    "print('MAE: ', mean_absolute_error(y_test, forest_pred))\n",
    "print('MSE: ', mean_squared_error(y_test, forest_pred))\n",
    "print('RMSE', np.sqrt(mean_squared_error(y_test, forest_pred)))"
   ]
  },
  {
   "cell_type": "code",
   "execution_count": 61,
   "metadata": {},
   "outputs": [
    {
     "data": {
      "text/plain": [
       "0.10211618565203227"
      ]
     },
     "execution_count": 61,
     "metadata": {},
     "output_type": "execute_result"
    }
   ],
   "source": [
    "forest_RMSE = np.sqrt(mean_squared_error(y_test, forest_pred))\n",
    "forest_RMSE / mean_price"
   ]
  },
  {
   "cell_type": "markdown",
   "metadata": {},
   "source": [
    "Here, the error is 10% compared to mean price versus 16% with the linear regression"
   ]
  },
  {
   "cell_type": "markdown",
   "metadata": {},
   "source": [
    "### SVM"
   ]
  },
  {
   "cell_type": "code",
   "execution_count": 62,
   "metadata": {},
   "outputs": [],
   "source": [
    "from sklearn import svm"
   ]
  },
  {
   "cell_type": "code",
   "execution_count": 63,
   "metadata": {},
   "outputs": [],
   "source": [
    "svm = svm.SVR()"
   ]
  },
  {
   "cell_type": "code",
   "execution_count": 64,
   "metadata": {},
   "outputs": [
    {
     "data": {
      "text/plain": [
       "SVR(C=1.0, cache_size=200, coef0=0.0, degree=3, epsilon=0.1, gamma='scale',\n",
       "    kernel='rbf', max_iter=-1, shrinking=True, tol=0.001, verbose=False)"
      ]
     },
     "execution_count": 64,
     "metadata": {},
     "output_type": "execute_result"
    }
   ],
   "source": [
    "svm.fit(X_train, y_train)"
   ]
  },
  {
   "cell_type": "code",
   "execution_count": 65,
   "metadata": {},
   "outputs": [
    {
     "data": {
      "text/plain": [
       "0.036887786894938435"
      ]
     },
     "execution_count": 65,
     "metadata": {},
     "output_type": "execute_result"
    }
   ],
   "source": [
    "svm.score(X_test, y_test)"
   ]
  },
  {
   "cell_type": "markdown",
   "metadata": {},
   "source": [
    "yikes"
   ]
  },
  {
   "cell_type": "code",
   "execution_count": 66,
   "metadata": {},
   "outputs": [],
   "source": [
    "from sklearn.preprocessing import normalize"
   ]
  },
  {
   "cell_type": "code",
   "execution_count": 67,
   "metadata": {},
   "outputs": [],
   "source": [
    "X_train_normal = normalize(X_train)"
   ]
  },
  {
   "cell_type": "code",
   "execution_count": 68,
   "metadata": {},
   "outputs": [],
   "source": [
    "svm_X_train = pd.DataFrame(X_train_normal, columns = X_train.columns)"
   ]
  },
  {
   "cell_type": "code",
   "execution_count": 69,
   "metadata": {},
   "outputs": [
    {
     "data": {
      "text/plain": [
       "SVR(C=1.0, cache_size=200, coef0=0.0, degree=3, epsilon=0.1, gamma='scale',\n",
       "    kernel='rbf', max_iter=-1, shrinking=True, tol=0.001, verbose=False)"
      ]
     },
     "execution_count": 69,
     "metadata": {},
     "output_type": "execute_result"
    }
   ],
   "source": [
    "svm.fit(svm_X_train, y_train)"
   ]
  },
  {
   "cell_type": "code",
   "execution_count": 70,
   "metadata": {},
   "outputs": [
    {
     "data": {
      "text/plain": [
       "-0.03736167742683505"
      ]
     },
     "execution_count": 70,
     "metadata": {},
     "output_type": "execute_result"
    }
   ],
   "source": [
    "svm.score(X_test, y_test)"
   ]
  },
  {
   "cell_type": "markdown",
   "metadata": {},
   "source": [
    "Not having much luck with SVM. Lets stick with either Linear Regression or Random Forest"
   ]
  },
  {
   "cell_type": "markdown",
   "metadata": {},
   "source": [
    "## Model Tuning"
   ]
  },
  {
   "cell_type": "markdown",
   "metadata": {},
   "source": [
    "##### grid search"
   ]
  },
  {
   "cell_type": "code",
   "execution_count": 71,
   "metadata": {},
   "outputs": [],
   "source": [
    "from sklearn.model_selection import GridSearchCV"
   ]
  },
  {
   "cell_type": "markdown",
   "metadata": {},
   "source": [
    "Let's set up a grid search to find the best parameters for our random forest regressor"
   ]
  },
  {
   "cell_type": "code",
   "execution_count": 169,
   "metadata": {},
   "outputs": [],
   "source": [
    "rfr = RandomForestRegressor()"
   ]
  },
  {
   "cell_type": "code",
   "execution_count": 170,
   "metadata": {},
   "outputs": [],
   "source": [
    "# dictionary of parameter values to pass to grid search for evaluation\n",
    "\n",
    "param_grid = {\n",
    "    'n_estimators': [100, 200, 500, 700],\n",
    "    'max_features': ['auto', 'sqrt', 'log2'],\n",
    "    'max_depth' : [10, 20, 'None']\n",
    "}"
   ]
  },
  {
   "cell_type": "code",
   "execution_count": 171,
   "metadata": {},
   "outputs": [],
   "source": [
    "grid = GridSearchCV(rfr, param_grid, verbose = 3)"
   ]
  },
  {
   "cell_type": "code",
   "execution_count": 172,
   "metadata": {
    "scrolled": true
   },
   "outputs": [
    {
     "name": "stdout",
     "output_type": "stream",
     "text": [
      "Fitting 5 folds for each of 36 candidates, totalling 180 fits\n",
      "[CV] max_depth=10, max_features=auto, n_estimators=100 ...............\n"
     ]
    },
    {
     "name": "stderr",
     "output_type": "stream",
     "text": [
      "[Parallel(n_jobs=1)]: Using backend SequentialBackend with 1 concurrent workers.\n"
     ]
    },
    {
     "name": "stdout",
     "output_type": "stream",
     "text": [
      "[CV]  max_depth=10, max_features=auto, n_estimators=100, score=0.956, total=   1.4s\n",
      "[CV] max_depth=10, max_features=auto, n_estimators=100 ...............\n"
     ]
    },
    {
     "name": "stderr",
     "output_type": "stream",
     "text": [
      "[Parallel(n_jobs=1)]: Done   1 out of   1 | elapsed:    1.3s remaining:    0.0s\n"
     ]
    },
    {
     "name": "stdout",
     "output_type": "stream",
     "text": [
      "[CV]  max_depth=10, max_features=auto, n_estimators=100, score=0.952, total=   1.3s\n",
      "[CV] max_depth=10, max_features=auto, n_estimators=100 ...............\n"
     ]
    },
    {
     "name": "stderr",
     "output_type": "stream",
     "text": [
      "[Parallel(n_jobs=1)]: Done   2 out of   2 | elapsed:    2.6s remaining:    0.0s\n"
     ]
    },
    {
     "name": "stdout",
     "output_type": "stream",
     "text": [
      "[CV]  max_depth=10, max_features=auto, n_estimators=100, score=0.955, total=   1.3s\n",
      "[CV] max_depth=10, max_features=auto, n_estimators=100 ...............\n",
      "[CV]  max_depth=10, max_features=auto, n_estimators=100, score=0.951, total=   1.3s\n",
      "[CV] max_depth=10, max_features=auto, n_estimators=100 ...............\n",
      "[CV]  max_depth=10, max_features=auto, n_estimators=100, score=0.953, total=   1.3s\n",
      "[CV] max_depth=10, max_features=auto, n_estimators=200 ...............\n",
      "[CV]  max_depth=10, max_features=auto, n_estimators=200, score=0.956, total=   2.6s\n",
      "[CV] max_depth=10, max_features=auto, n_estimators=200 ...............\n",
      "[CV]  max_depth=10, max_features=auto, n_estimators=200, score=0.952, total=   2.7s\n",
      "[CV] max_depth=10, max_features=auto, n_estimators=200 ...............\n",
      "[CV]  max_depth=10, max_features=auto, n_estimators=200, score=0.955, total=   2.7s\n",
      "[CV] max_depth=10, max_features=auto, n_estimators=200 ...............\n",
      "[CV]  max_depth=10, max_features=auto, n_estimators=200, score=0.953, total=   2.8s\n",
      "[CV] max_depth=10, max_features=auto, n_estimators=200 ...............\n",
      "[CV]  max_depth=10, max_features=auto, n_estimators=200, score=0.951, total=   2.8s\n",
      "[CV] max_depth=10, max_features=auto, n_estimators=500 ...............\n",
      "[CV]  max_depth=10, max_features=auto, n_estimators=500, score=0.956, total=   6.8s\n",
      "[CV] max_depth=10, max_features=auto, n_estimators=500 ...............\n",
      "[CV]  max_depth=10, max_features=auto, n_estimators=500, score=0.953, total=   6.9s\n",
      "[CV] max_depth=10, max_features=auto, n_estimators=500 ...............\n",
      "[CV]  max_depth=10, max_features=auto, n_estimators=500, score=0.955, total=   6.8s\n",
      "[CV] max_depth=10, max_features=auto, n_estimators=500 ...............\n",
      "[CV]  max_depth=10, max_features=auto, n_estimators=500, score=0.952, total=   7.0s\n",
      "[CV] max_depth=10, max_features=auto, n_estimators=500 ...............\n",
      "[CV]  max_depth=10, max_features=auto, n_estimators=500, score=0.951, total=   6.9s\n",
      "[CV] max_depth=10, max_features=auto, n_estimators=700 ...............\n",
      "[CV]  max_depth=10, max_features=auto, n_estimators=700, score=0.956, total=   9.5s\n",
      "[CV] max_depth=10, max_features=auto, n_estimators=700 ...............\n",
      "[CV]  max_depth=10, max_features=auto, n_estimators=700, score=0.953, total=   9.3s\n",
      "[CV] max_depth=10, max_features=auto, n_estimators=700 ...............\n",
      "[CV]  max_depth=10, max_features=auto, n_estimators=700, score=0.955, total=   9.4s\n",
      "[CV] max_depth=10, max_features=auto, n_estimators=700 ...............\n",
      "[CV]  max_depth=10, max_features=auto, n_estimators=700, score=0.952, total=   9.5s\n",
      "[CV] max_depth=10, max_features=auto, n_estimators=700 ...............\n",
      "[CV]  max_depth=10, max_features=auto, n_estimators=700, score=0.952, total=   9.8s\n",
      "[CV] max_depth=10, max_features=sqrt, n_estimators=100 ...............\n",
      "[CV]  max_depth=10, max_features=sqrt, n_estimators=100, score=0.930, total=   0.4s\n",
      "[CV] max_depth=10, max_features=sqrt, n_estimators=100 ...............\n",
      "[CV]  max_depth=10, max_features=sqrt, n_estimators=100, score=0.934, total=   0.4s\n",
      "[CV] max_depth=10, max_features=sqrt, n_estimators=100 ...............\n",
      "[CV]  max_depth=10, max_features=sqrt, n_estimators=100, score=0.942, total=   0.4s\n",
      "[CV] max_depth=10, max_features=sqrt, n_estimators=100 ...............\n",
      "[CV]  max_depth=10, max_features=sqrt, n_estimators=100, score=0.942, total=   0.5s\n",
      "[CV] max_depth=10, max_features=sqrt, n_estimators=100 ...............\n",
      "[CV]  max_depth=10, max_features=sqrt, n_estimators=100, score=0.945, total=   0.4s\n",
      "[CV] max_depth=10, max_features=sqrt, n_estimators=200 ...............\n",
      "[CV]  max_depth=10, max_features=sqrt, n_estimators=200, score=0.935, total=   0.9s\n",
      "[CV] max_depth=10, max_features=sqrt, n_estimators=200 ...............\n",
      "[CV]  max_depth=10, max_features=sqrt, n_estimators=200, score=0.932, total=   0.9s\n",
      "[CV] max_depth=10, max_features=sqrt, n_estimators=200 ...............\n",
      "[CV]  max_depth=10, max_features=sqrt, n_estimators=200, score=0.940, total=   0.9s\n",
      "[CV] max_depth=10, max_features=sqrt, n_estimators=200 ...............\n",
      "[CV]  max_depth=10, max_features=sqrt, n_estimators=200, score=0.940, total=   0.9s\n",
      "[CV] max_depth=10, max_features=sqrt, n_estimators=200 ...............\n",
      "[CV]  max_depth=10, max_features=sqrt, n_estimators=200, score=0.945, total=   0.8s\n",
      "[CV] max_depth=10, max_features=sqrt, n_estimators=500 ...............\n",
      "[CV]  max_depth=10, max_features=sqrt, n_estimators=500, score=0.933, total=   2.1s\n",
      "[CV] max_depth=10, max_features=sqrt, n_estimators=500 ...............\n",
      "[CV]  max_depth=10, max_features=sqrt, n_estimators=500, score=0.932, total=   2.1s\n",
      "[CV] max_depth=10, max_features=sqrt, n_estimators=500 ...............\n",
      "[CV]  max_depth=10, max_features=sqrt, n_estimators=500, score=0.941, total=   2.2s\n",
      "[CV] max_depth=10, max_features=sqrt, n_estimators=500 ...............\n",
      "[CV]  max_depth=10, max_features=sqrt, n_estimators=500, score=0.940, total=   2.1s\n",
      "[CV] max_depth=10, max_features=sqrt, n_estimators=500 ...............\n",
      "[CV]  max_depth=10, max_features=sqrt, n_estimators=500, score=0.945, total=   2.0s\n",
      "[CV] max_depth=10, max_features=sqrt, n_estimators=700 ...............\n",
      "[CV]  max_depth=10, max_features=sqrt, n_estimators=700, score=0.936, total=   3.0s\n",
      "[CV] max_depth=10, max_features=sqrt, n_estimators=700 ...............\n",
      "[CV]  max_depth=10, max_features=sqrt, n_estimators=700, score=0.933, total=   3.0s\n",
      "[CV] max_depth=10, max_features=sqrt, n_estimators=700 ...............\n",
      "[CV]  max_depth=10, max_features=sqrt, n_estimators=700, score=0.940, total=   3.0s\n",
      "[CV] max_depth=10, max_features=sqrt, n_estimators=700 ...............\n",
      "[CV]  max_depth=10, max_features=sqrt, n_estimators=700, score=0.940, total=   2.9s\n",
      "[CV] max_depth=10, max_features=sqrt, n_estimators=700 ...............\n",
      "[CV]  max_depth=10, max_features=sqrt, n_estimators=700, score=0.945, total=   2.9s\n",
      "[CV] max_depth=10, max_features=log2, n_estimators=100 ...............\n",
      "[CV]  max_depth=10, max_features=log2, n_estimators=100, score=0.935, total=   0.4s\n",
      "[CV] max_depth=10, max_features=log2, n_estimators=100 ...............\n",
      "[CV]  max_depth=10, max_features=log2, n_estimators=100, score=0.931, total=   0.4s\n",
      "[CV] max_depth=10, max_features=log2, n_estimators=100 ...............\n",
      "[CV]  max_depth=10, max_features=log2, n_estimators=100, score=0.942, total=   0.4s\n",
      "[CV] max_depth=10, max_features=log2, n_estimators=100 ...............\n",
      "[CV]  max_depth=10, max_features=log2, n_estimators=100, score=0.941, total=   0.4s\n",
      "[CV] max_depth=10, max_features=log2, n_estimators=100 ...............\n",
      "[CV]  max_depth=10, max_features=log2, n_estimators=100, score=0.945, total=   0.4s\n",
      "[CV] max_depth=10, max_features=log2, n_estimators=200 ...............\n",
      "[CV]  max_depth=10, max_features=log2, n_estimators=200, score=0.936, total=   0.8s\n",
      "[CV] max_depth=10, max_features=log2, n_estimators=200 ...............\n",
      "[CV]  max_depth=10, max_features=log2, n_estimators=200, score=0.934, total=   0.9s\n",
      "[CV] max_depth=10, max_features=log2, n_estimators=200 ...............\n",
      "[CV]  max_depth=10, max_features=log2, n_estimators=200, score=0.940, total=   0.9s\n",
      "[CV] max_depth=10, max_features=log2, n_estimators=200 ...............\n",
      "[CV]  max_depth=10, max_features=log2, n_estimators=200, score=0.938, total=   0.8s\n",
      "[CV] max_depth=10, max_features=log2, n_estimators=200 ...............\n",
      "[CV]  max_depth=10, max_features=log2, n_estimators=200, score=0.945, total=   0.9s\n",
      "[CV] max_depth=10, max_features=log2, n_estimators=500 ...............\n",
      "[CV]  max_depth=10, max_features=log2, n_estimators=500, score=0.934, total=   2.0s\n",
      "[CV] max_depth=10, max_features=log2, n_estimators=500 ...............\n",
      "[CV]  max_depth=10, max_features=log2, n_estimators=500, score=0.934, total=   2.0s\n",
      "[CV] max_depth=10, max_features=log2, n_estimators=500 ...............\n",
      "[CV]  max_depth=10, max_features=log2, n_estimators=500, score=0.940, total=   2.0s\n",
      "[CV] max_depth=10, max_features=log2, n_estimators=500 ...............\n",
      "[CV]  max_depth=10, max_features=log2, n_estimators=500, score=0.941, total=   2.0s\n",
      "[CV] max_depth=10, max_features=log2, n_estimators=500 ...............\n",
      "[CV]  max_depth=10, max_features=log2, n_estimators=500, score=0.946, total=   2.0s\n",
      "[CV] max_depth=10, max_features=log2, n_estimators=700 ...............\n"
     ]
    },
    {
     "name": "stdout",
     "output_type": "stream",
     "text": [
      "[CV]  max_depth=10, max_features=log2, n_estimators=700, score=0.935, total=   2.8s\n",
      "[CV] max_depth=10, max_features=log2, n_estimators=700 ...............\n",
      "[CV]  max_depth=10, max_features=log2, n_estimators=700, score=0.934, total=   2.8s\n",
      "[CV] max_depth=10, max_features=log2, n_estimators=700 ...............\n",
      "[CV]  max_depth=10, max_features=log2, n_estimators=700, score=0.941, total=   3.1s\n",
      "[CV] max_depth=10, max_features=log2, n_estimators=700 ...............\n",
      "[CV]  max_depth=10, max_features=log2, n_estimators=700, score=0.941, total=   2.9s\n",
      "[CV] max_depth=10, max_features=log2, n_estimators=700 ...............\n",
      "[CV]  max_depth=10, max_features=log2, n_estimators=700, score=0.946, total=   3.2s\n",
      "[CV] max_depth=20, max_features=auto, n_estimators=100 ...............\n",
      "[CV]  max_depth=20, max_features=auto, n_estimators=100, score=0.957, total=   2.5s\n",
      "[CV] max_depth=20, max_features=auto, n_estimators=100 ...............\n",
      "[CV]  max_depth=20, max_features=auto, n_estimators=100, score=0.959, total=   2.5s\n",
      "[CV] max_depth=20, max_features=auto, n_estimators=100 ...............\n",
      "[CV]  max_depth=20, max_features=auto, n_estimators=100, score=0.960, total=   2.3s\n",
      "[CV] max_depth=20, max_features=auto, n_estimators=100 ...............\n",
      "[CV]  max_depth=20, max_features=auto, n_estimators=100, score=0.957, total=   2.3s\n",
      "[CV] max_depth=20, max_features=auto, n_estimators=100 ...............\n",
      "[CV]  max_depth=20, max_features=auto, n_estimators=100, score=0.953, total=   2.2s\n",
      "[CV] max_depth=20, max_features=auto, n_estimators=200 ...............\n",
      "[CV]  max_depth=20, max_features=auto, n_estimators=200, score=0.958, total=   4.5s\n",
      "[CV] max_depth=20, max_features=auto, n_estimators=200 ...............\n",
      "[CV]  max_depth=20, max_features=auto, n_estimators=200, score=0.960, total=   4.4s\n",
      "[CV] max_depth=20, max_features=auto, n_estimators=200 ...............\n",
      "[CV]  max_depth=20, max_features=auto, n_estimators=200, score=0.960, total=   4.5s\n",
      "[CV] max_depth=20, max_features=auto, n_estimators=200 ...............\n",
      "[CV]  max_depth=20, max_features=auto, n_estimators=200, score=0.957, total=   4.6s\n",
      "[CV] max_depth=20, max_features=auto, n_estimators=200 ...............\n",
      "[CV]  max_depth=20, max_features=auto, n_estimators=200, score=0.954, total=   4.4s\n",
      "[CV] max_depth=20, max_features=auto, n_estimators=500 ...............\n",
      "[CV]  max_depth=20, max_features=auto, n_estimators=500, score=0.959, total=  11.7s\n",
      "[CV] max_depth=20, max_features=auto, n_estimators=500 ...............\n",
      "[CV]  max_depth=20, max_features=auto, n_estimators=500, score=0.960, total=  11.8s\n",
      "[CV] max_depth=20, max_features=auto, n_estimators=500 ...............\n",
      "[CV]  max_depth=20, max_features=auto, n_estimators=500, score=0.960, total=  11.5s\n",
      "[CV] max_depth=20, max_features=auto, n_estimators=500 ...............\n",
      "[CV]  max_depth=20, max_features=auto, n_estimators=500, score=0.957, total=  11.1s\n",
      "[CV] max_depth=20, max_features=auto, n_estimators=500 ...............\n",
      "[CV]  max_depth=20, max_features=auto, n_estimators=500, score=0.954, total=  11.1s\n",
      "[CV] max_depth=20, max_features=auto, n_estimators=700 ...............\n",
      "[CV]  max_depth=20, max_features=auto, n_estimators=700, score=0.958, total=  16.1s\n",
      "[CV] max_depth=20, max_features=auto, n_estimators=700 ...............\n",
      "[CV]  max_depth=20, max_features=auto, n_estimators=700, score=0.959, total=  15.7s\n",
      "[CV] max_depth=20, max_features=auto, n_estimators=700 ...............\n",
      "[CV]  max_depth=20, max_features=auto, n_estimators=700, score=0.960, total=  15.5s\n",
      "[CV] max_depth=20, max_features=auto, n_estimators=700 ...............\n",
      "[CV]  max_depth=20, max_features=auto, n_estimators=700, score=0.957, total=  16.0s\n",
      "[CV] max_depth=20, max_features=auto, n_estimators=700 ...............\n",
      "[CV]  max_depth=20, max_features=auto, n_estimators=700, score=0.953, total=  16.5s\n",
      "[CV] max_depth=20, max_features=sqrt, n_estimators=100 ...............\n",
      "[CV]  max_depth=20, max_features=sqrt, n_estimators=100, score=0.950, total=   0.9s\n",
      "[CV] max_depth=20, max_features=sqrt, n_estimators=100 ...............\n",
      "[CV]  max_depth=20, max_features=sqrt, n_estimators=100, score=0.956, total=   1.1s\n",
      "[CV] max_depth=20, max_features=sqrt, n_estimators=100 ...............\n",
      "[CV]  max_depth=20, max_features=sqrt, n_estimators=100, score=0.961, total=   1.0s\n",
      "[CV] max_depth=20, max_features=sqrt, n_estimators=100 ...............\n",
      "[CV]  max_depth=20, max_features=sqrt, n_estimators=100, score=0.957, total=   1.0s\n",
      "[CV] max_depth=20, max_features=sqrt, n_estimators=100 ...............\n",
      "[CV]  max_depth=20, max_features=sqrt, n_estimators=100, score=0.961, total=   1.0s\n",
      "[CV] max_depth=20, max_features=sqrt, n_estimators=200 ...............\n",
      "[CV]  max_depth=20, max_features=sqrt, n_estimators=200, score=0.951, total=   2.0s\n",
      "[CV] max_depth=20, max_features=sqrt, n_estimators=200 ...............\n",
      "[CV]  max_depth=20, max_features=sqrt, n_estimators=200, score=0.955, total=   1.9s\n",
      "[CV] max_depth=20, max_features=sqrt, n_estimators=200 ...............\n",
      "[CV]  max_depth=20, max_features=sqrt, n_estimators=200, score=0.960, total=   1.9s\n",
      "[CV] max_depth=20, max_features=sqrt, n_estimators=200 ...............\n",
      "[CV]  max_depth=20, max_features=sqrt, n_estimators=200, score=0.959, total=   1.9s\n",
      "[CV] max_depth=20, max_features=sqrt, n_estimators=200 ...............\n",
      "[CV]  max_depth=20, max_features=sqrt, n_estimators=200, score=0.961, total=   1.9s\n",
      "[CV] max_depth=20, max_features=sqrt, n_estimators=500 ...............\n",
      "[CV]  max_depth=20, max_features=sqrt, n_estimators=500, score=0.951, total=   4.7s\n",
      "[CV] max_depth=20, max_features=sqrt, n_estimators=500 ...............\n",
      "[CV]  max_depth=20, max_features=sqrt, n_estimators=500, score=0.955, total=   4.9s\n",
      "[CV] max_depth=20, max_features=sqrt, n_estimators=500 ...............\n",
      "[CV]  max_depth=20, max_features=sqrt, n_estimators=500, score=0.962, total=   4.7s\n",
      "[CV] max_depth=20, max_features=sqrt, n_estimators=500 ...............\n",
      "[CV]  max_depth=20, max_features=sqrt, n_estimators=500, score=0.960, total=   4.6s\n",
      "[CV] max_depth=20, max_features=sqrt, n_estimators=500 ...............\n",
      "[CV]  max_depth=20, max_features=sqrt, n_estimators=500, score=0.961, total=   4.7s\n",
      "[CV] max_depth=20, max_features=sqrt, n_estimators=700 ...............\n",
      "[CV]  max_depth=20, max_features=sqrt, n_estimators=700, score=0.952, total=   6.6s\n",
      "[CV] max_depth=20, max_features=sqrt, n_estimators=700 ...............\n",
      "[CV]  max_depth=20, max_features=sqrt, n_estimators=700, score=0.956, total=   6.5s\n",
      "[CV] max_depth=20, max_features=sqrt, n_estimators=700 ...............\n",
      "[CV]  max_depth=20, max_features=sqrt, n_estimators=700, score=0.962, total=   6.5s\n",
      "[CV] max_depth=20, max_features=sqrt, n_estimators=700 ...............\n",
      "[CV]  max_depth=20, max_features=sqrt, n_estimators=700, score=0.959, total=   7.1s\n",
      "[CV] max_depth=20, max_features=sqrt, n_estimators=700 ...............\n",
      "[CV]  max_depth=20, max_features=sqrt, n_estimators=700, score=0.961, total=   6.7s\n",
      "[CV] max_depth=20, max_features=log2, n_estimators=100 ...............\n",
      "[CV]  max_depth=20, max_features=log2, n_estimators=100, score=0.950, total=   0.9s\n",
      "[CV] max_depth=20, max_features=log2, n_estimators=100 ...............\n",
      "[CV]  max_depth=20, max_features=log2, n_estimators=100, score=0.956, total=   0.9s\n",
      "[CV] max_depth=20, max_features=log2, n_estimators=100 ...............\n",
      "[CV]  max_depth=20, max_features=log2, n_estimators=100, score=0.961, total=   0.9s\n",
      "[CV] max_depth=20, max_features=log2, n_estimators=100 ...............\n",
      "[CV]  max_depth=20, max_features=log2, n_estimators=100, score=0.959, total=   0.9s\n",
      "[CV] max_depth=20, max_features=log2, n_estimators=100 ...............\n",
      "[CV]  max_depth=20, max_features=log2, n_estimators=100, score=0.961, total=   0.9s\n",
      "[CV] max_depth=20, max_features=log2, n_estimators=200 ...............\n",
      "[CV]  max_depth=20, max_features=log2, n_estimators=200, score=0.952, total=   1.9s\n",
      "[CV] max_depth=20, max_features=log2, n_estimators=200 ...............\n",
      "[CV]  max_depth=20, max_features=log2, n_estimators=200, score=0.956, total=   1.8s\n",
      "[CV] max_depth=20, max_features=log2, n_estimators=200 ...............\n",
      "[CV]  max_depth=20, max_features=log2, n_estimators=200, score=0.962, total=   1.9s\n",
      "[CV] max_depth=20, max_features=log2, n_estimators=200 ...............\n"
     ]
    },
    {
     "name": "stdout",
     "output_type": "stream",
     "text": [
      "[CV]  max_depth=20, max_features=log2, n_estimators=200, score=0.959, total=   1.9s\n",
      "[CV] max_depth=20, max_features=log2, n_estimators=200 ...............\n",
      "[CV]  max_depth=20, max_features=log2, n_estimators=200, score=0.961, total=   1.9s\n",
      "[CV] max_depth=20, max_features=log2, n_estimators=500 ...............\n",
      "[CV]  max_depth=20, max_features=log2, n_estimators=500, score=0.952, total=   4.7s\n",
      "[CV] max_depth=20, max_features=log2, n_estimators=500 ...............\n",
      "[CV]  max_depth=20, max_features=log2, n_estimators=500, score=0.956, total=   4.7s\n",
      "[CV] max_depth=20, max_features=log2, n_estimators=500 ...............\n",
      "[CV]  max_depth=20, max_features=log2, n_estimators=500, score=0.962, total=   4.6s\n",
      "[CV] max_depth=20, max_features=log2, n_estimators=500 ...............\n",
      "[CV]  max_depth=20, max_features=log2, n_estimators=500, score=0.959, total=   4.6s\n",
      "[CV] max_depth=20, max_features=log2, n_estimators=500 ...............\n",
      "[CV]  max_depth=20, max_features=log2, n_estimators=500, score=0.961, total=   4.6s\n",
      "[CV] max_depth=20, max_features=log2, n_estimators=700 ...............\n",
      "[CV]  max_depth=20, max_features=log2, n_estimators=700, score=0.951, total=   6.4s\n",
      "[CV] max_depth=20, max_features=log2, n_estimators=700 ...............\n",
      "[CV]  max_depth=20, max_features=log2, n_estimators=700, score=0.956, total=   6.4s\n",
      "[CV] max_depth=20, max_features=log2, n_estimators=700 ...............\n",
      "[CV]  max_depth=20, max_features=log2, n_estimators=700, score=0.961, total=   6.5s\n",
      "[CV] max_depth=20, max_features=log2, n_estimators=700 ...............\n",
      "[CV]  max_depth=20, max_features=log2, n_estimators=700, score=0.959, total=   6.4s\n",
      "[CV] max_depth=20, max_features=log2, n_estimators=700 ...............\n",
      "[CV]  max_depth=20, max_features=log2, n_estimators=700, score=0.961, total=   6.5s\n",
      "[CV] max_depth=None, max_features=auto, n_estimators=100 .............\n",
      "[CV]  max_depth=None, max_features=auto, n_estimators=100, score=nan, total=   0.1s\n",
      "[CV] max_depth=None, max_features=auto, n_estimators=100 .............\n",
      "[CV]  max_depth=None, max_features=auto, n_estimators=100, score=nan, total=   0.0s\n",
      "[CV] max_depth=None, max_features=auto, n_estimators=100 .............\n"
     ]
    },
    {
     "name": "stderr",
     "output_type": "stream",
     "text": [
      "C:\\Users\\Alex\\Anaconda3\\lib\\site-packages\\sklearn\\model_selection\\_validation.py:536: FitFailedWarning: Estimator fit failed. The score on this train-test partition for these parameters will be set to nan. Details: \n",
      "TypeError: '<=' not supported between instances of 'str' and 'int'\n",
      "\n",
      "  FitFailedWarning)\n",
      "C:\\Users\\Alex\\Anaconda3\\lib\\site-packages\\sklearn\\model_selection\\_validation.py:536: FitFailedWarning: Estimator fit failed. The score on this train-test partition for these parameters will be set to nan. Details: \n",
      "TypeError: '<=' not supported between instances of 'str' and 'int'\n",
      "\n",
      "  FitFailedWarning)\n",
      "C:\\Users\\Alex\\Anaconda3\\lib\\site-packages\\sklearn\\model_selection\\_validation.py:536: FitFailedWarning: Estimator fit failed. The score on this train-test partition for these parameters will be set to nan. Details: \n",
      "TypeError: '<=' not supported between instances of 'str' and 'int'\n",
      "\n",
      "  FitFailedWarning)\n",
      "C:\\Users\\Alex\\Anaconda3\\lib\\site-packages\\sklearn\\model_selection\\_validation.py:536: FitFailedWarning: Estimator fit failed. The score on this train-test partition for these parameters will be set to nan. Details: \n",
      "TypeError: '<=' not supported between instances of 'str' and 'int'\n",
      "\n",
      "  FitFailedWarning)\n"
     ]
    },
    {
     "name": "stdout",
     "output_type": "stream",
     "text": [
      "[CV]  max_depth=None, max_features=auto, n_estimators=100, score=nan, total=   0.0s\n",
      "[CV] max_depth=None, max_features=auto, n_estimators=100 .............\n",
      "[CV]  max_depth=None, max_features=auto, n_estimators=100, score=nan, total=   0.1s\n",
      "[CV] max_depth=None, max_features=auto, n_estimators=100 .............\n",
      "[CV]  max_depth=None, max_features=auto, n_estimators=100, score=nan, total=   0.1s\n",
      "[CV] max_depth=None, max_features=auto, n_estimators=200 .............\n"
     ]
    },
    {
     "name": "stderr",
     "output_type": "stream",
     "text": [
      "C:\\Users\\Alex\\Anaconda3\\lib\\site-packages\\sklearn\\model_selection\\_validation.py:536: FitFailedWarning: Estimator fit failed. The score on this train-test partition for these parameters will be set to nan. Details: \n",
      "TypeError: '<=' not supported between instances of 'str' and 'int'\n",
      "\n",
      "  FitFailedWarning)\n",
      "C:\\Users\\Alex\\Anaconda3\\lib\\site-packages\\sklearn\\model_selection\\_validation.py:536: FitFailedWarning: Estimator fit failed. The score on this train-test partition for these parameters will be set to nan. Details: \n",
      "TypeError: '<=' not supported between instances of 'str' and 'int'\n",
      "\n",
      "  FitFailedWarning)\n"
     ]
    },
    {
     "name": "stdout",
     "output_type": "stream",
     "text": [
      "[CV]  max_depth=None, max_features=auto, n_estimators=200, score=nan, total=   0.1s\n",
      "[CV] max_depth=None, max_features=auto, n_estimators=200 .............\n",
      "[CV]  max_depth=None, max_features=auto, n_estimators=200, score=nan, total=   0.1s\n",
      "[CV] max_depth=None, max_features=auto, n_estimators=200 .............\n"
     ]
    },
    {
     "name": "stderr",
     "output_type": "stream",
     "text": [
      "C:\\Users\\Alex\\Anaconda3\\lib\\site-packages\\sklearn\\model_selection\\_validation.py:536: FitFailedWarning: Estimator fit failed. The score on this train-test partition for these parameters will be set to nan. Details: \n",
      "TypeError: '<=' not supported between instances of 'str' and 'int'\n",
      "\n",
      "  FitFailedWarning)\n",
      "C:\\Users\\Alex\\Anaconda3\\lib\\site-packages\\sklearn\\model_selection\\_validation.py:536: FitFailedWarning: Estimator fit failed. The score on this train-test partition for these parameters will be set to nan. Details: \n",
      "TypeError: '<=' not supported between instances of 'str' and 'int'\n",
      "\n",
      "  FitFailedWarning)\n"
     ]
    },
    {
     "name": "stdout",
     "output_type": "stream",
     "text": [
      "[CV]  max_depth=None, max_features=auto, n_estimators=200, score=nan, total=   0.1s\n",
      "[CV] max_depth=None, max_features=auto, n_estimators=200 .............\n",
      "[CV]  max_depth=None, max_features=auto, n_estimators=200, score=nan, total=   0.1s\n",
      "[CV] max_depth=None, max_features=auto, n_estimators=200 .............\n"
     ]
    },
    {
     "name": "stderr",
     "output_type": "stream",
     "text": [
      "C:\\Users\\Alex\\Anaconda3\\lib\\site-packages\\sklearn\\model_selection\\_validation.py:536: FitFailedWarning: Estimator fit failed. The score on this train-test partition for these parameters will be set to nan. Details: \n",
      "TypeError: '<=' not supported between instances of 'str' and 'int'\n",
      "\n",
      "  FitFailedWarning)\n",
      "C:\\Users\\Alex\\Anaconda3\\lib\\site-packages\\sklearn\\model_selection\\_validation.py:536: FitFailedWarning: Estimator fit failed. The score on this train-test partition for these parameters will be set to nan. Details: \n",
      "TypeError: '<=' not supported between instances of 'str' and 'int'\n",
      "\n",
      "  FitFailedWarning)\n"
     ]
    },
    {
     "name": "stdout",
     "output_type": "stream",
     "text": [
      "[CV]  max_depth=None, max_features=auto, n_estimators=200, score=nan, total=   0.1s\n",
      "[CV] max_depth=None, max_features=auto, n_estimators=500 .............\n"
     ]
    },
    {
     "name": "stderr",
     "output_type": "stream",
     "text": [
      "C:\\Users\\Alex\\Anaconda3\\lib\\site-packages\\sklearn\\model_selection\\_validation.py:536: FitFailedWarning: Estimator fit failed. The score on this train-test partition for these parameters will be set to nan. Details: \n",
      "TypeError: '<=' not supported between instances of 'str' and 'int'\n",
      "\n",
      "  FitFailedWarning)\n"
     ]
    },
    {
     "name": "stdout",
     "output_type": "stream",
     "text": [
      "[CV]  max_depth=None, max_features=auto, n_estimators=500, score=nan, total=   0.3s\n",
      "[CV] max_depth=None, max_features=auto, n_estimators=500 .............\n"
     ]
    },
    {
     "name": "stderr",
     "output_type": "stream",
     "text": [
      "C:\\Users\\Alex\\Anaconda3\\lib\\site-packages\\sklearn\\model_selection\\_validation.py:536: FitFailedWarning: Estimator fit failed. The score on this train-test partition for these parameters will be set to nan. Details: \n",
      "TypeError: '<=' not supported between instances of 'str' and 'int'\n",
      "\n",
      "  FitFailedWarning)\n"
     ]
    },
    {
     "name": "stdout",
     "output_type": "stream",
     "text": [
      "[CV]  max_depth=None, max_features=auto, n_estimators=500, score=nan, total=   0.3s\n",
      "[CV] max_depth=None, max_features=auto, n_estimators=500 .............\n"
     ]
    },
    {
     "name": "stderr",
     "output_type": "stream",
     "text": [
      "C:\\Users\\Alex\\Anaconda3\\lib\\site-packages\\sklearn\\model_selection\\_validation.py:536: FitFailedWarning: Estimator fit failed. The score on this train-test partition for these parameters will be set to nan. Details: \n",
      "TypeError: '<=' not supported between instances of 'str' and 'int'\n",
      "\n",
      "  FitFailedWarning)\n"
     ]
    },
    {
     "name": "stdout",
     "output_type": "stream",
     "text": [
      "[CV]  max_depth=None, max_features=auto, n_estimators=500, score=nan, total=   0.2s\n",
      "[CV] max_depth=None, max_features=auto, n_estimators=500 .............\n"
     ]
    },
    {
     "name": "stderr",
     "output_type": "stream",
     "text": [
      "C:\\Users\\Alex\\Anaconda3\\lib\\site-packages\\sklearn\\model_selection\\_validation.py:536: FitFailedWarning: Estimator fit failed. The score on this train-test partition for these parameters will be set to nan. Details: \n",
      "TypeError: '<=' not supported between instances of 'str' and 'int'\n",
      "\n",
      "  FitFailedWarning)\n"
     ]
    },
    {
     "name": "stdout",
     "output_type": "stream",
     "text": [
      "[CV]  max_depth=None, max_features=auto, n_estimators=500, score=nan, total=   0.2s\n",
      "[CV] max_depth=None, max_features=auto, n_estimators=500 .............\n"
     ]
    },
    {
     "name": "stderr",
     "output_type": "stream",
     "text": [
      "C:\\Users\\Alex\\Anaconda3\\lib\\site-packages\\sklearn\\model_selection\\_validation.py:536: FitFailedWarning: Estimator fit failed. The score on this train-test partition for these parameters will be set to nan. Details: \n",
      "TypeError: '<=' not supported between instances of 'str' and 'int'\n",
      "\n",
      "  FitFailedWarning)\n"
     ]
    },
    {
     "name": "stdout",
     "output_type": "stream",
     "text": [
      "[CV]  max_depth=None, max_features=auto, n_estimators=500, score=nan, total=   0.2s\n",
      "[CV] max_depth=None, max_features=auto, n_estimators=700 .............\n"
     ]
    },
    {
     "name": "stderr",
     "output_type": "stream",
     "text": [
      "C:\\Users\\Alex\\Anaconda3\\lib\\site-packages\\sklearn\\model_selection\\_validation.py:536: FitFailedWarning: Estimator fit failed. The score on this train-test partition for these parameters will be set to nan. Details: \n",
      "TypeError: '<=' not supported between instances of 'str' and 'int'\n",
      "\n",
      "  FitFailedWarning)\n"
     ]
    },
    {
     "name": "stdout",
     "output_type": "stream",
     "text": [
      "[CV]  max_depth=None, max_features=auto, n_estimators=700, score=nan, total=   0.4s\n",
      "[CV] max_depth=None, max_features=auto, n_estimators=700 .............\n"
     ]
    },
    {
     "name": "stderr",
     "output_type": "stream",
     "text": [
      "C:\\Users\\Alex\\Anaconda3\\lib\\site-packages\\sklearn\\model_selection\\_validation.py:536: FitFailedWarning: Estimator fit failed. The score on this train-test partition for these parameters will be set to nan. Details: \n",
      "TypeError: '<=' not supported between instances of 'str' and 'int'\n",
      "\n",
      "  FitFailedWarning)\n"
     ]
    },
    {
     "name": "stdout",
     "output_type": "stream",
     "text": [
      "[CV]  max_depth=None, max_features=auto, n_estimators=700, score=nan, total=   0.4s\n",
      "[CV] max_depth=None, max_features=auto, n_estimators=700 .............\n"
     ]
    },
    {
     "name": "stderr",
     "output_type": "stream",
     "text": [
      "C:\\Users\\Alex\\Anaconda3\\lib\\site-packages\\sklearn\\model_selection\\_validation.py:536: FitFailedWarning: Estimator fit failed. The score on this train-test partition for these parameters will be set to nan. Details: \n",
      "TypeError: '<=' not supported between instances of 'str' and 'int'\n",
      "\n",
      "  FitFailedWarning)\n"
     ]
    },
    {
     "name": "stdout",
     "output_type": "stream",
     "text": [
      "[CV]  max_depth=None, max_features=auto, n_estimators=700, score=nan, total=   0.4s\n",
      "[CV] max_depth=None, max_features=auto, n_estimators=700 .............\n"
     ]
    },
    {
     "name": "stderr",
     "output_type": "stream",
     "text": [
      "C:\\Users\\Alex\\Anaconda3\\lib\\site-packages\\sklearn\\model_selection\\_validation.py:536: FitFailedWarning: Estimator fit failed. The score on this train-test partition for these parameters will be set to nan. Details: \n",
      "TypeError: '<=' not supported between instances of 'str' and 'int'\n",
      "\n",
      "  FitFailedWarning)\n"
     ]
    },
    {
     "name": "stdout",
     "output_type": "stream",
     "text": [
      "[CV]  max_depth=None, max_features=auto, n_estimators=700, score=nan, total=   0.4s\n",
      "[CV] max_depth=None, max_features=auto, n_estimators=700 .............\n"
     ]
    },
    {
     "name": "stderr",
     "output_type": "stream",
     "text": [
      "C:\\Users\\Alex\\Anaconda3\\lib\\site-packages\\sklearn\\model_selection\\_validation.py:536: FitFailedWarning: Estimator fit failed. The score on this train-test partition for these parameters will be set to nan. Details: \n",
      "TypeError: '<=' not supported between instances of 'str' and 'int'\n",
      "\n",
      "  FitFailedWarning)\n",
      "C:\\Users\\Alex\\Anaconda3\\lib\\site-packages\\sklearn\\model_selection\\_validation.py:536: FitFailedWarning: Estimator fit failed. The score on this train-test partition for these parameters will be set to nan. Details: \n",
      "TypeError: '<=' not supported between instances of 'str' and 'int'\n",
      "\n",
      "  FitFailedWarning)\n",
      "C:\\Users\\Alex\\Anaconda3\\lib\\site-packages\\sklearn\\model_selection\\_validation.py:536: FitFailedWarning: Estimator fit failed. The score on this train-test partition for these parameters will be set to nan. Details: \n",
      "TypeError: '<=' not supported between instances of 'str' and 'int'\n",
      "\n",
      "  FitFailedWarning)\n",
      "C:\\Users\\Alex\\Anaconda3\\lib\\site-packages\\sklearn\\model_selection\\_validation.py:536: FitFailedWarning: Estimator fit failed. The score on this train-test partition for these parameters will be set to nan. Details: \n",
      "TypeError: '<=' not supported between instances of 'str' and 'int'\n",
      "\n",
      "  FitFailedWarning)\n"
     ]
    },
    {
     "name": "stdout",
     "output_type": "stream",
     "text": [
      "[CV]  max_depth=None, max_features=auto, n_estimators=700, score=nan, total=   0.4s\n",
      "[CV] max_depth=None, max_features=sqrt, n_estimators=100 .............\n",
      "[CV]  max_depth=None, max_features=sqrt, n_estimators=100, score=nan, total=   0.0s\n",
      "[CV] max_depth=None, max_features=sqrt, n_estimators=100 .............\n",
      "[CV]  max_depth=None, max_features=sqrt, n_estimators=100, score=nan, total=   0.1s\n",
      "[CV] max_depth=None, max_features=sqrt, n_estimators=100 .............\n",
      "[CV]  max_depth=None, max_features=sqrt, n_estimators=100, score=nan, total=   0.0s\n",
      "[CV] max_depth=None, max_features=sqrt, n_estimators=100 .............\n"
     ]
    },
    {
     "name": "stderr",
     "output_type": "stream",
     "text": [
      "C:\\Users\\Alex\\Anaconda3\\lib\\site-packages\\sklearn\\model_selection\\_validation.py:536: FitFailedWarning: Estimator fit failed. The score on this train-test partition for these parameters will be set to nan. Details: \n",
      "TypeError: '<=' not supported between instances of 'str' and 'int'\n",
      "\n",
      "  FitFailedWarning)\n",
      "C:\\Users\\Alex\\Anaconda3\\lib\\site-packages\\sklearn\\model_selection\\_validation.py:536: FitFailedWarning: Estimator fit failed. The score on this train-test partition for these parameters will be set to nan. Details: \n",
      "TypeError: '<=' not supported between instances of 'str' and 'int'\n",
      "\n",
      "  FitFailedWarning)\n",
      "C:\\Users\\Alex\\Anaconda3\\lib\\site-packages\\sklearn\\model_selection\\_validation.py:536: FitFailedWarning: Estimator fit failed. The score on this train-test partition for these parameters will be set to nan. Details: \n",
      "TypeError: '<=' not supported between instances of 'str' and 'int'\n",
      "\n",
      "  FitFailedWarning)\n"
     ]
    },
    {
     "name": "stdout",
     "output_type": "stream",
     "text": [
      "[CV]  max_depth=None, max_features=sqrt, n_estimators=100, score=nan, total=   0.1s\n",
      "[CV] max_depth=None, max_features=sqrt, n_estimators=100 .............\n",
      "[CV]  max_depth=None, max_features=sqrt, n_estimators=100, score=nan, total=   0.1s\n",
      "[CV] max_depth=None, max_features=sqrt, n_estimators=200 .............\n",
      "[CV]  max_depth=None, max_features=sqrt, n_estimators=200, score=nan, total=   0.1s\n",
      "[CV] max_depth=None, max_features=sqrt, n_estimators=200 .............\n"
     ]
    },
    {
     "name": "stderr",
     "output_type": "stream",
     "text": [
      "C:\\Users\\Alex\\Anaconda3\\lib\\site-packages\\sklearn\\model_selection\\_validation.py:536: FitFailedWarning: Estimator fit failed. The score on this train-test partition for these parameters will be set to nan. Details: \n",
      "TypeError: '<=' not supported between instances of 'str' and 'int'\n",
      "\n",
      "  FitFailedWarning)\n",
      "C:\\Users\\Alex\\Anaconda3\\lib\\site-packages\\sklearn\\model_selection\\_validation.py:536: FitFailedWarning: Estimator fit failed. The score on this train-test partition for these parameters will be set to nan. Details: \n",
      "TypeError: '<=' not supported between instances of 'str' and 'int'\n",
      "\n",
      "  FitFailedWarning)\n"
     ]
    },
    {
     "name": "stdout",
     "output_type": "stream",
     "text": [
      "[CV]  max_depth=None, max_features=sqrt, n_estimators=200, score=nan, total=   0.1s\n",
      "[CV] max_depth=None, max_features=sqrt, n_estimators=200 .............\n",
      "[CV]  max_depth=None, max_features=sqrt, n_estimators=200, score=nan, total=   0.1s\n",
      "[CV] max_depth=None, max_features=sqrt, n_estimators=200 .............\n"
     ]
    },
    {
     "name": "stderr",
     "output_type": "stream",
     "text": [
      "C:\\Users\\Alex\\Anaconda3\\lib\\site-packages\\sklearn\\model_selection\\_validation.py:536: FitFailedWarning: Estimator fit failed. The score on this train-test partition for these parameters will be set to nan. Details: \n",
      "TypeError: '<=' not supported between instances of 'str' and 'int'\n",
      "\n",
      "  FitFailedWarning)\n",
      "C:\\Users\\Alex\\Anaconda3\\lib\\site-packages\\sklearn\\model_selection\\_validation.py:536: FitFailedWarning: Estimator fit failed. The score on this train-test partition for these parameters will be set to nan. Details: \n",
      "TypeError: '<=' not supported between instances of 'str' and 'int'\n",
      "\n",
      "  FitFailedWarning)\n"
     ]
    },
    {
     "name": "stdout",
     "output_type": "stream",
     "text": [
      "[CV]  max_depth=None, max_features=sqrt, n_estimators=200, score=nan, total=   0.1s\n",
      "[CV] max_depth=None, max_features=sqrt, n_estimators=200 .............\n",
      "[CV]  max_depth=None, max_features=sqrt, n_estimators=200, score=nan, total=   0.1s\n",
      "[CV] max_depth=None, max_features=sqrt, n_estimators=500 .............\n"
     ]
    },
    {
     "name": "stderr",
     "output_type": "stream",
     "text": [
      "C:\\Users\\Alex\\Anaconda3\\lib\\site-packages\\sklearn\\model_selection\\_validation.py:536: FitFailedWarning: Estimator fit failed. The score on this train-test partition for these parameters will be set to nan. Details: \n",
      "TypeError: '<=' not supported between instances of 'str' and 'int'\n",
      "\n",
      "  FitFailedWarning)\n"
     ]
    },
    {
     "name": "stdout",
     "output_type": "stream",
     "text": [
      "[CV]  max_depth=None, max_features=sqrt, n_estimators=500, score=nan, total=   0.3s\n",
      "[CV] max_depth=None, max_features=sqrt, n_estimators=500 .............\n"
     ]
    },
    {
     "name": "stderr",
     "output_type": "stream",
     "text": [
      "C:\\Users\\Alex\\Anaconda3\\lib\\site-packages\\sklearn\\model_selection\\_validation.py:536: FitFailedWarning: Estimator fit failed. The score on this train-test partition for these parameters will be set to nan. Details: \n",
      "TypeError: '<=' not supported between instances of 'str' and 'int'\n",
      "\n",
      "  FitFailedWarning)\n"
     ]
    },
    {
     "name": "stdout",
     "output_type": "stream",
     "text": [
      "[CV]  max_depth=None, max_features=sqrt, n_estimators=500, score=nan, total=   0.3s\n",
      "[CV] max_depth=None, max_features=sqrt, n_estimators=500 .............\n"
     ]
    },
    {
     "name": "stderr",
     "output_type": "stream",
     "text": [
      "C:\\Users\\Alex\\Anaconda3\\lib\\site-packages\\sklearn\\model_selection\\_validation.py:536: FitFailedWarning: Estimator fit failed. The score on this train-test partition for these parameters will be set to nan. Details: \n",
      "TypeError: '<=' not supported between instances of 'str' and 'int'\n",
      "\n",
      "  FitFailedWarning)\n"
     ]
    },
    {
     "name": "stdout",
     "output_type": "stream",
     "text": [
      "[CV]  max_depth=None, max_features=sqrt, n_estimators=500, score=nan, total=   0.3s\n",
      "[CV] max_depth=None, max_features=sqrt, n_estimators=500 .............\n"
     ]
    },
    {
     "name": "stderr",
     "output_type": "stream",
     "text": [
      "C:\\Users\\Alex\\Anaconda3\\lib\\site-packages\\sklearn\\model_selection\\_validation.py:536: FitFailedWarning: Estimator fit failed. The score on this train-test partition for these parameters will be set to nan. Details: \n",
      "TypeError: '<=' not supported between instances of 'str' and 'int'\n",
      "\n",
      "  FitFailedWarning)\n"
     ]
    },
    {
     "name": "stdout",
     "output_type": "stream",
     "text": [
      "[CV]  max_depth=None, max_features=sqrt, n_estimators=500, score=nan, total=   0.3s\n",
      "[CV] max_depth=None, max_features=sqrt, n_estimators=500 .............\n"
     ]
    },
    {
     "name": "stderr",
     "output_type": "stream",
     "text": [
      "C:\\Users\\Alex\\Anaconda3\\lib\\site-packages\\sklearn\\model_selection\\_validation.py:536: FitFailedWarning: Estimator fit failed. The score on this train-test partition for these parameters will be set to nan. Details: \n",
      "TypeError: '<=' not supported between instances of 'str' and 'int'\n",
      "\n",
      "  FitFailedWarning)\n"
     ]
    },
    {
     "name": "stdout",
     "output_type": "stream",
     "text": [
      "[CV]  max_depth=None, max_features=sqrt, n_estimators=500, score=nan, total=   0.2s\n",
      "[CV] max_depth=None, max_features=sqrt, n_estimators=700 .............\n"
     ]
    },
    {
     "name": "stderr",
     "output_type": "stream",
     "text": [
      "C:\\Users\\Alex\\Anaconda3\\lib\\site-packages\\sklearn\\model_selection\\_validation.py:536: FitFailedWarning: Estimator fit failed. The score on this train-test partition for these parameters will be set to nan. Details: \n",
      "TypeError: '<=' not supported between instances of 'str' and 'int'\n",
      "\n",
      "  FitFailedWarning)\n"
     ]
    },
    {
     "name": "stdout",
     "output_type": "stream",
     "text": [
      "[CV]  max_depth=None, max_features=sqrt, n_estimators=700, score=nan, total=   0.4s\n",
      "[CV] max_depth=None, max_features=sqrt, n_estimators=700 .............\n"
     ]
    },
    {
     "name": "stderr",
     "output_type": "stream",
     "text": [
      "C:\\Users\\Alex\\Anaconda3\\lib\\site-packages\\sklearn\\model_selection\\_validation.py:536: FitFailedWarning: Estimator fit failed. The score on this train-test partition for these parameters will be set to nan. Details: \n",
      "TypeError: '<=' not supported between instances of 'str' and 'int'\n",
      "\n",
      "  FitFailedWarning)\n"
     ]
    },
    {
     "name": "stdout",
     "output_type": "stream",
     "text": [
      "[CV]  max_depth=None, max_features=sqrt, n_estimators=700, score=nan, total=   0.4s\n",
      "[CV] max_depth=None, max_features=sqrt, n_estimators=700 .............\n"
     ]
    },
    {
     "name": "stderr",
     "output_type": "stream",
     "text": [
      "C:\\Users\\Alex\\Anaconda3\\lib\\site-packages\\sklearn\\model_selection\\_validation.py:536: FitFailedWarning: Estimator fit failed. The score on this train-test partition for these parameters will be set to nan. Details: \n",
      "TypeError: '<=' not supported between instances of 'str' and 'int'\n",
      "\n",
      "  FitFailedWarning)\n"
     ]
    },
    {
     "name": "stdout",
     "output_type": "stream",
     "text": [
      "[CV]  max_depth=None, max_features=sqrt, n_estimators=700, score=nan, total=   0.4s\n",
      "[CV] max_depth=None, max_features=sqrt, n_estimators=700 .............\n"
     ]
    },
    {
     "name": "stderr",
     "output_type": "stream",
     "text": [
      "C:\\Users\\Alex\\Anaconda3\\lib\\site-packages\\sklearn\\model_selection\\_validation.py:536: FitFailedWarning: Estimator fit failed. The score on this train-test partition for these parameters will be set to nan. Details: \n",
      "TypeError: '<=' not supported between instances of 'str' and 'int'\n",
      "\n",
      "  FitFailedWarning)\n"
     ]
    },
    {
     "name": "stdout",
     "output_type": "stream",
     "text": [
      "[CV]  max_depth=None, max_features=sqrt, n_estimators=700, score=nan, total=   0.4s\n",
      "[CV] max_depth=None, max_features=sqrt, n_estimators=700 .............\n"
     ]
    },
    {
     "name": "stderr",
     "output_type": "stream",
     "text": [
      "C:\\Users\\Alex\\Anaconda3\\lib\\site-packages\\sklearn\\model_selection\\_validation.py:536: FitFailedWarning: Estimator fit failed. The score on this train-test partition for these parameters will be set to nan. Details: \n",
      "TypeError: '<=' not supported between instances of 'str' and 'int'\n",
      "\n",
      "  FitFailedWarning)\n",
      "C:\\Users\\Alex\\Anaconda3\\lib\\site-packages\\sklearn\\model_selection\\_validation.py:536: FitFailedWarning: Estimator fit failed. The score on this train-test partition for these parameters will be set to nan. Details: \n",
      "TypeError: '<=' not supported between instances of 'str' and 'int'\n",
      "\n",
      "  FitFailedWarning)\n",
      "C:\\Users\\Alex\\Anaconda3\\lib\\site-packages\\sklearn\\model_selection\\_validation.py:536: FitFailedWarning: Estimator fit failed. The score on this train-test partition for these parameters will be set to nan. Details: \n",
      "TypeError: '<=' not supported between instances of 'str' and 'int'\n",
      "\n",
      "  FitFailedWarning)\n",
      "C:\\Users\\Alex\\Anaconda3\\lib\\site-packages\\sklearn\\model_selection\\_validation.py:536: FitFailedWarning: Estimator fit failed. The score on this train-test partition for these parameters will be set to nan. Details: \n",
      "TypeError: '<=' not supported between instances of 'str' and 'int'\n",
      "\n",
      "  FitFailedWarning)\n"
     ]
    },
    {
     "name": "stdout",
     "output_type": "stream",
     "text": [
      "[CV]  max_depth=None, max_features=sqrt, n_estimators=700, score=nan, total=   0.4s\n",
      "[CV] max_depth=None, max_features=log2, n_estimators=100 .............\n",
      "[CV]  max_depth=None, max_features=log2, n_estimators=100, score=nan, total=   0.1s\n",
      "[CV] max_depth=None, max_features=log2, n_estimators=100 .............\n",
      "[CV]  max_depth=None, max_features=log2, n_estimators=100, score=nan, total=   0.1s\n",
      "[CV] max_depth=None, max_features=log2, n_estimators=100 .............\n",
      "[CV]  max_depth=None, max_features=log2, n_estimators=100, score=nan, total=   0.0s\n",
      "[CV] max_depth=None, max_features=log2, n_estimators=100 .............\n"
     ]
    },
    {
     "name": "stderr",
     "output_type": "stream",
     "text": [
      "C:\\Users\\Alex\\Anaconda3\\lib\\site-packages\\sklearn\\model_selection\\_validation.py:536: FitFailedWarning: Estimator fit failed. The score on this train-test partition for these parameters will be set to nan. Details: \n",
      "TypeError: '<=' not supported between instances of 'str' and 'int'\n",
      "\n",
      "  FitFailedWarning)\n",
      "C:\\Users\\Alex\\Anaconda3\\lib\\site-packages\\sklearn\\model_selection\\_validation.py:536: FitFailedWarning: Estimator fit failed. The score on this train-test partition for these parameters will be set to nan. Details: \n",
      "TypeError: '<=' not supported between instances of 'str' and 'int'\n",
      "\n",
      "  FitFailedWarning)\n",
      "C:\\Users\\Alex\\Anaconda3\\lib\\site-packages\\sklearn\\model_selection\\_validation.py:536: FitFailedWarning: Estimator fit failed. The score on this train-test partition for these parameters will be set to nan. Details: \n",
      "TypeError: '<=' not supported between instances of 'str' and 'int'\n",
      "\n",
      "  FitFailedWarning)\n"
     ]
    },
    {
     "name": "stdout",
     "output_type": "stream",
     "text": [
      "[CV]  max_depth=None, max_features=log2, n_estimators=100, score=nan, total=   0.1s\n",
      "[CV] max_depth=None, max_features=log2, n_estimators=100 .............\n",
      "[CV]  max_depth=None, max_features=log2, n_estimators=100, score=nan, total=   0.1s\n",
      "[CV] max_depth=None, max_features=log2, n_estimators=200 .............\n",
      "[CV]  max_depth=None, max_features=log2, n_estimators=200, score=nan, total=   0.1s\n",
      "[CV] max_depth=None, max_features=log2, n_estimators=200 .............\n"
     ]
    },
    {
     "name": "stderr",
     "output_type": "stream",
     "text": [
      "C:\\Users\\Alex\\Anaconda3\\lib\\site-packages\\sklearn\\model_selection\\_validation.py:536: FitFailedWarning: Estimator fit failed. The score on this train-test partition for these parameters will be set to nan. Details: \n",
      "TypeError: '<=' not supported between instances of 'str' and 'int'\n",
      "\n",
      "  FitFailedWarning)\n",
      "C:\\Users\\Alex\\Anaconda3\\lib\\site-packages\\sklearn\\model_selection\\_validation.py:536: FitFailedWarning: Estimator fit failed. The score on this train-test partition for these parameters will be set to nan. Details: \n",
      "TypeError: '<=' not supported between instances of 'str' and 'int'\n",
      "\n",
      "  FitFailedWarning)\n"
     ]
    },
    {
     "name": "stdout",
     "output_type": "stream",
     "text": [
      "[CV]  max_depth=None, max_features=log2, n_estimators=200, score=nan, total=   0.1s\n",
      "[CV] max_depth=None, max_features=log2, n_estimators=200 .............\n",
      "[CV]  max_depth=None, max_features=log2, n_estimators=200, score=nan, total=   0.1s\n",
      "[CV] max_depth=None, max_features=log2, n_estimators=200 .............\n"
     ]
    },
    {
     "name": "stderr",
     "output_type": "stream",
     "text": [
      "C:\\Users\\Alex\\Anaconda3\\lib\\site-packages\\sklearn\\model_selection\\_validation.py:536: FitFailedWarning: Estimator fit failed. The score on this train-test partition for these parameters will be set to nan. Details: \n",
      "TypeError: '<=' not supported between instances of 'str' and 'int'\n",
      "\n",
      "  FitFailedWarning)\n",
      "C:\\Users\\Alex\\Anaconda3\\lib\\site-packages\\sklearn\\model_selection\\_validation.py:536: FitFailedWarning: Estimator fit failed. The score on this train-test partition for these parameters will be set to nan. Details: \n",
      "TypeError: '<=' not supported between instances of 'str' and 'int'\n",
      "\n",
      "  FitFailedWarning)\n"
     ]
    },
    {
     "name": "stdout",
     "output_type": "stream",
     "text": [
      "[CV]  max_depth=None, max_features=log2, n_estimators=200, score=nan, total=   0.1s\n",
      "[CV] max_depth=None, max_features=log2, n_estimators=200 .............\n",
      "[CV]  max_depth=None, max_features=log2, n_estimators=200, score=nan, total=   0.1s\n",
      "[CV] max_depth=None, max_features=log2, n_estimators=500 .............\n"
     ]
    },
    {
     "name": "stderr",
     "output_type": "stream",
     "text": [
      "C:\\Users\\Alex\\Anaconda3\\lib\\site-packages\\sklearn\\model_selection\\_validation.py:536: FitFailedWarning: Estimator fit failed. The score on this train-test partition for these parameters will be set to nan. Details: \n",
      "TypeError: '<=' not supported between instances of 'str' and 'int'\n",
      "\n",
      "  FitFailedWarning)\n"
     ]
    },
    {
     "name": "stdout",
     "output_type": "stream",
     "text": [
      "[CV]  max_depth=None, max_features=log2, n_estimators=500, score=nan, total=   0.3s\n",
      "[CV] max_depth=None, max_features=log2, n_estimators=500 .............\n"
     ]
    },
    {
     "name": "stderr",
     "output_type": "stream",
     "text": [
      "C:\\Users\\Alex\\Anaconda3\\lib\\site-packages\\sklearn\\model_selection\\_validation.py:536: FitFailedWarning: Estimator fit failed. The score on this train-test partition for these parameters will be set to nan. Details: \n",
      "TypeError: '<=' not supported between instances of 'str' and 'int'\n",
      "\n",
      "  FitFailedWarning)\n"
     ]
    },
    {
     "name": "stdout",
     "output_type": "stream",
     "text": [
      "[CV]  max_depth=None, max_features=log2, n_estimators=500, score=nan, total=   0.3s\n",
      "[CV] max_depth=None, max_features=log2, n_estimators=500 .............\n"
     ]
    },
    {
     "name": "stderr",
     "output_type": "stream",
     "text": [
      "C:\\Users\\Alex\\Anaconda3\\lib\\site-packages\\sklearn\\model_selection\\_validation.py:536: FitFailedWarning: Estimator fit failed. The score on this train-test partition for these parameters will be set to nan. Details: \n",
      "TypeError: '<=' not supported between instances of 'str' and 'int'\n",
      "\n",
      "  FitFailedWarning)\n"
     ]
    },
    {
     "name": "stdout",
     "output_type": "stream",
     "text": [
      "[CV]  max_depth=None, max_features=log2, n_estimators=500, score=nan, total=   0.3s\n",
      "[CV] max_depth=None, max_features=log2, n_estimators=500 .............\n"
     ]
    },
    {
     "name": "stderr",
     "output_type": "stream",
     "text": [
      "C:\\Users\\Alex\\Anaconda3\\lib\\site-packages\\sklearn\\model_selection\\_validation.py:536: FitFailedWarning: Estimator fit failed. The score on this train-test partition for these parameters will be set to nan. Details: \n",
      "TypeError: '<=' not supported between instances of 'str' and 'int'\n",
      "\n",
      "  FitFailedWarning)\n"
     ]
    },
    {
     "name": "stdout",
     "output_type": "stream",
     "text": [
      "[CV]  max_depth=None, max_features=log2, n_estimators=500, score=nan, total=   0.3s\n",
      "[CV] max_depth=None, max_features=log2, n_estimators=500 .............\n"
     ]
    },
    {
     "name": "stderr",
     "output_type": "stream",
     "text": [
      "C:\\Users\\Alex\\Anaconda3\\lib\\site-packages\\sklearn\\model_selection\\_validation.py:536: FitFailedWarning: Estimator fit failed. The score on this train-test partition for these parameters will be set to nan. Details: \n",
      "TypeError: '<=' not supported between instances of 'str' and 'int'\n",
      "\n",
      "  FitFailedWarning)\n"
     ]
    },
    {
     "name": "stdout",
     "output_type": "stream",
     "text": [
      "[CV]  max_depth=None, max_features=log2, n_estimators=500, score=nan, total=   0.3s\n",
      "[CV] max_depth=None, max_features=log2, n_estimators=700 .............\n"
     ]
    },
    {
     "name": "stderr",
     "output_type": "stream",
     "text": [
      "C:\\Users\\Alex\\Anaconda3\\lib\\site-packages\\sklearn\\model_selection\\_validation.py:536: FitFailedWarning: Estimator fit failed. The score on this train-test partition for these parameters will be set to nan. Details: \n",
      "TypeError: '<=' not supported between instances of 'str' and 'int'\n",
      "\n",
      "  FitFailedWarning)\n"
     ]
    },
    {
     "name": "stdout",
     "output_type": "stream",
     "text": [
      "[CV]  max_depth=None, max_features=log2, n_estimators=700, score=nan, total=   0.4s\n",
      "[CV] max_depth=None, max_features=log2, n_estimators=700 .............\n"
     ]
    },
    {
     "name": "stderr",
     "output_type": "stream",
     "text": [
      "C:\\Users\\Alex\\Anaconda3\\lib\\site-packages\\sklearn\\model_selection\\_validation.py:536: FitFailedWarning: Estimator fit failed. The score on this train-test partition for these parameters will be set to nan. Details: \n",
      "TypeError: '<=' not supported between instances of 'str' and 'int'\n",
      "\n",
      "  FitFailedWarning)\n"
     ]
    },
    {
     "name": "stdout",
     "output_type": "stream",
     "text": [
      "[CV]  max_depth=None, max_features=log2, n_estimators=700, score=nan, total=   0.4s\n",
      "[CV] max_depth=None, max_features=log2, n_estimators=700 .............\n"
     ]
    },
    {
     "name": "stderr",
     "output_type": "stream",
     "text": [
      "C:\\Users\\Alex\\Anaconda3\\lib\\site-packages\\sklearn\\model_selection\\_validation.py:536: FitFailedWarning: Estimator fit failed. The score on this train-test partition for these parameters will be set to nan. Details: \n",
      "TypeError: '<=' not supported between instances of 'str' and 'int'\n",
      "\n",
      "  FitFailedWarning)\n"
     ]
    },
    {
     "name": "stdout",
     "output_type": "stream",
     "text": [
      "[CV]  max_depth=None, max_features=log2, n_estimators=700, score=nan, total=   0.4s\n",
      "[CV] max_depth=None, max_features=log2, n_estimators=700 .............\n"
     ]
    },
    {
     "name": "stderr",
     "output_type": "stream",
     "text": [
      "C:\\Users\\Alex\\Anaconda3\\lib\\site-packages\\sklearn\\model_selection\\_validation.py:536: FitFailedWarning: Estimator fit failed. The score on this train-test partition for these parameters will be set to nan. Details: \n",
      "TypeError: '<=' not supported between instances of 'str' and 'int'\n",
      "\n",
      "  FitFailedWarning)\n"
     ]
    },
    {
     "name": "stdout",
     "output_type": "stream",
     "text": [
      "[CV]  max_depth=None, max_features=log2, n_estimators=700, score=nan, total=   0.4s\n",
      "[CV] max_depth=None, max_features=log2, n_estimators=700 .............\n"
     ]
    },
    {
     "name": "stderr",
     "output_type": "stream",
     "text": [
      "C:\\Users\\Alex\\Anaconda3\\lib\\site-packages\\sklearn\\model_selection\\_validation.py:536: FitFailedWarning: Estimator fit failed. The score on this train-test partition for these parameters will be set to nan. Details: \n",
      "TypeError: '<=' not supported between instances of 'str' and 'int'\n",
      "\n",
      "  FitFailedWarning)\n",
      "[Parallel(n_jobs=1)]: Done 180 out of 180 | elapsed:  8.2min finished\n"
     ]
    },
    {
     "name": "stdout",
     "output_type": "stream",
     "text": [
      "[CV]  max_depth=None, max_features=log2, n_estimators=700, score=nan, total=   0.4s\n"
     ]
    },
    {
     "data": {
      "text/plain": [
       "GridSearchCV(cv=None, error_score=nan,\n",
       "             estimator=RandomForestRegressor(bootstrap=True, ccp_alpha=0.0,\n",
       "                                             criterion='mse', max_depth=None,\n",
       "                                             max_features='auto',\n",
       "                                             max_leaf_nodes=None,\n",
       "                                             max_samples=None,\n",
       "                                             min_impurity_decrease=0.0,\n",
       "                                             min_impurity_split=None,\n",
       "                                             min_samples_leaf=1,\n",
       "                                             min_samples_split=2,\n",
       "                                             min_weight_fraction_leaf=0.0,\n",
       "                                             n_estimators=100, n_jobs=None,\n",
       "                                             oob_score=False, random_state=None,\n",
       "                                             verbose=0, warm_start=False),\n",
       "             iid='deprecated', n_jobs=None,\n",
       "             param_grid={'max_depth': [10, 20, 'None'],\n",
       "                         'max_features': ['auto', 'sqrt', 'log2'],\n",
       "                         'n_estimators': [100, 200, 500, 700]},\n",
       "             pre_dispatch='2*n_jobs', refit=True, return_train_score=False,\n",
       "             scoring=None, verbose=3)"
      ]
     },
     "execution_count": 172,
     "metadata": {},
     "output_type": "execute_result"
    }
   ],
   "source": [
    "grid.fit(X_train, y_train)"
   ]
  },
  {
   "cell_type": "markdown",
   "metadata": {},
   "source": [
    "##### grid search results"
   ]
  },
  {
   "cell_type": "code",
   "execution_count": 173,
   "metadata": {},
   "outputs": [
    {
     "data": {
      "text/plain": [
       "0.9581389377612002"
      ]
     },
     "execution_count": 173,
     "metadata": {},
     "output_type": "execute_result"
    }
   ],
   "source": [
    "grid.best_score_"
   ]
  },
  {
   "cell_type": "markdown",
   "metadata": {},
   "source": [
    "The best score from the grid search on training data is 95.8"
   ]
  },
  {
   "cell_type": "code",
   "execution_count": 174,
   "metadata": {},
   "outputs": [
    {
     "data": {
      "text/plain": [
       "{'max_depth': 20, 'max_features': 'log2', 'n_estimators': 200}"
      ]
     },
     "execution_count": 174,
     "metadata": {},
     "output_type": "execute_result"
    }
   ],
   "source": [
    "grid.best_params_"
   ]
  },
  {
   "cell_type": "markdown",
   "metadata": {},
   "source": [
    "And these are the best parameters"
   ]
  },
  {
   "cell_type": "markdown",
   "metadata": {},
   "source": [
    "##### updated model"
   ]
  },
  {
   "cell_type": "code",
   "execution_count": 175,
   "metadata": {},
   "outputs": [],
   "source": [
    "updated_rfr = RandomForestRegressor(bootstrap = True,\n",
    " max_depth = 20,\n",
    " max_features = 'log2',\n",
    " n_estimators = 200)"
   ]
  },
  {
   "cell_type": "code",
   "execution_count": 176,
   "metadata": {},
   "outputs": [
    {
     "data": {
      "text/plain": [
       "RandomForestRegressor(bootstrap=True, ccp_alpha=0.0, criterion='mse',\n",
       "                      max_depth=20, max_features='log2', max_leaf_nodes=None,\n",
       "                      max_samples=None, min_impurity_decrease=0.0,\n",
       "                      min_impurity_split=None, min_samples_leaf=1,\n",
       "                      min_samples_split=2, min_weight_fraction_leaf=0.0,\n",
       "                      n_estimators=200, n_jobs=None, oob_score=False,\n",
       "                      random_state=None, verbose=0, warm_start=False)"
      ]
     },
     "execution_count": 176,
     "metadata": {},
     "output_type": "execute_result"
    }
   ],
   "source": [
    "updated_rfr.fit(X_train, y_train)"
   ]
  },
  {
   "cell_type": "code",
   "execution_count": 177,
   "metadata": {},
   "outputs": [],
   "source": [
    "forest_pred = updated_rfr.predict(X_test)"
   ]
  },
  {
   "cell_type": "code",
   "execution_count": 178,
   "metadata": {},
   "outputs": [
    {
     "data": {
      "text/plain": [
       "0.9657485547109871"
      ]
     },
     "execution_count": 178,
     "metadata": {},
     "output_type": "execute_result"
    }
   ],
   "source": [
    "updated_rfr.score(X_test, y_test)"
   ]
  },
  {
   "cell_type": "markdown",
   "metadata": {},
   "source": [
    "96.6 is a slight improvement to the earlier 96"
   ]
  },
  {
   "cell_type": "code",
   "execution_count": 179,
   "metadata": {},
   "outputs": [
    {
     "data": {
      "text/plain": [
       "<matplotlib.collections.PathCollection at 0x9c5df31888>"
      ]
     },
     "execution_count": 179,
     "metadata": {},
     "output_type": "execute_result"
    },
    {
     "data": {
      "image/png": "[encoded data removed]",
      "text/plain": [
       "<Figure size 432x288 with 1 Axes>"
      ]
     },
     "metadata": {
      "needs_background": "light"
     },
     "output_type": "display_data"
    }
   ],
   "source": [
    "plt.scatter(forest_pred, y_test)"
   ]
  },
  {
   "cell_type": "markdown",
   "metadata": {},
   "source": [
    "As seen, we are getting great results without having to change the features. "
   ]
  },
  {
   "cell_type": "markdown",
   "metadata": {},
   "source": [
    "But, are there any interaction effects?"
   ]
  },
  {
   "cell_type": "markdown",
   "metadata": {},
   "source": [
    "##### interaction effects"
   ]
  },
  {
   "cell_type": "code",
   "execution_count": 180,
   "metadata": {},
   "outputs": [
    {
     "data": {
      "text/html": [
       "<div>\n",
       "<style scoped>\n",
       "    .dataframe tbody tr th:only-of-type {\n",
       "        vertical-align: middle;\n",
       "    }\n",
       "\n",
       "    .dataframe tbody tr th {\n",
       "        vertical-align: top;\n",
       "    }\n",
       "\n",
       "    .dataframe thead th {\n",
       "        text-align: right;\n",
       "    }\n",
       "</style>\n",
       "<table border=\"1\" class=\"dataframe\">\n",
       "  <thead>\n",
       "    <tr style=\"text-align: right;\">\n",
       "      <th></th>\n",
       "      <th>year</th>\n",
       "      <th>price</th>\n",
       "      <th>mileage</th>\n",
       "      <th>tax</th>\n",
       "      <th>mpg</th>\n",
       "      <th>engineSize</th>\n",
       "      <th>transmission_Manual</th>\n",
       "      <th>transmission_Semi-Auto</th>\n",
       "      <th>fuelType_Hybrid</th>\n",
       "      <th>fuelType_Petrol</th>\n",
       "      <th>...</th>\n",
       "      <th>model_RS5</th>\n",
       "      <th>model_RS6</th>\n",
       "      <th>model_RS7</th>\n",
       "      <th>model_S3</th>\n",
       "      <th>model_S4</th>\n",
       "      <th>model_S5</th>\n",
       "      <th>model_S8</th>\n",
       "      <th>model_SQ5</th>\n",
       "      <th>model_SQ7</th>\n",
       "      <th>model_TT</th>\n",
       "    </tr>\n",
       "  </thead>\n",
       "  <tbody>\n",
       "    <tr>\n",
       "      <td>0</td>\n",
       "      <td>2017</td>\n",
       "      <td>12500</td>\n",
       "      <td>15735</td>\n",
       "      <td>150</td>\n",
       "      <td>55.4</td>\n",
       "      <td>1.4</td>\n",
       "      <td>1</td>\n",
       "      <td>0</td>\n",
       "      <td>0</td>\n",
       "      <td>1</td>\n",
       "      <td>...</td>\n",
       "      <td>0</td>\n",
       "      <td>0</td>\n",
       "      <td>0</td>\n",
       "      <td>0</td>\n",
       "      <td>0</td>\n",
       "      <td>0</td>\n",
       "      <td>0</td>\n",
       "      <td>0</td>\n",
       "      <td>0</td>\n",
       "      <td>0</td>\n",
       "    </tr>\n",
       "    <tr>\n",
       "      <td>1</td>\n",
       "      <td>2016</td>\n",
       "      <td>16500</td>\n",
       "      <td>36203</td>\n",
       "      <td>20</td>\n",
       "      <td>64.2</td>\n",
       "      <td>2.0</td>\n",
       "      <td>0</td>\n",
       "      <td>0</td>\n",
       "      <td>0</td>\n",
       "      <td>0</td>\n",
       "      <td>...</td>\n",
       "      <td>0</td>\n",
       "      <td>0</td>\n",
       "      <td>0</td>\n",
       "      <td>0</td>\n",
       "      <td>0</td>\n",
       "      <td>0</td>\n",
       "      <td>0</td>\n",
       "      <td>0</td>\n",
       "      <td>0</td>\n",
       "      <td>0</td>\n",
       "    </tr>\n",
       "    <tr>\n",
       "      <td>2</td>\n",
       "      <td>2016</td>\n",
       "      <td>11000</td>\n",
       "      <td>29946</td>\n",
       "      <td>30</td>\n",
       "      <td>55.4</td>\n",
       "      <td>1.4</td>\n",
       "      <td>1</td>\n",
       "      <td>0</td>\n",
       "      <td>0</td>\n",
       "      <td>1</td>\n",
       "      <td>...</td>\n",
       "      <td>0</td>\n",
       "      <td>0</td>\n",
       "      <td>0</td>\n",
       "      <td>0</td>\n",
       "      <td>0</td>\n",
       "      <td>0</td>\n",
       "      <td>0</td>\n",
       "      <td>0</td>\n",
       "      <td>0</td>\n",
       "      <td>0</td>\n",
       "    </tr>\n",
       "    <tr>\n",
       "      <td>3</td>\n",
       "      <td>2017</td>\n",
       "      <td>16800</td>\n",
       "      <td>25952</td>\n",
       "      <td>145</td>\n",
       "      <td>67.3</td>\n",
       "      <td>2.0</td>\n",
       "      <td>0</td>\n",
       "      <td>0</td>\n",
       "      <td>0</td>\n",
       "      <td>0</td>\n",
       "      <td>...</td>\n",
       "      <td>0</td>\n",
       "      <td>0</td>\n",
       "      <td>0</td>\n",
       "      <td>0</td>\n",
       "      <td>0</td>\n",
       "      <td>0</td>\n",
       "      <td>0</td>\n",
       "      <td>0</td>\n",
       "      <td>0</td>\n",
       "      <td>0</td>\n",
       "    </tr>\n",
       "    <tr>\n",
       "      <td>4</td>\n",
       "      <td>2019</td>\n",
       "      <td>17300</td>\n",
       "      <td>1998</td>\n",
       "      <td>145</td>\n",
       "      <td>49.6</td>\n",
       "      <td>1.0</td>\n",
       "      <td>1</td>\n",
       "      <td>0</td>\n",
       "      <td>0</td>\n",
       "      <td>1</td>\n",
       "      <td>...</td>\n",
       "      <td>0</td>\n",
       "      <td>0</td>\n",
       "      <td>0</td>\n",
       "      <td>0</td>\n",
       "      <td>0</td>\n",
       "      <td>0</td>\n",
       "      <td>0</td>\n",
       "      <td>0</td>\n",
       "      <td>0</td>\n",
       "      <td>0</td>\n",
       "    </tr>\n",
       "  </tbody>\n",
       "</table>\n",
       "<p>5 rows × 35 columns</p>\n",
       "</div>"
      ],
      "text/plain": [
       "   year  price  mileage  tax   mpg  engineSize  transmission_Manual  \\\n",
       "0  2017  12500    15735  150  55.4         1.4                    1   \n",
       "1  2016  16500    36203   20  64.2         2.0                    0   \n",
       "2  2016  11000    29946   30  55.4         1.4                    1   \n",
       "3  2017  16800    25952  145  67.3         2.0                    0   \n",
       "4  2019  17300     1998  145  49.6         1.0                    1   \n",
       "\n",
       "   transmission_Semi-Auto  fuelType_Hybrid  fuelType_Petrol  ...  model_RS5  \\\n",
       "0                       0                0                1  ...          0   \n",
       "1                       0                0                0  ...          0   \n",
       "2                       0                0                1  ...          0   \n",
       "3                       0                0                0  ...          0   \n",
       "4                       0                0                1  ...          0   \n",
       "\n",
       "   model_RS6  model_RS7  model_S3  model_S4  model_S5  model_S8  model_SQ5  \\\n",
       "0          0          0         0         0         0         0          0   \n",
       "1          0          0         0         0         0         0          0   \n",
       "2          0          0         0         0         0         0          0   \n",
       "3          0          0         0         0         0         0          0   \n",
       "4          0          0         0         0         0         0          0   \n",
       "\n",
       "   model_SQ7  model_TT  \n",
       "0          0         0  \n",
       "1          0         0  \n",
       "2          0         0  \n",
       "3          0         0  \n",
       "4          0         0  \n",
       "\n",
       "[5 rows x 35 columns]"
      ]
     },
     "execution_count": 180,
     "metadata": {},
     "output_type": "execute_result"
    }
   ],
   "source": [
    "audi_ml.head()"
   ]
  },
  {
   "cell_type": "markdown",
   "metadata": {},
   "source": [
    "Is there an interaction effect with year and mileage?"
   ]
  },
  {
   "cell_type": "code",
   "execution_count": 181,
   "metadata": {},
   "outputs": [],
   "source": [
    "audi_ml['year:mileage'] = audi_ml['year'] * audi_ml['mileage']"
   ]
  },
  {
   "cell_type": "code",
   "execution_count": 183,
   "metadata": {},
   "outputs": [
    {
     "data": {
      "text/plain": [
       "year                      0.592581\n",
       "price                     1.000000\n",
       "mileage                  -0.535357\n",
       "tax                       0.356157\n",
       "mpg                      -0.600334\n",
       "engineSize                0.621358\n",
       "transmission_Manual      -0.483137\n",
       "transmission_Semi-Auto    0.259356\n",
       "fuelType_Hybrid           0.031946\n",
       "fuelType_Petrol          -0.033733\n",
       "model_A2                 -0.016867\n",
       "model_A3                 -0.220113\n",
       "model_A4                 -0.086946\n",
       "model_A5                  0.017438\n",
       "model_A6                 -0.004719\n",
       "model_A7                  0.054804\n",
       "model_A8                  0.109107\n",
       "model_Q2                 -0.009366\n",
       "model_Q3                  0.003427\n",
       "model_Q5                  0.192868\n",
       "model_Q7                  0.367410\n",
       "model_Q8                  0.256350\n",
       "model_R8                  0.327367\n",
       "model_RS3                 0.053039\n",
       "model_RS4                 0.125603\n",
       "model_RS5                 0.126436\n",
       "model_RS6                 0.170989\n",
       "model_RS7                 0.008756\n",
       "model_S3                 -0.008834\n",
       "model_S4                  0.023924\n",
       "model_S5                 -0.009903\n",
       "model_S8                  0.018039\n",
       "model_SQ5                 0.028185\n",
       "model_SQ7                 0.061673\n",
       "model_TT                 -0.017122\n",
       "year:mileage             -0.535380\n",
       "Name: price, dtype: float64"
      ]
     },
     "execution_count": 183,
     "metadata": {},
     "output_type": "execute_result"
    }
   ],
   "source": [
    "audi_ml.corr()['price']"
   ]
  },
  {
   "cell_type": "markdown",
   "metadata": {},
   "source": [
    "year:mileage has a similar negative correlation with price (-.53) as does mileage alone"
   ]
  },
  {
   "cell_type": "markdown",
   "metadata": {},
   "source": [
    "##### engine size and tax"
   ]
  },
  {
   "cell_type": "code",
   "execution_count": 184,
   "metadata": {},
   "outputs": [],
   "source": [
    "audi_ml['engineSize:tax'] = audi_ml['engineSize'] * audi_ml['tax']"
   ]
  },
  {
   "cell_type": "markdown",
   "metadata": {},
   "source": [
    "##### mpg and mileage"
   ]
  },
  {
   "cell_type": "code",
   "execution_count": 185,
   "metadata": {},
   "outputs": [],
   "source": [
    "audi_ml['mpg:mileage'] = audi_ml['mpg'] * audi_ml['mileage']"
   ]
  },
  {
   "cell_type": "code",
   "execution_count": 186,
   "metadata": {},
   "outputs": [
    {
     "data": {
      "text/plain": [
       "year                      0.592581\n",
       "price                     1.000000\n",
       "mileage                  -0.535357\n",
       "tax                       0.356157\n",
       "mpg                      -0.600334\n",
       "engineSize                0.621358\n",
       "transmission_Manual      -0.483137\n",
       "transmission_Semi-Auto    0.259356\n",
       "fuelType_Hybrid           0.031946\n",
       "fuelType_Petrol          -0.033733\n",
       "model_A2                 -0.016867\n",
       "model_A3                 -0.220113\n",
       "model_A4                 -0.086946\n",
       "model_A5                  0.017438\n",
       "model_A6                 -0.004719\n",
       "model_A7                  0.054804\n",
       "model_A8                  0.109107\n",
       "model_Q2                 -0.009366\n",
       "model_Q3                  0.003427\n",
       "model_Q5                  0.192868\n",
       "model_Q7                  0.367410\n",
       "model_Q8                  0.256350\n",
       "model_R8                  0.327367\n",
       "model_RS3                 0.053039\n",
       "model_RS4                 0.125603\n",
       "model_RS5                 0.126436\n",
       "model_RS6                 0.170989\n",
       "model_RS7                 0.008756\n",
       "model_S3                 -0.008834\n",
       "model_S4                  0.023924\n",
       "model_S5                 -0.009903\n",
       "model_S8                  0.018039\n",
       "model_SQ5                 0.028185\n",
       "model_SQ7                 0.061673\n",
       "model_TT                 -0.017122\n",
       "year:mileage             -0.535380\n",
       "engineSize:tax            0.454938\n",
       "mpg:mileage              -0.558129\n",
       "Name: price, dtype: float64"
      ]
     },
     "execution_count": 186,
     "metadata": {},
     "output_type": "execute_result"
    }
   ],
   "source": [
    "audi_ml.corr()['price']"
   ]
  },
  {
   "cell_type": "code",
   "execution_count": 187,
   "metadata": {},
   "outputs": [],
   "source": [
    "lm = LinearRegression()"
   ]
  },
  {
   "cell_type": "code",
   "execution_count": 188,
   "metadata": {},
   "outputs": [
    {
     "data": {
      "text/plain": [
       "LinearRegression(copy_X=True, fit_intercept=True, n_jobs=None, normalize=False)"
      ]
     },
     "execution_count": 188,
     "metadata": {},
     "output_type": "execute_result"
    }
   ],
   "source": [
    "lm.fit(audi_ml[['year:mileage', 'engineSize:tax', 'mpg:mileage']], audi_ml['price'])"
   ]
  },
  {
   "cell_type": "markdown",
   "metadata": {},
   "source": [
    "A quick regression to see the coefficient values for our interactions"
   ]
  },
  {
   "cell_type": "code",
   "execution_count": 189,
   "metadata": {},
   "outputs": [
    {
     "data": {
      "text/html": [
       "<div>\n",
       "<style scoped>\n",
       "    .dataframe tbody tr th:only-of-type {\n",
       "        vertical-align: middle;\n",
       "    }\n",
       "\n",
       "    .dataframe tbody tr th {\n",
       "        vertical-align: top;\n",
       "    }\n",
       "\n",
       "    .dataframe thead th {\n",
       "        text-align: right;\n",
       "    }\n",
       "</style>\n",
       "<table border=\"1\" class=\"dataframe\">\n",
       "  <thead>\n",
       "    <tr style=\"text-align: right;\">\n",
       "      <th></th>\n",
       "      <th>Coefficients</th>\n",
       "    </tr>\n",
       "  </thead>\n",
       "  <tbody>\n",
       "    <tr>\n",
       "      <td>year:mileage</td>\n",
       "      <td>-0.000218</td>\n",
       "    </tr>\n",
       "    <tr>\n",
       "      <td>engineSize:tax</td>\n",
       "      <td>27.769315</td>\n",
       "    </tr>\n",
       "    <tr>\n",
       "      <td>mpg:mileage</td>\n",
       "      <td>0.003093</td>\n",
       "    </tr>\n",
       "  </tbody>\n",
       "</table>\n",
       "</div>"
      ],
      "text/plain": [
       "                Coefficients\n",
       "year:mileage       -0.000218\n",
       "engineSize:tax     27.769315\n",
       "mpg:mileage         0.003093"
      ]
     },
     "execution_count": 189,
     "metadata": {},
     "output_type": "execute_result"
    }
   ],
   "source": [
    "pd.DataFrame(lm.coef_,['year:mileage', 'engineSize:tax', 'mpg:mileage'], columns = ['Coefficients'] )"
   ]
  },
  {
   "cell_type": "markdown",
   "metadata": {},
   "source": [
    "##### p-values of interaction terms"
   ]
  },
  {
   "cell_type": "code",
   "execution_count": 190,
   "metadata": {},
   "outputs": [],
   "source": [
    "from scipy.stats import pearsonr"
   ]
  },
  {
   "cell_type": "code",
   "execution_count": 191,
   "metadata": {},
   "outputs": [],
   "source": [
    "inter_df = audi_ml[['year:mileage', 'engineSize:tax', 'mpg:mileage', 'price']]"
   ]
  },
  {
   "cell_type": "code",
   "execution_count": 192,
   "metadata": {},
   "outputs": [
    {
     "data": {
      "text/html": [
       "<div>\n",
       "<style scoped>\n",
       "    .dataframe tbody tr th:only-of-type {\n",
       "        vertical-align: middle;\n",
       "    }\n",
       "\n",
       "    .dataframe tbody tr th {\n",
       "        vertical-align: top;\n",
       "    }\n",
       "\n",
       "    .dataframe thead th {\n",
       "        text-align: right;\n",
       "    }\n",
       "</style>\n",
       "<table border=\"1\" class=\"dataframe\">\n",
       "  <thead>\n",
       "    <tr style=\"text-align: right;\">\n",
       "      <th></th>\n",
       "      <th>year:mileage</th>\n",
       "      <th>engineSize:tax</th>\n",
       "      <th>mpg:mileage</th>\n",
       "      <th>price</th>\n",
       "    </tr>\n",
       "  </thead>\n",
       "  <tbody>\n",
       "    <tr>\n",
       "      <td>0</td>\n",
       "      <td>31737495</td>\n",
       "      <td>210.0</td>\n",
       "      <td>871719.0</td>\n",
       "      <td>12500</td>\n",
       "    </tr>\n",
       "    <tr>\n",
       "      <td>1</td>\n",
       "      <td>72985248</td>\n",
       "      <td>40.0</td>\n",
       "      <td>2324232.6</td>\n",
       "      <td>16500</td>\n",
       "    </tr>\n",
       "    <tr>\n",
       "      <td>2</td>\n",
       "      <td>60371136</td>\n",
       "      <td>42.0</td>\n",
       "      <td>1659008.4</td>\n",
       "      <td>11000</td>\n",
       "    </tr>\n",
       "    <tr>\n",
       "      <td>3</td>\n",
       "      <td>52345184</td>\n",
       "      <td>290.0</td>\n",
       "      <td>1746569.6</td>\n",
       "      <td>16800</td>\n",
       "    </tr>\n",
       "    <tr>\n",
       "      <td>4</td>\n",
       "      <td>4033962</td>\n",
       "      <td>145.0</td>\n",
       "      <td>99100.8</td>\n",
       "      <td>17300</td>\n",
       "    </tr>\n",
       "  </tbody>\n",
       "</table>\n",
       "</div>"
      ],
      "text/plain": [
       "   year:mileage  engineSize:tax  mpg:mileage  price\n",
       "0      31737495           210.0     871719.0  12500\n",
       "1      72985248            40.0    2324232.6  16500\n",
       "2      60371136            42.0    1659008.4  11000\n",
       "3      52345184           290.0    1746569.6  16800\n",
       "4       4033962           145.0      99100.8  17300"
      ]
     },
     "execution_count": 192,
     "metadata": {},
     "output_type": "execute_result"
    }
   ],
   "source": [
    "inter_df.head()"
   ]
  },
  {
   "cell_type": "code",
   "execution_count": 193,
   "metadata": {},
   "outputs": [
    {
     "data": {
      "text/plain": [
       "(-0.5581292896477652, 0.0)"
      ]
     },
     "execution_count": 193,
     "metadata": {},
     "output_type": "execute_result"
    }
   ],
   "source": [
    "pearsonr(audi_ml['mpg:mileage'], audi_ml['price'])"
   ]
  },
  {
   "cell_type": "code",
   "execution_count": 194,
   "metadata": {},
   "outputs": [],
   "source": [
    "def calculate_pvalues(df):\n",
    "    df = df.dropna()._get_numeric_data()\n",
    "    dfcols = pd.DataFrame(columns=df.columns)\n",
    "    pvalues = dfcols.transpose().join(dfcols, how='outer')\n",
    "    for r in df.columns:\n",
    "        for c in df.columns:\n",
    "            pvalues[r][c] = round(pearsonr(df[r], df[c])[1], 4)\n",
    "    return pvalues"
   ]
  },
  {
   "cell_type": "code",
   "execution_count": 195,
   "metadata": {},
   "outputs": [
    {
     "data": {
      "text/html": [
       "<div>\n",
       "<style scoped>\n",
       "    .dataframe tbody tr th:only-of-type {\n",
       "        vertical-align: middle;\n",
       "    }\n",
       "\n",
       "    .dataframe tbody tr th {\n",
       "        vertical-align: top;\n",
       "    }\n",
       "\n",
       "    .dataframe thead th {\n",
       "        text-align: right;\n",
       "    }\n",
       "</style>\n",
       "<table border=\"1\" class=\"dataframe\">\n",
       "  <thead>\n",
       "    <tr style=\"text-align: right;\">\n",
       "      <th></th>\n",
       "      <th>year:mileage</th>\n",
       "      <th>engineSize:tax</th>\n",
       "      <th>mpg:mileage</th>\n",
       "      <th>price</th>\n",
       "    </tr>\n",
       "  </thead>\n",
       "  <tbody>\n",
       "    <tr>\n",
       "      <td>year:mileage</td>\n",
       "      <td>0</td>\n",
       "      <td>0.003</td>\n",
       "      <td>0</td>\n",
       "      <td>0</td>\n",
       "    </tr>\n",
       "    <tr>\n",
       "      <td>engineSize:tax</td>\n",
       "      <td>0.003</td>\n",
       "      <td>0</td>\n",
       "      <td>0</td>\n",
       "      <td>0</td>\n",
       "    </tr>\n",
       "    <tr>\n",
       "      <td>mpg:mileage</td>\n",
       "      <td>0</td>\n",
       "      <td>0</td>\n",
       "      <td>0</td>\n",
       "      <td>0</td>\n",
       "    </tr>\n",
       "    <tr>\n",
       "      <td>price</td>\n",
       "      <td>0</td>\n",
       "      <td>0</td>\n",
       "      <td>0</td>\n",
       "      <td>0</td>\n",
       "    </tr>\n",
       "  </tbody>\n",
       "</table>\n",
       "</div>"
      ],
      "text/plain": [
       "               year:mileage engineSize:tax mpg:mileage price\n",
       "year:mileage              0          0.003           0     0\n",
       "engineSize:tax        0.003              0           0     0\n",
       "mpg:mileage               0              0           0     0\n",
       "price                     0              0           0     0"
      ]
     },
     "execution_count": 195,
     "metadata": {},
     "output_type": "execute_result"
    }
   ],
   "source": [
    "calculate_pvalues(audi_ml[['year:mileage', 'engineSize:tax', 'mpg:mileage', 'price']])"
   ]
  },
  {
   "cell_type": "markdown",
   "metadata": {},
   "source": [
    "The p-values of our interaction terms are statistically significant in their correlation to price"
   ]
  },
  {
   "cell_type": "markdown",
   "metadata": {},
   "source": [
    "##### linear regression with interaction terms included"
   ]
  },
  {
   "cell_type": "code",
   "execution_count": 196,
   "metadata": {},
   "outputs": [],
   "source": [
    "lm = LinearRegression()"
   ]
  },
  {
   "cell_type": "code",
   "execution_count": 197,
   "metadata": {},
   "outputs": [],
   "source": [
    "X = audi_ml.drop(['price'], axis = 1)\n",
    "y = audi_ml['price']"
   ]
  },
  {
   "cell_type": "code",
   "execution_count": 198,
   "metadata": {},
   "outputs": [],
   "source": [
    "X_train, X_test, y_train, y_test = train_test_split(X, y, test_size=0.3, random_state=101)"
   ]
  },
  {
   "cell_type": "code",
   "execution_count": 199,
   "metadata": {},
   "outputs": [
    {
     "data": {
      "text/plain": [
       "LinearRegression(copy_X=True, fit_intercept=True, n_jobs=None, normalize=False)"
      ]
     },
     "execution_count": 199,
     "metadata": {},
     "output_type": "execute_result"
    }
   ],
   "source": [
    "lm.fit(X_train, y_train)"
   ]
  },
  {
   "cell_type": "code",
   "execution_count": 200,
   "metadata": {},
   "outputs": [
    {
     "data": {
      "text/plain": [
       "0.9126574181553936"
      ]
     },
     "execution_count": 200,
     "metadata": {},
     "output_type": "execute_result"
    }
   ],
   "source": [
    "lm.score(X_test, y_test)"
   ]
  },
  {
   "cell_type": "markdown",
   "metadata": {},
   "source": [
    "A slight improvement to the linear regression when interaction terms included"
   ]
  },
  {
   "cell_type": "code",
   "execution_count": 201,
   "metadata": {},
   "outputs": [
    {
     "data": {
      "text/plain": [
       "-4503646.847967589"
      ]
     },
     "execution_count": 201,
     "metadata": {},
     "output_type": "execute_result"
    }
   ],
   "source": [
    "lm.intercept_"
   ]
  },
  {
   "cell_type": "code",
   "execution_count": 202,
   "metadata": {},
   "outputs": [],
   "source": [
    "preds = lm.predict(X_test)"
   ]
  },
  {
   "cell_type": "code",
   "execution_count": 203,
   "metadata": {},
   "outputs": [
    {
     "data": {
      "text/plain": [
       "<matplotlib.collections.PathCollection at 0x9c68ed20c8>"
      ]
     },
     "execution_count": 203,
     "metadata": {},
     "output_type": "execute_result"
    },
    {
     "data": {
      "image/png": "[encoded data removed]",
      "text/plain": [
       "<Figure size 432x288 with 1 Axes>"
      ]
     },
     "metadata": {
      "needs_background": "light"
     },
     "output_type": "display_data"
    }
   ],
   "source": [
    "plt.scatter(y_test, preds)"
   ]
  },
  {
   "cell_type": "code",
   "execution_count": 204,
   "metadata": {},
   "outputs": [
    {
     "data": {
      "text/plain": [
       "12161917.74464662"
      ]
     },
     "execution_count": 204,
     "metadata": {},
     "output_type": "execute_result"
    }
   ],
   "source": [
    "mean_squared_error(y_test, preds)"
   ]
  },
  {
   "cell_type": "code",
   "execution_count": 205,
   "metadata": {
    "scrolled": true
   },
   "outputs": [
    {
     "data": {
      "text/plain": [
       "3487.394119489023"
      ]
     },
     "execution_count": 205,
     "metadata": {},
     "output_type": "execute_result"
    }
   ],
   "source": [
    "np.sqrt(mean_squared_error(y_test, preds))"
   ]
  },
  {
   "cell_type": "markdown",
   "metadata": {},
   "source": [
    "##### distributions of certain predictors and transformation to normal distribution"
   ]
  },
  {
   "cell_type": "code",
   "execution_count": 206,
   "metadata": {},
   "outputs": [
    {
     "data": {
      "text/plain": [
       "Text(0.5, 1.0, 'tax')"
      ]
     },
     "execution_count": 206,
     "metadata": {},
     "output_type": "execute_result"
    },
    {
     "data": {
      "image/png": "[encoded data removed]",
      "text/plain": [
       "<Figure size 720x720 with 4 Axes>"
      ]
     },
     "metadata": {
      "needs_background": "light"
     },
     "output_type": "display_data"
    }
   ],
   "source": [
    "\n",
    "fig,axes = plt.subplots(2,2, figsize = (10,10))\n",
    "\n",
    "axes[0,0].hist(audi_ml['engineSize:tax'])\n",
    "axes[0,0].set_title('engineSize:tax')\n",
    "\n",
    "axes[0,1].hist(audi_ml['mpg'])\n",
    "axes[0,1].set_title('mpg')\n",
    "\n",
    "axes[1,0].hist(audi_ml['mileage'])\n",
    "axes[1,0].set_title('mileage')\n",
    "\n",
    "axes[1,1].hist(audi_ml['tax'])\n",
    "axes[1,1].set_title('tax')\n"
   ]
  },
  {
   "cell_type": "code",
   "execution_count": 207,
   "metadata": {},
   "outputs": [],
   "source": [
    "audi_ml_norm = audi_ml"
   ]
  },
  {
   "cell_type": "code",
   "execution_count": 208,
   "metadata": {},
   "outputs": [],
   "source": [
    "audi_ml_norm[['mileage','tax','mpg','engineSize','engineSize:tax','year:mileage','mpg:mileage']] = audi_ml_norm[['mileage','tax','mpg','engineSize',\n",
    "              'engineSize:tax','year:mileage','mpg:mileage']].apply(lambda x: (x-x.min()) / (x.max() - x.min()))\n",
    "                                                                                                    "
   ]
  },
  {
   "cell_type": "code",
   "execution_count": 209,
   "metadata": {},
   "outputs": [
    {
     "data": {
      "text/html": [
       "<div>\n",
       "<style scoped>\n",
       "    .dataframe tbody tr th:only-of-type {\n",
       "        vertical-align: middle;\n",
       "    }\n",
       "\n",
       "    .dataframe tbody tr th {\n",
       "        vertical-align: top;\n",
       "    }\n",
       "\n",
       "    .dataframe thead th {\n",
       "        text-align: right;\n",
       "    }\n",
       "</style>\n",
       "<table border=\"1\" class=\"dataframe\">\n",
       "  <thead>\n",
       "    <tr style=\"text-align: right;\">\n",
       "      <th></th>\n",
       "      <th>year</th>\n",
       "      <th>price</th>\n",
       "      <th>mileage</th>\n",
       "      <th>tax</th>\n",
       "      <th>mpg</th>\n",
       "      <th>engineSize</th>\n",
       "      <th>transmission_Manual</th>\n",
       "      <th>transmission_Semi-Auto</th>\n",
       "      <th>fuelType_Hybrid</th>\n",
       "      <th>fuelType_Petrol</th>\n",
       "      <th>...</th>\n",
       "      <th>model_S3</th>\n",
       "      <th>model_S4</th>\n",
       "      <th>model_S5</th>\n",
       "      <th>model_S8</th>\n",
       "      <th>model_SQ5</th>\n",
       "      <th>model_SQ7</th>\n",
       "      <th>model_TT</th>\n",
       "      <th>year:mileage</th>\n",
       "      <th>engineSize:tax</th>\n",
       "      <th>mpg:mileage</th>\n",
       "    </tr>\n",
       "  </thead>\n",
       "  <tbody>\n",
       "    <tr>\n",
       "      <td>0</td>\n",
       "      <td>2017</td>\n",
       "      <td>12500</td>\n",
       "      <td>0.048712</td>\n",
       "      <td>0.258621</td>\n",
       "      <td>0.215466</td>\n",
       "      <td>0.075472</td>\n",
       "      <td>1</td>\n",
       "      <td>0</td>\n",
       "      <td>0</td>\n",
       "      <td>1</td>\n",
       "      <td>...</td>\n",
       "      <td>0</td>\n",
       "      <td>0</td>\n",
       "      <td>0</td>\n",
       "      <td>0</td>\n",
       "      <td>0</td>\n",
       "      <td>0</td>\n",
       "      <td>0</td>\n",
       "      <td>0.048931</td>\n",
       "      <td>0.058480</td>\n",
       "      <td>0.040652</td>\n",
       "    </tr>\n",
       "    <tr>\n",
       "      <td>1</td>\n",
       "      <td>2016</td>\n",
       "      <td>16500</td>\n",
       "      <td>0.112081</td>\n",
       "      <td>0.034483</td>\n",
       "      <td>0.267414</td>\n",
       "      <td>0.188679</td>\n",
       "      <td>0</td>\n",
       "      <td>0</td>\n",
       "      <td>0</td>\n",
       "      <td>0</td>\n",
       "      <td>...</td>\n",
       "      <td>0</td>\n",
       "      <td>0</td>\n",
       "      <td>0</td>\n",
       "      <td>0</td>\n",
       "      <td>0</td>\n",
       "      <td>0</td>\n",
       "      <td>0</td>\n",
       "      <td>0.112527</td>\n",
       "      <td>0.011139</td>\n",
       "      <td>0.108391</td>\n",
       "    </tr>\n",
       "    <tr>\n",
       "      <td>2</td>\n",
       "      <td>2016</td>\n",
       "      <td>11000</td>\n",
       "      <td>0.092709</td>\n",
       "      <td>0.051724</td>\n",
       "      <td>0.215466</td>\n",
       "      <td>0.075472</td>\n",
       "      <td>1</td>\n",
       "      <td>0</td>\n",
       "      <td>0</td>\n",
       "      <td>1</td>\n",
       "      <td>...</td>\n",
       "      <td>0</td>\n",
       "      <td>0</td>\n",
       "      <td>0</td>\n",
       "      <td>0</td>\n",
       "      <td>0</td>\n",
       "      <td>0</td>\n",
       "      <td>0</td>\n",
       "      <td>0.093079</td>\n",
       "      <td>0.011696</td>\n",
       "      <td>0.077368</td>\n",
       "    </tr>\n",
       "    <tr>\n",
       "      <td>3</td>\n",
       "      <td>2017</td>\n",
       "      <td>16800</td>\n",
       "      <td>0.080344</td>\n",
       "      <td>0.250000</td>\n",
       "      <td>0.285714</td>\n",
       "      <td>0.188679</td>\n",
       "      <td>0</td>\n",
       "      <td>0</td>\n",
       "      <td>0</td>\n",
       "      <td>0</td>\n",
       "      <td>...</td>\n",
       "      <td>0</td>\n",
       "      <td>0</td>\n",
       "      <td>0</td>\n",
       "      <td>0</td>\n",
       "      <td>0</td>\n",
       "      <td>0</td>\n",
       "      <td>0</td>\n",
       "      <td>0.080704</td>\n",
       "      <td>0.080757</td>\n",
       "      <td>0.081451</td>\n",
       "    </tr>\n",
       "    <tr>\n",
       "      <td>4</td>\n",
       "      <td>2019</td>\n",
       "      <td>17300</td>\n",
       "      <td>0.006183</td>\n",
       "      <td>0.250000</td>\n",
       "      <td>0.181228</td>\n",
       "      <td>0.000000</td>\n",
       "      <td>1</td>\n",
       "      <td>0</td>\n",
       "      <td>0</td>\n",
       "      <td>1</td>\n",
       "      <td>...</td>\n",
       "      <td>0</td>\n",
       "      <td>0</td>\n",
       "      <td>0</td>\n",
       "      <td>0</td>\n",
       "      <td>0</td>\n",
       "      <td>0</td>\n",
       "      <td>0</td>\n",
       "      <td>0.006217</td>\n",
       "      <td>0.040379</td>\n",
       "      <td>0.004620</td>\n",
       "    </tr>\n",
       "    <tr>\n",
       "      <td>...</td>\n",
       "      <td>...</td>\n",
       "      <td>...</td>\n",
       "      <td>...</td>\n",
       "      <td>...</td>\n",
       "      <td>...</td>\n",
       "      <td>...</td>\n",
       "      <td>...</td>\n",
       "      <td>...</td>\n",
       "      <td>...</td>\n",
       "      <td>...</td>\n",
       "      <td>...</td>\n",
       "      <td>...</td>\n",
       "      <td>...</td>\n",
       "      <td>...</td>\n",
       "      <td>...</td>\n",
       "      <td>...</td>\n",
       "      <td>...</td>\n",
       "      <td>...</td>\n",
       "      <td>...</td>\n",
       "      <td>...</td>\n",
       "      <td>...</td>\n",
       "    </tr>\n",
       "    <tr>\n",
       "      <td>10663</td>\n",
       "      <td>2020</td>\n",
       "      <td>16999</td>\n",
       "      <td>0.012437</td>\n",
       "      <td>0.250000</td>\n",
       "      <td>0.181228</td>\n",
       "      <td>0.000000</td>\n",
       "      <td>1</td>\n",
       "      <td>0</td>\n",
       "      <td>0</td>\n",
       "      <td>1</td>\n",
       "      <td>...</td>\n",
       "      <td>0</td>\n",
       "      <td>0</td>\n",
       "      <td>0</td>\n",
       "      <td>0</td>\n",
       "      <td>0</td>\n",
       "      <td>0</td>\n",
       "      <td>0</td>\n",
       "      <td>0.012511</td>\n",
       "      <td>0.040379</td>\n",
       "      <td>0.009293</td>\n",
       "    </tr>\n",
       "    <tr>\n",
       "      <td>10664</td>\n",
       "      <td>2020</td>\n",
       "      <td>16999</td>\n",
       "      <td>0.006121</td>\n",
       "      <td>0.258621</td>\n",
       "      <td>0.181228</td>\n",
       "      <td>0.000000</td>\n",
       "      <td>1</td>\n",
       "      <td>0</td>\n",
       "      <td>0</td>\n",
       "      <td>1</td>\n",
       "      <td>...</td>\n",
       "      <td>0</td>\n",
       "      <td>0</td>\n",
       "      <td>0</td>\n",
       "      <td>0</td>\n",
       "      <td>0</td>\n",
       "      <td>0</td>\n",
       "      <td>0</td>\n",
       "      <td>0.006157</td>\n",
       "      <td>0.041771</td>\n",
       "      <td>0.004574</td>\n",
       "    </tr>\n",
       "    <tr>\n",
       "      <td>10665</td>\n",
       "      <td>2020</td>\n",
       "      <td>17199</td>\n",
       "      <td>0.001882</td>\n",
       "      <td>0.258621</td>\n",
       "      <td>0.181228</td>\n",
       "      <td>0.000000</td>\n",
       "      <td>1</td>\n",
       "      <td>0</td>\n",
       "      <td>0</td>\n",
       "      <td>1</td>\n",
       "      <td>...</td>\n",
       "      <td>0</td>\n",
       "      <td>0</td>\n",
       "      <td>0</td>\n",
       "      <td>0</td>\n",
       "      <td>0</td>\n",
       "      <td>0</td>\n",
       "      <td>0</td>\n",
       "      <td>0.001894</td>\n",
       "      <td>0.041771</td>\n",
       "      <td>0.001407</td>\n",
       "    </tr>\n",
       "    <tr>\n",
       "      <td>10666</td>\n",
       "      <td>2017</td>\n",
       "      <td>19499</td>\n",
       "      <td>0.026765</td>\n",
       "      <td>0.258621</td>\n",
       "      <td>0.171192</td>\n",
       "      <td>0.075472</td>\n",
       "      <td>0</td>\n",
       "      <td>0</td>\n",
       "      <td>0</td>\n",
       "      <td>1</td>\n",
       "      <td>...</td>\n",
       "      <td>0</td>\n",
       "      <td>0</td>\n",
       "      <td>0</td>\n",
       "      <td>0</td>\n",
       "      <td>0</td>\n",
       "      <td>0</td>\n",
       "      <td>0</td>\n",
       "      <td>0.026885</td>\n",
       "      <td>0.058480</td>\n",
       "      <td>0.019313</td>\n",
       "    </tr>\n",
       "    <tr>\n",
       "      <td>10667</td>\n",
       "      <td>2016</td>\n",
       "      <td>15999</td>\n",
       "      <td>0.036700</td>\n",
       "      <td>0.258621</td>\n",
       "      <td>0.171192</td>\n",
       "      <td>0.075472</td>\n",
       "      <td>1</td>\n",
       "      <td>0</td>\n",
       "      <td>0</td>\n",
       "      <td>1</td>\n",
       "      <td>...</td>\n",
       "      <td>0</td>\n",
       "      <td>0</td>\n",
       "      <td>0</td>\n",
       "      <td>0</td>\n",
       "      <td>0</td>\n",
       "      <td>0</td>\n",
       "      <td>0</td>\n",
       "      <td>0.036846</td>\n",
       "      <td>0.058480</td>\n",
       "      <td>0.026481</td>\n",
       "    </tr>\n",
       "  </tbody>\n",
       "</table>\n",
       "<p>10668 rows × 38 columns</p>\n",
       "</div>"
      ],
      "text/plain": [
       "       year  price   mileage       tax       mpg  engineSize  \\\n",
       "0      2017  12500  0.048712  0.258621  0.215466    0.075472   \n",
       "1      2016  16500  0.112081  0.034483  0.267414    0.188679   \n",
       "2      2016  11000  0.092709  0.051724  0.215466    0.075472   \n",
       "3      2017  16800  0.080344  0.250000  0.285714    0.188679   \n",
       "4      2019  17300  0.006183  0.250000  0.181228    0.000000   \n",
       "...     ...    ...       ...       ...       ...         ...   \n",
       "10663  2020  16999  0.012437  0.250000  0.181228    0.000000   \n",
       "10664  2020  16999  0.006121  0.258621  0.181228    0.000000   \n",
       "10665  2020  17199  0.001882  0.258621  0.181228    0.000000   \n",
       "10666  2017  19499  0.026765  0.258621  0.171192    0.075472   \n",
       "10667  2016  15999  0.036700  0.258621  0.171192    0.075472   \n",
       "\n",
       "       transmission_Manual  transmission_Semi-Auto  fuelType_Hybrid  \\\n",
       "0                        1                       0                0   \n",
       "1                        0                       0                0   \n",
       "2                        1                       0                0   \n",
       "3                        0                       0                0   \n",
       "4                        1                       0                0   \n",
       "...                    ...                     ...              ...   \n",
       "10663                    1                       0                0   \n",
       "10664                    1                       0                0   \n",
       "10665                    1                       0                0   \n",
       "10666                    0                       0                0   \n",
       "10667                    1                       0                0   \n",
       "\n",
       "       fuelType_Petrol  ...  model_S3  model_S4  model_S5  model_S8  \\\n",
       "0                    1  ...         0         0         0         0   \n",
       "1                    0  ...         0         0         0         0   \n",
       "2                    1  ...         0         0         0         0   \n",
       "3                    0  ...         0         0         0         0   \n",
       "4                    1  ...         0         0         0         0   \n",
       "...                ...  ...       ...       ...       ...       ...   \n",
       "10663                1  ...         0         0         0         0   \n",
       "10664                1  ...         0         0         0         0   \n",
       "10665                1  ...         0         0         0         0   \n",
       "10666                1  ...         0         0         0         0   \n",
       "10667                1  ...         0         0         0         0   \n",
       "\n",
       "       model_SQ5  model_SQ7  model_TT  year:mileage  engineSize:tax  \\\n",
       "0              0          0         0      0.048931        0.058480   \n",
       "1              0          0         0      0.112527        0.011139   \n",
       "2              0          0         0      0.093079        0.011696   \n",
       "3              0          0         0      0.080704        0.080757   \n",
       "4              0          0         0      0.006217        0.040379   \n",
       "...          ...        ...       ...           ...             ...   \n",
       "10663          0          0         0      0.012511        0.040379   \n",
       "10664          0          0         0      0.006157        0.041771   \n",
       "10665          0          0         0      0.001894        0.041771   \n",
       "10666          0          0         0      0.026885        0.058480   \n",
       "10667          0          0         0      0.036846        0.058480   \n",
       "\n",
       "       mpg:mileage  \n",
       "0         0.040652  \n",
       "1         0.108391  \n",
       "2         0.077368  \n",
       "3         0.081451  \n",
       "4         0.004620  \n",
       "...            ...  \n",
       "10663     0.009293  \n",
       "10664     0.004574  \n",
       "10665     0.001407  \n",
       "10666     0.019313  \n",
       "10667     0.026481  \n",
       "\n",
       "[10668 rows x 38 columns]"
      ]
     },
     "execution_count": 209,
     "metadata": {},
     "output_type": "execute_result"
    }
   ],
   "source": [
    "audi_ml_norm"
   ]
  },
  {
   "cell_type": "code",
   "execution_count": 210,
   "metadata": {},
   "outputs": [],
   "source": [
    "X = audi_ml_norm.drop(['price'], axis = 1)\n",
    "y = audi_ml_norm['price']\n",
    "\n",
    "X_train, X_test, y_train, y_test = train_test_split(X, y, test_size=0.3, random_state=101)"
   ]
  },
  {
   "cell_type": "code",
   "execution_count": 211,
   "metadata": {},
   "outputs": [
    {
     "data": {
      "text/plain": [
       "LinearRegression(copy_X=True, fit_intercept=True, n_jobs=None, normalize=False)"
      ]
     },
     "execution_count": 211,
     "metadata": {},
     "output_type": "execute_result"
    }
   ],
   "source": [
    "\n",
    "lm = LinearRegression()\n",
    "lm.fit(X_train, y_train)\n"
   ]
  },
  {
   "cell_type": "code",
   "execution_count": 212,
   "metadata": {},
   "outputs": [
    {
     "data": {
      "text/plain": [
       "0.9126574182416385"
      ]
     },
     "execution_count": 212,
     "metadata": {},
     "output_type": "execute_result"
    }
   ],
   "source": [
    "lm.score(X_test, y_test)"
   ]
  },
  {
   "cell_type": "markdown",
   "metadata": {},
   "source": [
    "Normalized data has not offered any improvements to the linear regression"
   ]
  },
  {
   "cell_type": "markdown",
   "metadata": {},
   "source": [
    "#### Random Forest"
   ]
  },
  {
   "cell_type": "code",
   "execution_count": 213,
   "metadata": {},
   "outputs": [],
   "source": [
    "from sklearn.model_selection import cross_val_score"
   ]
  },
  {
   "cell_type": "code",
   "execution_count": 214,
   "metadata": {},
   "outputs": [],
   "source": [
    "updated_rfr = RandomForestRegressor(bootstrap = True,\n",
    " max_depth = 20,\n",
    " max_features = 'log2',\n",
    " n_estimators = 200)"
   ]
  },
  {
   "cell_type": "code",
   "execution_count": 215,
   "metadata": {},
   "outputs": [
    {
     "data": {
      "text/plain": [
       "RandomForestRegressor(bootstrap=True, ccp_alpha=0.0, criterion='mse',\n",
       "                      max_depth=20, max_features='log2', max_leaf_nodes=None,\n",
       "                      max_samples=None, min_impurity_decrease=0.0,\n",
       "                      min_impurity_split=None, min_samples_leaf=1,\n",
       "                      min_samples_split=2, min_weight_fraction_leaf=0.0,\n",
       "                      n_estimators=200, n_jobs=None, oob_score=False,\n",
       "                      random_state=None, verbose=0, warm_start=False)"
      ]
     },
     "execution_count": 215,
     "metadata": {},
     "output_type": "execute_result"
    }
   ],
   "source": [
    "updated_rfr.fit(X_train, y_train)"
   ]
  },
  {
   "cell_type": "code",
   "execution_count": 216,
   "metadata": {},
   "outputs": [],
   "source": [
    "preds = updated_rfr.predict(X_test)"
   ]
  },
  {
   "cell_type": "code",
   "execution_count": 217,
   "metadata": {},
   "outputs": [
    {
     "data": {
      "text/plain": [
       "0.9613286824924482"
      ]
     },
     "execution_count": 217,
     "metadata": {},
     "output_type": "execute_result"
    }
   ],
   "source": [
    "updated_rfr.score(X_test, y_test)"
   ]
  },
  {
   "cell_type": "markdown",
   "metadata": {},
   "source": [
    "##### see important features"
   ]
  },
  {
   "cell_type": "code",
   "execution_count": 218,
   "metadata": {},
   "outputs": [
    {
     "data": {
      "text/plain": [
       "<matplotlib.axes._subplots.AxesSubplot at 0x9c5d08bf48>"
      ]
     },
     "execution_count": 218,
     "metadata": {},
     "output_type": "execute_result"
    },
    {
     "data": {
      "image/png": "[encoded data removed]",
      "text/plain": [
       "<Figure size 720x504 with 1 Axes>"
      ]
     },
     "metadata": {
      "needs_background": "light"
     },
     "output_type": "display_data"
    }
   ],
   "source": [
    "plt.figure(figsize=(10,7))\n",
    "feat_importances = pd.Series(updated_rfr.feature_importances_, index = X_train.columns)\n",
    "feat_importances.nlargest(10).plot(kind='barh')"
   ]
  },
  {
   "cell_type": "markdown",
   "metadata": {},
   "source": [
    "It seems that mpg is the most important feature to the random forest, followed by engineSize. Notice the interaction term engineSize:tax (computed simply by multiplying the two values) is the third most important. Actually, all three of the interaction terms are in the top 10 features!"
   ]
  },
  {
   "cell_type": "markdown",
   "metadata": {},
   "source": [
    "##### cross validation score"
   ]
  },
  {
   "cell_type": "code",
   "execution_count": 219,
   "metadata": {},
   "outputs": [],
   "source": [
    "cv_results = cross_val_score(updated_rfr, X_train, y_train, cv = 5)"
   ]
  },
  {
   "cell_type": "code",
   "execution_count": 220,
   "metadata": {
    "scrolled": true
   },
   "outputs": [
    {
     "data": {
      "text/plain": [
       "0.950985063520102"
      ]
     },
     "execution_count": 220,
     "metadata": {},
     "output_type": "execute_result"
    }
   ],
   "source": [
    "cv_results.mean()"
   ]
  },
  {
   "cell_type": "markdown",
   "metadata": {},
   "source": [
    "The cross val score gives us a score we are more likely to expect. This score is the average of 5 trials of the model"
   ]
  },
  {
   "cell_type": "markdown",
   "metadata": {},
   "source": [
    "Lets redesign the random forest to only use the important features, and see if performance is similar."
   ]
  },
  {
   "cell_type": "markdown",
   "metadata": {},
   "source": [
    "##### train with only 10 important features"
   ]
  },
  {
   "cell_type": "code",
   "execution_count": 221,
   "metadata": {},
   "outputs": [],
   "source": [
    "X = audi_ml_norm[['mpg','engineSize','mpg:mileage','engineSize:tax','year','mileage','year:mileage','tax','transmission_Manual','model_R8']]\n",
    "y = audi_ml_norm['price']\n",
    "\n",
    "X_train, X_test, y_train, y_test = train_test_split(X, y, test_size=0.3, random_state=101)\n"
   ]
  },
  {
   "cell_type": "code",
   "execution_count": 222,
   "metadata": {},
   "outputs": [
    {
     "data": {
      "text/html": [
       "<div>\n",
       "<style scoped>\n",
       "    .dataframe tbody tr th:only-of-type {\n",
       "        vertical-align: middle;\n",
       "    }\n",
       "\n",
       "    .dataframe tbody tr th {\n",
       "        vertical-align: top;\n",
       "    }\n",
       "\n",
       "    .dataframe thead th {\n",
       "        text-align: right;\n",
       "    }\n",
       "</style>\n",
       "<table border=\"1\" class=\"dataframe\">\n",
       "  <thead>\n",
       "    <tr style=\"text-align: right;\">\n",
       "      <th></th>\n",
       "      <th>mpg</th>\n",
       "      <th>engineSize</th>\n",
       "      <th>mpg:mileage</th>\n",
       "      <th>engineSize:tax</th>\n",
       "      <th>year</th>\n",
       "      <th>mileage</th>\n",
       "      <th>year:mileage</th>\n",
       "      <th>tax</th>\n",
       "      <th>transmission_Manual</th>\n",
       "      <th>model_R8</th>\n",
       "    </tr>\n",
       "  </thead>\n",
       "  <tbody>\n",
       "    <tr>\n",
       "      <td>9051</td>\n",
       "      <td>0.305195</td>\n",
       "      <td>0.113208</td>\n",
       "      <td>0.090134</td>\n",
       "      <td>0.008911</td>\n",
       "      <td>2015</td>\n",
       "      <td>0.084753</td>\n",
       "      <td>0.085048</td>\n",
       "      <td>0.034483</td>\n",
       "      <td>1</td>\n",
       "      <td>0</td>\n",
       "    </tr>\n",
       "    <tr>\n",
       "      <td>6969</td>\n",
       "      <td>0.197166</td>\n",
       "      <td>0.075472</td>\n",
       "      <td>0.043902</td>\n",
       "      <td>0.058480</td>\n",
       "      <td>2017</td>\n",
       "      <td>0.055725</td>\n",
       "      <td>0.055974</td>\n",
       "      <td>0.258621</td>\n",
       "      <td>1</td>\n",
       "      <td>0</td>\n",
       "    </tr>\n",
       "  </tbody>\n",
       "</table>\n",
       "</div>"
      ],
      "text/plain": [
       "           mpg  engineSize  mpg:mileage  engineSize:tax  year   mileage  \\\n",
       "9051  0.305195    0.113208     0.090134        0.008911  2015  0.084753   \n",
       "6969  0.197166    0.075472     0.043902        0.058480  2017  0.055725   \n",
       "\n",
       "      year:mileage       tax  transmission_Manual  model_R8  \n",
       "9051      0.085048  0.034483                    1         0  \n",
       "6969      0.055974  0.258621                    1         0  "
      ]
     },
     "execution_count": 222,
     "metadata": {},
     "output_type": "execute_result"
    }
   ],
   "source": [
    "X_train.head(2)"
   ]
  },
  {
   "cell_type": "code",
   "execution_count": 224,
   "metadata": {},
   "outputs": [],
   "source": [
    "rfr = RandomForestRegressor(bootstrap = True,\n",
    " max_depth = 20,\n",
    " max_features = 'log2',\n",
    " n_estimators = 200)"
   ]
  },
  {
   "cell_type": "code",
   "execution_count": 227,
   "metadata": {},
   "outputs": [],
   "source": [
    "cv_results = cross_val_score(updated_rfr, X_train, y_train, cv = 5)"
   ]
  },
  {
   "cell_type": "code",
   "execution_count": 228,
   "metadata": {},
   "outputs": [
    {
     "data": {
      "text/plain": [
       "0.9355236379490487"
      ]
     },
     "execution_count": 228,
     "metadata": {},
     "output_type": "execute_result"
    }
   ],
   "source": [
    "cv_results.mean()"
   ]
  },
  {
   "cell_type": "markdown",
   "metadata": {},
   "source": [
    "performance did drop slightly by 2%. Let's stick with more features"
   ]
  },
  {
   "cell_type": "markdown",
   "metadata": {},
   "source": [
    "## Conclusion"
   ]
  },
  {
   "cell_type": "markdown",
   "metadata": {},
   "source": [
    "After testing linear regression and random forest models on the UK Audi car sales data, it is clear that the random forest is the better choice for predicting Audi car prices in the UK. The random forest model results in score of 95% whereas the linear regression results in a score of 91%. Both are good, but the linear regression model will need additional feature transformations in order to improve."
   ]
  },
  {
   "cell_type": "markdown",
   "metadata": {},
   "source": [
    "One predictor missing from the data that may of of use is location of sale. Location could be one of, or a whole of, city, street, and postal code. There is a possibility that location affects prices as well, and may account for some of the outliers in the residual plots."
   ]
  },
  {
   "cell_type": "markdown",
   "metadata": {},
   "source": [
    "The random forest model may now be implemented in a pipeline to predict prices on UK Audi used cars"
   ]
  }
 ],
 "metadata": {
  "kernelspec": {
   "display_name": "Python 3",
   "language": "python",
   "name": "python3"
  },
  "language_info": {
   "codemirror_mode": {
    "name": "ipython",
    "version": 3
   },
   "file_extension": ".py",
   "mimetype": "text/x-python",
   "name": "python",
   "nbconvert_exporter": "python",
   "pygments_lexer": "ipython3",
   "version": "3.7.4"
  }
 },
 "nbformat": 4,
 "nbformat_minor": 4
}
